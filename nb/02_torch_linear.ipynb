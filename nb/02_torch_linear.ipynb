{
 "cells": [
  {
   "cell_type": "code",
   "execution_count": 1,
   "id": "9670cece-c681-422e-8148-49b634cda4c9",
   "metadata": {},
   "outputs": [],
   "source": [
    "from sklearn.model_selection import ShuffleSplit\n",
    "\n",
    "from mne import Epochs, pick_types, events_from_annotations\n",
    "from mne.io import concatenate_raws, read_raw_edf\n",
    "from mne.datasets import eegbci\n",
    "\n",
    "\n",
    "import torch\n",
    "import torch.optim as optim\n",
    "from torch.utils.data import Dataset, DataLoader\n",
    "from torch.utils.data import Subset\n",
    "from torch import nn\n",
    "import torch.nn.functional as F\n",
    "from torch.utils.data import RandomSampler\n",
    "from torch.utils.data import SequentialSampler\n",
    "\n",
    "\n",
    "import os, sys\n",
    "sys.path.insert(1, os.path.abspath(os.path.join(os.getcwd(), os.pardir, \"src\"))) \n",
    "from common import EpochsDataset\n",
    "\n",
    "\n",
    "from common import train"
   ]
  },
  {
   "cell_type": "code",
   "execution_count": 2,
   "id": "9912f82c-8966-4b66-b8a2-fac65dcecea8",
   "metadata": {},
   "outputs": [
    {
     "name": "stdout",
     "output_type": "stream",
     "text": [
      "Using default location ~/mne_data for EEGBCI...\n",
      "Creating ~/mne_data\n"
     ]
    },
    {
     "name": "stderr",
     "output_type": "stream",
     "text": [
      "Downloading file 'S001/S001R06.edf' from 'https://physionet.org/files/eegmmidb/1.0.0/S001/S001R06.edf' to '/root/mne_data/MNE-eegbci-data/files/eegmmidb/1.0.0'.\n"
     ]
    },
    {
     "name": "stdout",
     "output_type": "stream",
     "text": [
      "Do you want to set the path:\n",
      "    /root/mne_data\n",
      "as the default EEGBCI dataset path in the mne-python config [y]/n? y\n",
      "Attempting to create new mne-python configuration file:\n",
      "/root/.mne/mne-python.json\n"
     ]
    },
    {
     "name": "stderr",
     "output_type": "stream",
     "text": [
      "Downloading file 'S001/S001R10.edf' from 'https://physionet.org/files/eegmmidb/1.0.0/S001/S001R10.edf' to '/root/mne_data/MNE-eegbci-data/files/eegmmidb/1.0.0'.\n",
      "Downloading file 'S001/S001R14.edf' from 'https://physionet.org/files/eegmmidb/1.0.0/S001/S001R14.edf' to '/root/mne_data/MNE-eegbci-data/files/eegmmidb/1.0.0'.\n"
     ]
    },
    {
     "name": "stdout",
     "output_type": "stream",
     "text": [
      "Extracting EDF parameters from /root/mne_data/MNE-eegbci-data/files/eegmmidb/1.0.0/S001/S001R06.edf...\n",
      "EDF file detected\n",
      "Setting channel info structure...\n",
      "Creating raw.info structure...\n",
      "Reading 0 ... 19999  =      0.000 ...   124.994 secs...\n",
      "Extracting EDF parameters from /root/mne_data/MNE-eegbci-data/files/eegmmidb/1.0.0/S001/S001R10.edf...\n",
      "EDF file detected\n",
      "Setting channel info structure...\n",
      "Creating raw.info structure...\n",
      "Reading 0 ... 19999  =      0.000 ...   124.994 secs...\n",
      "Extracting EDF parameters from /root/mne_data/MNE-eegbci-data/files/eegmmidb/1.0.0/S001/S001R14.edf...\n",
      "EDF file detected\n",
      "Setting channel info structure...\n",
      "Creating raw.info structure...\n",
      "Reading 0 ... 19999  =      0.000 ...   124.994 secs...\n",
      "Filtering raw data in 3 contiguous segments\n",
      "Setting up band-pass filter from 7 - 30 Hz\n",
      "\n",
      "FIR filter parameters\n",
      "---------------------\n",
      "Designing a one-pass, zero-phase, non-causal bandpass filter:\n",
      "- Windowed time-domain design (firwin) method\n",
      "- Hamming window with 0.0194 passband ripple and 53 dB stopband attenuation\n",
      "- Lower passband edge: 7.00\n",
      "- Lower transition bandwidth: 2.00 Hz (-6 dB cutoff frequency: 6.00 Hz)\n",
      "- Upper passband edge: 30.00 Hz\n",
      "- Upper transition bandwidth: 7.50 Hz (-6 dB cutoff frequency: 33.75 Hz)\n",
      "- Filter length: 265 samples (1.656 sec)\n",
      "\n",
      "Used Annotations descriptions: ['T0', 'T1', 'T2']\n",
      "Not setting metadata\n",
      "45 matching events found\n",
      "No baseline correction applied\n",
      "0 projection items activated\n",
      "Using data from preloaded Raw for 45 events and 801 original time points ...\n",
      "0 bad epochs dropped\n"
     ]
    }
   ],
   "source": [
    "# #############################################################################\n",
    "# # Set parameters and read data\n",
    "\n",
    "# avoid classification of evoked responses by using epochs that start 1s after\n",
    "# cue onset.\n",
    "\n",
    "\n",
    "def get_data():\n",
    "    tmin, tmax = -1., 4.\n",
    "    event_id = dict(hands=2, feet=3)\n",
    "    subject = 1\n",
    "    runs = [6, 10, 14]  # motor imagery: hands vs feet\n",
    "\n",
    "    raw_fnames = eegbci.load_data(subject, runs)\n",
    "    raw = concatenate_raws([read_raw_edf(f, preload=True) for f in raw_fnames])\n",
    "\n",
    "    # strip channel names of \".\" characters\n",
    "    raw.rename_channels(lambda x: x.strip('.'))\n",
    "\n",
    "    # Apply band-pass filter\n",
    "    raw.filter(7., 30., fir_design='firwin', skip_by_annotation='edge')\n",
    "\n",
    "    events, _ = events_from_annotations(raw)\n",
    "\n",
    "    picks = pick_types(raw.info, meg=False, eeg=True, stim=False, eog=False,\n",
    "                       exclude='bads')\n",
    "\n",
    "    # Read epochs (train will be done only between 1 and 2s)\n",
    "    # Testing will be done with a running classifier\n",
    "    epochs = Epochs(raw, events, event_id, tmin, tmax, proj=True, picks=picks,\n",
    "                    baseline=None, preload=True)\n",
    "    epochs.crop(tmin=1., tmax=None)\n",
    "    labels = epochs.events[:, 2] - 2\n",
    "    return epochs.get_data()[:, :, :256], labels\n",
    "\n",
    "\n",
    "epochs_data, labels = get_data()"
   ]
  },
  {
   "cell_type": "code",
   "execution_count": 3,
   "id": "849dfe7e-2553-4ec8-9c10-a9628a9dba97",
   "metadata": {},
   "outputs": [],
   "source": [
    "cv = ShuffleSplit(10, test_size=0.2, random_state=42)\n",
    "cv_split = cv.split(epochs_data)\n",
    "train_idx, test_idx = next(cv_split)"
   ]
  },
  {
   "cell_type": "code",
   "execution_count": 4,
   "id": "461f8d11-ae8e-4e4e-9354-ccf167dc57fe",
   "metadata": {},
   "outputs": [],
   "source": [
    "def scale(X):\n",
    "    \"\"\"Standard scaling of data along the last dimention.\n",
    "\n",
    "    Parameters\n",
    "    ----------\n",
    "    X : array, shape (n_channels, n_times)\n",
    "        The input signals.\n",
    "\n",
    "    Returns\n",
    "    -------\n",
    "    X_t : array, shape (n_channels, n_times)\n",
    "        The scaled signals.\n",
    "    \"\"\"\n",
    "    return X / 2e-5"
   ]
  },
  {
   "cell_type": "code",
   "execution_count": 5,
   "id": "62df9a94-a4b4-40b0-9f85-94ede9eee41b",
   "metadata": {},
   "outputs": [],
   "source": [
    "dataset = EpochsDataset(epochs_data, labels, transform=scale)\n",
    "\n",
    "ds_train, ds_valid = Subset(dataset, train_idx), Subset(dataset, test_idx)\n",
    "\n",
    "batch_size_train = len(ds_train)\n",
    "batch_size_valid = len(ds_valid)\n",
    "sampler_train = RandomSampler(ds_train)\n",
    "sampler_valid = SequentialSampler(ds_valid)\n",
    "\n",
    "# create loaders\n",
    "num_workers = 0\n",
    "loader_train = \\\n",
    "    DataLoader(ds_train, batch_size=batch_size_train,\n",
    "               num_workers=num_workers, sampler=sampler_train)\n",
    "loader_valid = \\\n",
    "    DataLoader(ds_valid, batch_size=batch_size_valid,\n",
    "               num_workers=num_workers, sampler=sampler_valid)\n"
   ]
  },
  {
   "cell_type": "code",
   "execution_count": 6,
   "id": "1585d161-28ae-4cfb-a282-ba60d31e9408",
   "metadata": {},
   "outputs": [],
   "source": [
    "dataset = EpochsDataset(epochs_data, labels, transform=scale)\n",
    "\n",
    "ds_train, ds_valid = Subset(dataset, train_idx), Subset(dataset, test_idx)\n",
    "\n",
    "batch_size_train = len(ds_train)\n",
    "batch_size_valid = len(ds_valid)\n",
    "sampler_train = RandomSampler(ds_train)\n",
    "sampler_valid = SequentialSampler(ds_valid)\n",
    "\n",
    "# create loaders\n",
    "num_workers = 0\n",
    "loader_train = \\\n",
    "    DataLoader(ds_train, batch_size=batch_size_train,\n",
    "               num_workers=num_workers, sampler=sampler_train)\n",
    "loader_valid = \\\n",
    "    DataLoader(ds_valid, batch_size=batch_size_valid,\n",
    "               num_workers=num_workers, sampler=sampler_valid)"
   ]
  },
  {
   "cell_type": "markdown",
   "id": "ee660e1b-7cc8-4eb0-9de7-a70e4ca0f504",
   "metadata": {},
   "source": [
    "Model definition"
   ]
  },
  {
   "cell_type": "code",
   "execution_count": 7,
   "id": "c1c33f31-36c0-499e-8c6b-319447a197c3",
   "metadata": {},
   "outputs": [],
   "source": [
    "class EEGNet(nn.Module):\n",
    "    def __init__(self):\n",
    "        super(EEGNet, self).__init__()\n",
    "        self.T = 120\n",
    "        \n",
    "        # Layer 1\n",
    "        self.conv1 = nn.Conv2d(1, 16, (1, 64), padding = 0)\n",
    "        self.batchnorm1 = nn.BatchNorm2d(16, False)\n",
    "        \n",
    "        # Layer 2\n",
    "        self.padding1 = nn.ZeroPad2d((16, 17, 0, 1))\n",
    "        self.conv2 = nn.Conv2d(1, 4, (2, 32))\n",
    "        self.batchnorm2 = nn.BatchNorm2d(4, False)\n",
    "        self.pooling2 = nn.MaxPool2d(2, 4)\n",
    "        \n",
    "        # Layer 3\n",
    "        self.padding2 = nn.ZeroPad2d((2, 1, 4, 3))\n",
    "        self.conv3 = nn.Conv2d(4, 4, (8, 4))\n",
    "        self.batchnorm3 = nn.BatchNorm2d(4, False)\n",
    "        self.pooling3 = nn.MaxPool2d((2, 4))\n",
    "        \n",
    "        # FC Layer\n",
    "        # NOTE: This dimension will depend on the number of timestamps per sample in your data.\n",
    "        # I have 120 timepoints. \n",
    "        self.fc1 = nn.Linear(4*2*7, 1)\n",
    "        \n",
    "\n",
    "    def forward(self, x):\n",
    "        # Layer 1\n",
    "        x = F.elu(self.conv1(x))\n",
    "        x = self.batchnorm1(x)\n",
    "        x = F.dropout(x, 0.25)\n",
    "        x = x.permute(0, 3, 1, 2)\n",
    "        \n",
    "        # Layer 2\n",
    "        x = self.padding1(x)\n",
    "        x = F.elu(self.conv2(x))\n",
    "        x = self.batchnorm2(x)\n",
    "        x = F.dropout(x, 0.25)\n",
    "        x = self.pooling2(x)\n",
    "        \n",
    "        # Layer 3\n",
    "        x = self.padding2(x)\n",
    "        x = F.elu(self.conv3(x))\n",
    "        x = self.batchnorm3(x)\n",
    "        x = F.dropout(x, 0.25)\n",
    "        x = self.pooling3(x)\n",
    "        \n",
    "        # FC Layer\n",
    "        x = x.view(-1, 4*2*7)\n",
    "        x = F.sigmoid(self.fc1(x))\n",
    "        return x"
   ]
  },
  {
   "cell_type": "code",
   "execution_count": 8,
   "id": "ced4e5d3-ce82-4530-919c-6fc97a19717c",
   "metadata": {},
   "outputs": [
    {
     "name": "stdout",
     "output_type": "stream",
     "text": [
      "Using device: cuda\n"
     ]
    }
   ],
   "source": [
    "device = torch.device('cuda' if torch.cuda.is_available() else 'cpu')\n",
    "print('Using device:', device)\n",
    "\n",
    "model = EEGNet()"
   ]
  },
  {
   "cell_type": "code",
   "execution_count": 24,
   "id": "62b8ed23",
   "metadata": {},
   "outputs": [
    {
     "ename": "RuntimeError",
     "evalue": "Given input size: (4x4x1). Calculated output size: (4x2x0). Output size is too small",
     "output_type": "error",
     "traceback": [
      "\u001b[0;31m---------------------------------------------------------------------------\u001b[0m",
      "\u001b[0;31mRuntimeError\u001b[0m                              Traceback (most recent call last)",
      "Input \u001b[0;32mIn [24]\u001b[0m, in \u001b[0;36m<cell line: 4>\u001b[0;34m()\u001b[0m\n\u001b[1;32m      2\u001b[0m n_samples_test \u001b[38;5;241m=\u001b[39m \u001b[38;5;241m16\u001b[39m\n\u001b[1;32m      3\u001b[0m y_test \u001b[38;5;241m=\u001b[39m torch\u001b[38;5;241m.\u001b[39mrandint(\u001b[38;5;241m0\u001b[39m, \u001b[38;5;241m2\u001b[39m, (n_samples_test,))\n\u001b[0;32m----> 4\u001b[0m y_pred \u001b[38;5;241m=\u001b[39m \u001b[43mmodel\u001b[49m\u001b[38;5;241;43m.\u001b[39;49m\u001b[43mforward\u001b[49m\u001b[43m(\u001b[49m\u001b[43mtorch\u001b[49m\u001b[38;5;241;43m.\u001b[39;49m\u001b[43mrandn\u001b[49m\u001b[43m(\u001b[49m\u001b[43mn_samples_test\u001b[49m\u001b[43m,\u001b[49m\u001b[43m \u001b[49m\u001b[38;5;241;43m1\u001b[39;49m\u001b[43m,\u001b[49m\u001b[43m \u001b[49m\u001b[38;5;241;43m1\u001b[39;49m\u001b[43m,\u001b[49m\u001b[43m \u001b[49m\u001b[38;5;241;43m64\u001b[39;49m\u001b[43m)\u001b[49m\u001b[43m)\u001b[49m\n\u001b[1;32m      5\u001b[0m output \u001b[38;5;241m=\u001b[39m F\u001b[38;5;241m.\u001b[39mnll_loss(y_pred, y_test)\n\u001b[1;32m      6\u001b[0m _, top_class \u001b[38;5;241m=\u001b[39m y_pred\u001b[38;5;241m.\u001b[39mtopk(\u001b[38;5;241m1\u001b[39m, dim\u001b[38;5;241m=\u001b[39m\u001b[38;5;241m1\u001b[39m)\n",
      "Input \u001b[0;32mIn [7]\u001b[0m, in \u001b[0;36mEEGNet.forward\u001b[0;34m(self, x)\u001b[0m\n\u001b[1;32m     45\u001b[0m x \u001b[38;5;241m=\u001b[39m \u001b[38;5;28mself\u001b[39m\u001b[38;5;241m.\u001b[39mbatchnorm3(x)\n\u001b[1;32m     46\u001b[0m x \u001b[38;5;241m=\u001b[39m F\u001b[38;5;241m.\u001b[39mdropout(x, \u001b[38;5;241m0.25\u001b[39m)\n\u001b[0;32m---> 47\u001b[0m x \u001b[38;5;241m=\u001b[39m \u001b[38;5;28;43mself\u001b[39;49m\u001b[38;5;241;43m.\u001b[39;49m\u001b[43mpooling3\u001b[49m\u001b[43m(\u001b[49m\u001b[43mx\u001b[49m\u001b[43m)\u001b[49m\n\u001b[1;32m     49\u001b[0m \u001b[38;5;66;03m# FC Layer\u001b[39;00m\n\u001b[1;32m     50\u001b[0m x \u001b[38;5;241m=\u001b[39m x\u001b[38;5;241m.\u001b[39mview(\u001b[38;5;241m-\u001b[39m\u001b[38;5;241m1\u001b[39m, \u001b[38;5;241m4\u001b[39m\u001b[38;5;241m*\u001b[39m\u001b[38;5;241m2\u001b[39m\u001b[38;5;241m*\u001b[39m\u001b[38;5;241m7\u001b[39m)\n",
      "File \u001b[0;32m/opt/conda/lib/python3.8/site-packages/torch/nn/modules/module.py:1110\u001b[0m, in \u001b[0;36mModule._call_impl\u001b[0;34m(self, *input, **kwargs)\u001b[0m\n\u001b[1;32m   1106\u001b[0m \u001b[38;5;66;03m# If we don't have any hooks, we want to skip the rest of the logic in\u001b[39;00m\n\u001b[1;32m   1107\u001b[0m \u001b[38;5;66;03m# this function, and just call forward.\u001b[39;00m\n\u001b[1;32m   1108\u001b[0m \u001b[38;5;28;01mif\u001b[39;00m \u001b[38;5;129;01mnot\u001b[39;00m (\u001b[38;5;28mself\u001b[39m\u001b[38;5;241m.\u001b[39m_backward_hooks \u001b[38;5;129;01mor\u001b[39;00m \u001b[38;5;28mself\u001b[39m\u001b[38;5;241m.\u001b[39m_forward_hooks \u001b[38;5;129;01mor\u001b[39;00m \u001b[38;5;28mself\u001b[39m\u001b[38;5;241m.\u001b[39m_forward_pre_hooks \u001b[38;5;129;01mor\u001b[39;00m _global_backward_hooks\n\u001b[1;32m   1109\u001b[0m         \u001b[38;5;129;01mor\u001b[39;00m _global_forward_hooks \u001b[38;5;129;01mor\u001b[39;00m _global_forward_pre_hooks):\n\u001b[0;32m-> 1110\u001b[0m     \u001b[38;5;28;01mreturn\u001b[39;00m \u001b[43mforward_call\u001b[49m\u001b[43m(\u001b[49m\u001b[38;5;241;43m*\u001b[39;49m\u001b[38;5;28;43minput\u001b[39;49m\u001b[43m,\u001b[49m\u001b[43m \u001b[49m\u001b[38;5;241;43m*\u001b[39;49m\u001b[38;5;241;43m*\u001b[39;49m\u001b[43mkwargs\u001b[49m\u001b[43m)\u001b[49m\n\u001b[1;32m   1111\u001b[0m \u001b[38;5;66;03m# Do not call functions when jit is used\u001b[39;00m\n\u001b[1;32m   1112\u001b[0m full_backward_hooks, non_full_backward_hooks \u001b[38;5;241m=\u001b[39m [], []\n",
      "File \u001b[0;32m/opt/conda/lib/python3.8/site-packages/torch/nn/modules/pooling.py:162\u001b[0m, in \u001b[0;36mMaxPool2d.forward\u001b[0;34m(self, input)\u001b[0m\n\u001b[1;32m    161\u001b[0m \u001b[38;5;28;01mdef\u001b[39;00m \u001b[38;5;21mforward\u001b[39m(\u001b[38;5;28mself\u001b[39m, \u001b[38;5;28minput\u001b[39m: Tensor):\n\u001b[0;32m--> 162\u001b[0m     \u001b[38;5;28;01mreturn\u001b[39;00m \u001b[43mF\u001b[49m\u001b[38;5;241;43m.\u001b[39;49m\u001b[43mmax_pool2d\u001b[49m\u001b[43m(\u001b[49m\u001b[38;5;28;43minput\u001b[39;49m\u001b[43m,\u001b[49m\u001b[43m \u001b[49m\u001b[38;5;28;43mself\u001b[39;49m\u001b[38;5;241;43m.\u001b[39;49m\u001b[43mkernel_size\u001b[49m\u001b[43m,\u001b[49m\u001b[43m \u001b[49m\u001b[38;5;28;43mself\u001b[39;49m\u001b[38;5;241;43m.\u001b[39;49m\u001b[43mstride\u001b[49m\u001b[43m,\u001b[49m\n\u001b[1;32m    163\u001b[0m \u001b[43m                        \u001b[49m\u001b[38;5;28;43mself\u001b[39;49m\u001b[38;5;241;43m.\u001b[39;49m\u001b[43mpadding\u001b[49m\u001b[43m,\u001b[49m\u001b[43m \u001b[49m\u001b[38;5;28;43mself\u001b[39;49m\u001b[38;5;241;43m.\u001b[39;49m\u001b[43mdilation\u001b[49m\u001b[43m,\u001b[49m\u001b[43m \u001b[49m\u001b[38;5;28;43mself\u001b[39;49m\u001b[38;5;241;43m.\u001b[39;49m\u001b[43mceil_mode\u001b[49m\u001b[43m,\u001b[49m\n\u001b[1;32m    164\u001b[0m \u001b[43m                        \u001b[49m\u001b[38;5;28;43mself\u001b[39;49m\u001b[38;5;241;43m.\u001b[39;49m\u001b[43mreturn_indices\u001b[49m\u001b[43m)\u001b[49m\n",
      "File \u001b[0;32m/opt/conda/lib/python3.8/site-packages/torch/_jit_internal.py:422\u001b[0m, in \u001b[0;36mboolean_dispatch.<locals>.fn\u001b[0;34m(*args, **kwargs)\u001b[0m\n\u001b[1;32m    420\u001b[0m     \u001b[38;5;28;01mreturn\u001b[39;00m if_true(\u001b[38;5;241m*\u001b[39margs, \u001b[38;5;241m*\u001b[39m\u001b[38;5;241m*\u001b[39mkwargs)\n\u001b[1;32m    421\u001b[0m \u001b[38;5;28;01melse\u001b[39;00m:\n\u001b[0;32m--> 422\u001b[0m     \u001b[38;5;28;01mreturn\u001b[39;00m \u001b[43mif_false\u001b[49m\u001b[43m(\u001b[49m\u001b[38;5;241;43m*\u001b[39;49m\u001b[43margs\u001b[49m\u001b[43m,\u001b[49m\u001b[43m \u001b[49m\u001b[38;5;241;43m*\u001b[39;49m\u001b[38;5;241;43m*\u001b[39;49m\u001b[43mkwargs\u001b[49m\u001b[43m)\u001b[49m\n",
      "File \u001b[0;32m/opt/conda/lib/python3.8/site-packages/torch/nn/functional.py:797\u001b[0m, in \u001b[0;36m_max_pool2d\u001b[0;34m(input, kernel_size, stride, padding, dilation, ceil_mode, return_indices)\u001b[0m\n\u001b[1;32m    795\u001b[0m \u001b[38;5;28;01mif\u001b[39;00m stride \u001b[38;5;129;01mis\u001b[39;00m \u001b[38;5;28;01mNone\u001b[39;00m:\n\u001b[1;32m    796\u001b[0m     stride \u001b[38;5;241m=\u001b[39m torch\u001b[38;5;241m.\u001b[39mjit\u001b[38;5;241m.\u001b[39mannotate(List[\u001b[38;5;28mint\u001b[39m], [])\n\u001b[0;32m--> 797\u001b[0m \u001b[38;5;28;01mreturn\u001b[39;00m \u001b[43mtorch\u001b[49m\u001b[38;5;241;43m.\u001b[39;49m\u001b[43mmax_pool2d\u001b[49m\u001b[43m(\u001b[49m\u001b[38;5;28;43minput\u001b[39;49m\u001b[43m,\u001b[49m\u001b[43m \u001b[49m\u001b[43mkernel_size\u001b[49m\u001b[43m,\u001b[49m\u001b[43m \u001b[49m\u001b[43mstride\u001b[49m\u001b[43m,\u001b[49m\u001b[43m \u001b[49m\u001b[43mpadding\u001b[49m\u001b[43m,\u001b[49m\u001b[43m \u001b[49m\u001b[43mdilation\u001b[49m\u001b[43m,\u001b[49m\u001b[43m \u001b[49m\u001b[43mceil_mode\u001b[49m\u001b[43m)\u001b[49m\n",
      "\u001b[0;31mRuntimeError\u001b[0m: Given input size: (4x4x1). Calculated output size: (4x2x0). Output size is too small"
     ]
    }
   ],
   "source": [
    "# Test model works:\n",
    "n_samples_test = 16\n",
    "y_test = torch.randint(0, 2, (n_samples_test,))\n",
    "y_pred = model.forward(torch.randn(n_samples_test, 1, 1, 64))\n",
    "output = F.nll_loss(y_pred, y_test)\n",
    "_, top_class = y_pred.topk(1, dim=1)"
   ]
  },
  {
   "cell_type": "markdown",
   "id": "4c3f4262-c640-4aca-aa5d-bac69422054f",
   "metadata": {},
   "source": [
    "Training"
   ]
  },
  {
   "cell_type": "code",
   "execution_count": 9,
   "id": "66c89ba0-0220-4e47-b383-6d5a88f7e9a7",
   "metadata": {},
   "outputs": [
    {
     "name": "stdout",
     "output_type": "stream",
     "text": [
      "\n",
      "Starting epoch 1 / 300\n"
     ]
    },
    {
     "name": "stderr",
     "output_type": "stream",
     "text": [
      "avg train loss: 0.7027: 100%|█████████████████████████████████████████████████████████████████████████████████████████████████████████████████████████████████████████████████████████| 1/1 [00:00<00:00, 74.67it/s]\n",
      "avg val loss: 0.8936: 100%|██████████████████████████████████████████████████████████████████████████████████████████████████████████████████████████████████████████████████████████| 1/1 [00:00<00:00, 271.53it/s]\n"
     ]
    },
    {
     "name": "stdout",
     "output_type": "stream",
     "text": [
      "---  Accuracy : 0.3333333432674408 \n",
      "\n",
      "\n",
      "best val loss inf -> 0.8936\n",
      "\n",
      "Starting epoch 2 / 300\n"
     ]
    },
    {
     "name": "stderr",
     "output_type": "stream",
     "text": [
      "avg train loss: 0.6968: 100%|█████████████████████████████████████████████████████████████████████████████████████████████████████████████████████████████████████████████████████████| 1/1 [00:00<00:00, 92.07it/s]\n",
      "avg val loss: 0.8493: 100%|██████████████████████████████████████████████████████████████████████████████████████████████████████████████████████████████████████████████████████████| 1/1 [00:00<00:00, 326.71it/s]\n"
     ]
    },
    {
     "name": "stdout",
     "output_type": "stream",
     "text": [
      "---  Accuracy : 0.3333333432674408 \n",
      "\n",
      "\n",
      "best val loss 0.8936 -> 0.8493\n",
      "\n",
      "Starting epoch 3 / 300\n"
     ]
    },
    {
     "name": "stderr",
     "output_type": "stream",
     "text": [
      "avg train loss: 0.6907: 100%|█████████████████████████████████████████████████████████████████████████████████████████████████████████████████████████████████████████████████████████| 1/1 [00:00<00:00, 76.85it/s]\n",
      "avg val loss: 0.8074: 100%|██████████████████████████████████████████████████████████████████████████████████████████████████████████████████████████████████████████████████████████| 1/1 [00:00<00:00, 307.88it/s]\n"
     ]
    },
    {
     "name": "stdout",
     "output_type": "stream",
     "text": [
      "---  Accuracy : 0.2222222238779068 \n",
      "\n",
      "\n",
      "best val loss 0.8493 -> 0.8074\n",
      "\n",
      "Starting epoch 4 / 300\n"
     ]
    },
    {
     "name": "stderr",
     "output_type": "stream",
     "text": [
      "avg train loss: 0.6893: 100%|████████████████████████████████████████████████████████████████████████████████████████████████████████████████████████████████████████████████████████| 1/1 [00:00<00:00, 105.63it/s]\n",
      "avg val loss: 0.7789: 100%|██████████████████████████████████████████████████████████████████████████████████████████████████████████████████████████████████████████████████████████| 1/1 [00:00<00:00, 313.69it/s]\n"
     ]
    },
    {
     "name": "stdout",
     "output_type": "stream",
     "text": [
      "---  Accuracy : 0.2222222238779068 \n",
      "\n",
      "\n",
      "best val loss 0.8074 -> 0.7789\n",
      "\n",
      "Starting epoch 5 / 300\n"
     ]
    },
    {
     "name": "stderr",
     "output_type": "stream",
     "text": [
      "avg train loss: 0.6917: 100%|████████████████████████████████████████████████████████████████████████████████████████████████████████████████████████████████████████████████████████| 1/1 [00:00<00:00, 114.55it/s]\n",
      "avg val loss: 0.7667: 100%|██████████████████████████████████████████████████████████████████████████████████████████████████████████████████████████████████████████████████████████| 1/1 [00:00<00:00, 269.92it/s]\n"
     ]
    },
    {
     "name": "stdout",
     "output_type": "stream",
     "text": [
      "---  Accuracy : 0.1111111119389534 \n",
      "\n",
      "\n",
      "best val loss 0.7789 -> 0.7667\n",
      "\n",
      "Starting epoch 6 / 300\n"
     ]
    },
    {
     "name": "stderr",
     "output_type": "stream",
     "text": [
      "avg train loss: 0.6928: 100%|█████████████████████████████████████████████████████████████████████████████████████████████████████████████████████████████████████████████████████████| 1/1 [00:00<00:00, 84.60it/s]\n",
      "avg val loss: 0.7699: 100%|██████████████████████████████████████████████████████████████████████████████████████████████████████████████████████████████████████████████████████████| 1/1 [00:00<00:00, 343.01it/s]\n"
     ]
    },
    {
     "name": "stdout",
     "output_type": "stream",
     "text": [
      "---  Accuracy : 0.1111111119389534 \n",
      "\n",
      "Waiting += 1\n",
      "\n",
      "Starting epoch 7 / 300\n"
     ]
    },
    {
     "name": "stderr",
     "output_type": "stream",
     "text": [
      "avg train loss: 0.6898: 100%|█████████████████████████████████████████████████████████████████████████████████████████████████████████████████████████████████████████████████████████| 1/1 [00:00<00:00, 91.90it/s]\n",
      "avg val loss: 0.7862: 100%|██████████████████████████████████████████████████████████████████████████████████████████████████████████████████████████████████████████████████████████| 1/1 [00:00<00:00, 276.85it/s]\n"
     ]
    },
    {
     "name": "stdout",
     "output_type": "stream",
     "text": [
      "---  Accuracy : 0.2222222238779068 \n",
      "\n",
      "Waiting += 1\n",
      "\n",
      "Starting epoch 8 / 300\n"
     ]
    },
    {
     "name": "stderr",
     "output_type": "stream",
     "text": [
      "avg train loss: 0.6842: 100%|█████████████████████████████████████████████████████████████████████████████████████████████████████████████████████████████████████████████████████████| 1/1 [00:00<00:00, 89.80it/s]\n",
      "avg val loss: 0.8112: 100%|██████████████████████████████████████████████████████████████████████████████████████████████████████████████████████████████████████████████████████████| 1/1 [00:00<00:00, 316.46it/s]\n"
     ]
    },
    {
     "name": "stdout",
     "output_type": "stream",
     "text": [
      "---  Accuracy : 0.2222222238779068 \n",
      "\n",
      "Waiting += 1\n",
      "\n",
      "Starting epoch 9 / 300\n"
     ]
    },
    {
     "name": "stderr",
     "output_type": "stream",
     "text": [
      "avg train loss: 0.6798: 100%|████████████████████████████████████████████████████████████████████████████████████████████████████████████████████████████████████████████████████████| 1/1 [00:00<00:00, 101.93it/s]\n",
      "avg val loss: 0.8371: 100%|██████████████████████████████████████████████████████████████████████████████████████████████████████████████████████████████████████████████████████████| 1/1 [00:00<00:00, 223.04it/s]\n"
     ]
    },
    {
     "name": "stdout",
     "output_type": "stream",
     "text": [
      "---  Accuracy : 0.3333333432674408 \n",
      "\n",
      "Waiting += 1\n",
      "\n",
      "Starting epoch 10 / 300\n"
     ]
    },
    {
     "name": "stderr",
     "output_type": "stream",
     "text": [
      "avg train loss: 0.6781: 100%|█████████████████████████████████████████████████████████████████████████████████████████████████████████████████████████████████████████████████████████| 1/1 [00:00<00:00, 99.33it/s]\n",
      "avg val loss: 0.8549: 100%|██████████████████████████████████████████████████████████████████████████████████████████████████████████████████████████████████████████████████████████| 1/1 [00:00<00:00, 279.81it/s]\n"
     ]
    },
    {
     "name": "stdout",
     "output_type": "stream",
     "text": [
      "---  Accuracy : 0.3333333432674408 \n",
      "\n",
      "Waiting += 1\n",
      "\n",
      "Starting epoch 11 / 300\n"
     ]
    },
    {
     "name": "stderr",
     "output_type": "stream",
     "text": [
      "avg train loss: 0.6773: 100%|████████████████████████████████████████████████████████████████████████████████████████████████████████████████████████████████████████████████████████| 1/1 [00:00<00:00, 129.98it/s]\n",
      "avg val loss: 0.8582: 100%|██████████████████████████████████████████████████████████████████████████████████████████████████████████████████████████████████████████████████████████| 1/1 [00:00<00:00, 218.45it/s]\n"
     ]
    },
    {
     "name": "stdout",
     "output_type": "stream",
     "text": [
      "---  Accuracy : 0.3333333432674408 \n",
      "\n",
      "Waiting += 1\n",
      "\n",
      "Starting epoch 12 / 300\n"
     ]
    },
    {
     "name": "stderr",
     "output_type": "stream",
     "text": [
      "avg train loss: 0.6751: 100%|████████████████████████████████████████████████████████████████████████████████████████████████████████████████████████████████████████████████████████| 1/1 [00:00<00:00, 129.06it/s]\n",
      "avg val loss: 0.8466: 100%|██████████████████████████████████████████████████████████████████████████████████████████████████████████████████████████████████████████████████████████| 1/1 [00:00<00:00, 385.58it/s]\n"
     ]
    },
    {
     "name": "stdout",
     "output_type": "stream",
     "text": [
      "---  Accuracy : 0.3333333432674408 \n",
      "\n",
      "Waiting += 1\n",
      "\n",
      "Starting epoch 13 / 300\n"
     ]
    },
    {
     "name": "stderr",
     "output_type": "stream",
     "text": [
      "avg train loss: 0.6706: 100%|████████████████████████████████████████████████████████████████████████████████████████████████████████████████████████████████████████████████████████| 1/1 [00:00<00:00, 105.03it/s]\n",
      "avg val loss: 0.8254: 100%|██████████████████████████████████████████████████████████████████████████████████████████████████████████████████████████████████████████████████████████| 1/1 [00:00<00:00, 143.10it/s]\n"
     ]
    },
    {
     "name": "stdout",
     "output_type": "stream",
     "text": [
      "---  Accuracy : 0.3333333432674408 \n",
      "\n",
      "Waiting += 1\n",
      "\n",
      "Starting epoch 14 / 300\n"
     ]
    },
    {
     "name": "stderr",
     "output_type": "stream",
     "text": [
      "avg train loss: 0.6654: 100%|████████████████████████████████████████████████████████████████████████████████████████████████████████████████████████████████████████████████████████| 1/1 [00:00<00:00, 132.09it/s]\n",
      "avg val loss: 0.8018: 100%|██████████████████████████████████████████████████████████████████████████████████████████████████████████████████████████████████████████████████████████| 1/1 [00:00<00:00, 298.19it/s]\n"
     ]
    },
    {
     "name": "stdout",
     "output_type": "stream",
     "text": [
      "---  Accuracy : 0.2222222238779068 \n",
      "\n",
      "Waiting += 1\n",
      "\n",
      "Starting epoch 15 / 300\n"
     ]
    },
    {
     "name": "stderr",
     "output_type": "stream",
     "text": [
      "avg train loss: 0.6610: 100%|█████████████████████████████████████████████████████████████████████████████████████████████████████████████████████████████████████████████████████████| 1/1 [00:00<00:00, 92.64it/s]\n",
      "avg val loss: 0.7822: 100%|██████████████████████████████████████████████████████████████████████████████████████████████████████████████████████████████████████████████████████████| 1/1 [00:00<00:00, 380.99it/s]\n"
     ]
    },
    {
     "name": "stdout",
     "output_type": "stream",
     "text": [
      "---  Accuracy : 0.2222222238779068 \n",
      "\n",
      "Waiting += 1\n",
      "\n",
      "Starting epoch 16 / 300\n"
     ]
    },
    {
     "name": "stderr",
     "output_type": "stream",
     "text": [
      "avg train loss: 0.6581: 100%|████████████████████████████████████████████████████████████████████████████████████████████████████████████████████████████████████████████████████████| 1/1 [00:00<00:00, 112.82it/s]\n",
      "avg val loss: 0.7700: 100%|██████████████████████████████████████████████████████████████████████████████████████████████████████████████████████████████████████████████████████████| 1/1 [00:00<00:00, 312.96it/s]\n"
     ]
    },
    {
     "name": "stdout",
     "output_type": "stream",
     "text": [
      "---  Accuracy : 0.2222222238779068 \n",
      "\n",
      "Waiting += 1\n",
      "\n",
      "Starting epoch 17 / 300\n"
     ]
    },
    {
     "name": "stderr",
     "output_type": "stream",
     "text": [
      "avg train loss: 0.6557: 100%|█████████████████████████████████████████████████████████████████████████████████████████████████████████████████████████████████████████████████████████| 1/1 [00:00<00:00, 91.85it/s]\n",
      "avg val loss: 0.7660: 100%|██████████████████████████████████████████████████████████████████████████████████████████████████████████████████████████████████████████████████████████| 1/1 [00:00<00:00, 387.93it/s]\n"
     ]
    },
    {
     "name": "stdout",
     "output_type": "stream",
     "text": [
      "---  Accuracy : 0.1111111119389534 \n",
      "\n",
      "\n",
      "best val loss 0.7667 -> 0.7660\n",
      "\n",
      "Starting epoch 18 / 300\n"
     ]
    },
    {
     "name": "stderr",
     "output_type": "stream",
     "text": [
      "avg train loss: 0.6526: 100%|█████████████████████████████████████████████████████████████████████████████████████████████████████████████████████████████████████████████████████████| 1/1 [00:00<00:00, 86.08it/s]\n",
      "avg val loss: 0.7695: 100%|██████████████████████████████████████████████████████████████████████████████████████████████████████████████████████████████████████████████████████████| 1/1 [00:00<00:00, 333.17it/s]\n"
     ]
    },
    {
     "name": "stdout",
     "output_type": "stream",
     "text": [
      "---  Accuracy : 0.2222222238779068 \n",
      "\n",
      "Waiting += 1\n",
      "\n",
      "Starting epoch 19 / 300\n"
     ]
    },
    {
     "name": "stderr",
     "output_type": "stream",
     "text": [
      "avg train loss: 0.6485: 100%|█████████████████████████████████████████████████████████████████████████████████████████████████████████████████████████████████████████████████████████| 1/1 [00:00<00:00, 83.47it/s]\n",
      "avg val loss: 0.7788: 100%|██████████████████████████████████████████████████████████████████████████████████████████████████████████████████████████████████████████████████████████| 1/1 [00:00<00:00, 371.01it/s]\n"
     ]
    },
    {
     "name": "stdout",
     "output_type": "stream",
     "text": [
      "---  Accuracy : 0.2222222238779068 \n",
      "\n",
      "Waiting += 1\n",
      "\n",
      "Starting epoch 20 / 300\n"
     ]
    },
    {
     "name": "stderr",
     "output_type": "stream",
     "text": [
      "avg train loss: 0.6439: 100%|█████████████████████████████████████████████████████████████████████████████████████████████████████████████████████████████████████████████████████████| 1/1 [00:00<00:00, 94.75it/s]\n",
      "avg val loss: 0.7912: 100%|██████████████████████████████████████████████████████████████████████████████████████████████████████████████████████████████████████████████████████████| 1/1 [00:00<00:00, 358.52it/s]\n"
     ]
    },
    {
     "name": "stdout",
     "output_type": "stream",
     "text": [
      "---  Accuracy : 0.3333333432674408 \n",
      "\n",
      "Waiting += 1\n",
      "\n",
      "Starting epoch 21 / 300\n"
     ]
    },
    {
     "name": "stderr",
     "output_type": "stream",
     "text": [
      "avg train loss: 0.6401: 100%|████████████████████████████████████████████████████████████████████████████████████████████████████████████████████████████████████████████████████████| 1/1 [00:00<00:00, 111.24it/s]\n",
      "avg val loss: 0.8032: 100%|██████████████████████████████████████████████████████████████████████████████████████████████████████████████████████████████████████████████████████████| 1/1 [00:00<00:00, 230.15it/s]\n"
     ]
    },
    {
     "name": "stdout",
     "output_type": "stream",
     "text": [
      "---  Accuracy : 0.3333333432674408 \n",
      "\n",
      "Waiting += 1\n",
      "\n",
      "Starting epoch 22 / 300\n"
     ]
    },
    {
     "name": "stderr",
     "output_type": "stream",
     "text": [
      "avg train loss: 0.6373: 100%|████████████████████████████████████████████████████████████████████████████████████████████████████████████████████████████████████████████████████████| 1/1 [00:00<00:00, 124.40it/s]\n",
      "avg val loss: 0.8107: 100%|██████████████████████████████████████████████████████████████████████████████████████████████████████████████████████████████████████████████████████████| 1/1 [00:00<00:00, 267.56it/s]\n"
     ]
    },
    {
     "name": "stdout",
     "output_type": "stream",
     "text": [
      "---  Accuracy : 0.3333333432674408 \n",
      "\n",
      "Waiting += 1\n",
      "\n",
      "Starting epoch 23 / 300\n"
     ]
    },
    {
     "name": "stderr",
     "output_type": "stream",
     "text": [
      "avg train loss: 0.6352: 100%|████████████████████████████████████████████████████████████████████████████████████████████████████████████████████████████████████████████████████████| 1/1 [00:00<00:00, 119.59it/s]\n",
      "avg val loss: 0.8110: 100%|██████████████████████████████████████████████████████████████████████████████████████████████████████████████████████████████████████████████████████████| 1/1 [00:00<00:00, 252.64it/s]\n"
     ]
    },
    {
     "name": "stdout",
     "output_type": "stream",
     "text": [
      "---  Accuracy : 0.3333333432674408 \n",
      "\n",
      "Waiting += 1\n",
      "\n",
      "Starting epoch 24 / 300\n"
     ]
    },
    {
     "name": "stderr",
     "output_type": "stream",
     "text": [
      "avg train loss: 0.6329: 100%|████████████████████████████████████████████████████████████████████████████████████████████████████████████████████████████████████████████████████████| 1/1 [00:00<00:00, 106.48it/s]\n",
      "avg val loss: 0.8039: 100%|██████████████████████████████████████████████████████████████████████████████████████████████████████████████████████████████████████████████████████████| 1/1 [00:00<00:00, 236.14it/s]\n"
     ]
    },
    {
     "name": "stdout",
     "output_type": "stream",
     "text": [
      "---  Accuracy : 0.3333333432674408 \n",
      "\n",
      "Waiting += 1\n",
      "\n",
      "Starting epoch 25 / 300\n"
     ]
    },
    {
     "name": "stderr",
     "output_type": "stream",
     "text": [
      "avg train loss: 0.6303: 100%|████████████████████████████████████████████████████████████████████████████████████████████████████████████████████████████████████████████████████████| 1/1 [00:00<00:00, 103.76it/s]\n",
      "avg val loss: 0.7917: 100%|██████████████████████████████████████████████████████████████████████████████████████████████████████████████████████████████████████████████████████████| 1/1 [00:00<00:00, 167.39it/s]\n"
     ]
    },
    {
     "name": "stdout",
     "output_type": "stream",
     "text": [
      "---  Accuracy : 0.3333333432674408 \n",
      "\n",
      "Waiting += 1\n",
      "\n",
      "Starting epoch 26 / 300\n"
     ]
    },
    {
     "name": "stderr",
     "output_type": "stream",
     "text": [
      "avg train loss: 0.6277: 100%|████████████████████████████████████████████████████████████████████████████████████████████████████████████████████████████████████████████████████████| 1/1 [00:00<00:00, 131.15it/s]\n",
      "avg val loss: 0.7780: 100%|██████████████████████████████████████████████████████████████████████████████████████████████████████████████████████████████████████████████████████████| 1/1 [00:00<00:00, 202.81it/s]\n"
     ]
    },
    {
     "name": "stdout",
     "output_type": "stream",
     "text": [
      "---  Accuracy : 0.3333333432674408 \n",
      "\n",
      "Waiting += 1\n",
      "\n",
      "Starting epoch 27 / 300\n"
     ]
    },
    {
     "name": "stderr",
     "output_type": "stream",
     "text": [
      "avg train loss: 0.6253: 100%|████████████████████████████████████████████████████████████████████████████████████████████████████████████████████████████████████████████████████████| 1/1 [00:00<00:00, 122.19it/s]\n",
      "avg val loss: 0.7661: 100%|██████████████████████████████████████████████████████████████████████████████████████████████████████████████████████████████████████████████████████████| 1/1 [00:00<00:00, 223.76it/s]\n"
     ]
    },
    {
     "name": "stdout",
     "output_type": "stream",
     "text": [
      "---  Accuracy : 0.3333333432674408 \n",
      "\n",
      "Waiting += 1\n",
      "\n",
      "Starting epoch 28 / 300\n"
     ]
    },
    {
     "name": "stderr",
     "output_type": "stream",
     "text": [
      "avg train loss: 0.6234: 100%|████████████████████████████████████████████████████████████████████████████████████████████████████████████████████████████████████████████████████████| 1/1 [00:00<00:00, 105.94it/s]\n",
      "avg val loss: 0.7584: 100%|██████████████████████████████████████████████████████████████████████████████████████████████████████████████████████████████████████████████████████████| 1/1 [00:00<00:00, 288.39it/s]\n"
     ]
    },
    {
     "name": "stdout",
     "output_type": "stream",
     "text": [
      "---  Accuracy : 0.3333333432674408 \n",
      "\n",
      "\n",
      "best val loss 0.7660 -> 0.7584\n",
      "\n",
      "Starting epoch 29 / 300\n"
     ]
    },
    {
     "name": "stderr",
     "output_type": "stream",
     "text": [
      "avg train loss: 0.6215: 100%|████████████████████████████████████████████████████████████████████████████████████████████████████████████████████████████████████████████████████████| 1/1 [00:00<00:00, 112.98it/s]\n",
      "avg val loss: 0.7556: 100%|██████████████████████████████████████████████████████████████████████████████████████████████████████████████████████████████████████████████████████████| 1/1 [00:00<00:00, 221.24it/s]\n"
     ]
    },
    {
     "name": "stdout",
     "output_type": "stream",
     "text": [
      "---  Accuracy : 0.4444444477558136 \n",
      "\n",
      "\n",
      "best val loss 0.7584 -> 0.7556\n",
      "\n",
      "Starting epoch 30 / 300\n"
     ]
    },
    {
     "name": "stderr",
     "output_type": "stream",
     "text": [
      "avg train loss: 0.6195: 100%|█████████████████████████████████████████████████████████████████████████████████████████████████████████████████████████████████████████████████████████| 1/1 [00:00<00:00, 96.16it/s]\n",
      "avg val loss: 0.7571: 100%|██████████████████████████████████████████████████████████████████████████████████████████████████████████████████████████████████████████████████████████| 1/1 [00:00<00:00, 387.21it/s]\n"
     ]
    },
    {
     "name": "stdout",
     "output_type": "stream",
     "text": [
      "---  Accuracy : 0.4444444477558136 \n",
      "\n",
      "Waiting += 1\n",
      "\n",
      "Starting epoch 31 / 300\n"
     ]
    },
    {
     "name": "stderr",
     "output_type": "stream",
     "text": [
      "avg train loss: 0.6172: 100%|█████████████████████████████████████████████████████████████████████████████████████████████████████████████████████████████████████████████████████████| 1/1 [00:00<00:00, 89.34it/s]\n",
      "avg val loss: 0.7615: 100%|██████████████████████████████████████████████████████████████████████████████████████████████████████████████████████████████████████████████████████████| 1/1 [00:00<00:00, 352.37it/s]\n"
     ]
    },
    {
     "name": "stdout",
     "output_type": "stream",
     "text": [
      "---  Accuracy : 0.3333333432674408 \n",
      "\n",
      "Waiting += 1\n",
      "\n",
      "Starting epoch 32 / 300\n"
     ]
    },
    {
     "name": "stderr",
     "output_type": "stream",
     "text": [
      "avg train loss: 0.6149: 100%|█████████████████████████████████████████████████████████████████████████████████████████████████████████████████████████████████████████████████████████| 1/1 [00:00<00:00, 90.63it/s]\n",
      "avg val loss: 0.7665: 100%|██████████████████████████████████████████████████████████████████████████████████████████████████████████████████████████████████████████████████████████| 1/1 [00:00<00:00, 344.44it/s]\n"
     ]
    },
    {
     "name": "stdout",
     "output_type": "stream",
     "text": [
      "---  Accuracy : 0.3333333432674408 \n",
      "\n",
      "Waiting += 1\n",
      "\n",
      "Starting epoch 33 / 300\n"
     ]
    },
    {
     "name": "stderr",
     "output_type": "stream",
     "text": [
      "avg train loss: 0.6129: 100%|█████████████████████████████████████████████████████████████████████████████████████████████████████████████████████████████████████████████████████████| 1/1 [00:00<00:00, 84.58it/s]\n",
      "avg val loss: 0.7698: 100%|██████████████████████████████████████████████████████████████████████████████████████████████████████████████████████████████████████████████████████████| 1/1 [00:00<00:00, 334.10it/s]\n"
     ]
    },
    {
     "name": "stdout",
     "output_type": "stream",
     "text": [
      "---  Accuracy : 0.3333333432674408 \n",
      "\n",
      "Waiting += 1\n",
      "\n",
      "Starting epoch 34 / 300\n"
     ]
    },
    {
     "name": "stderr",
     "output_type": "stream",
     "text": [
      "avg train loss: 0.6110: 100%|█████████████████████████████████████████████████████████████████████████████████████████████████████████████████████████████████████████████████████████| 1/1 [00:00<00:00, 97.16it/s]\n",
      "avg val loss: 0.7699: 100%|██████████████████████████████████████████████████████████████████████████████████████████████████████████████████████████████████████████████████████████| 1/1 [00:00<00:00, 298.80it/s]\n"
     ]
    },
    {
     "name": "stdout",
     "output_type": "stream",
     "text": [
      "---  Accuracy : 0.3333333432674408 \n",
      "\n",
      "Waiting += 1\n",
      "\n",
      "Starting epoch 35 / 300\n"
     ]
    },
    {
     "name": "stderr",
     "output_type": "stream",
     "text": [
      "avg train loss: 0.6091: 100%|████████████████████████████████████████████████████████████████████████████████████████████████████████████████████████████████████████████████████████| 1/1 [00:00<00:00, 107.30it/s]\n",
      "avg val loss: 0.7664: 100%|██████████████████████████████████████████████████████████████████████████████████████████████████████████████████████████████████████████████████████████| 1/1 [00:00<00:00, 258.64it/s]\n"
     ]
    },
    {
     "name": "stdout",
     "output_type": "stream",
     "text": [
      "---  Accuracy : 0.3333333432674408 \n",
      "\n",
      "Waiting += 1\n",
      "\n",
      "Starting epoch 36 / 300\n"
     ]
    },
    {
     "name": "stderr",
     "output_type": "stream",
     "text": [
      "avg train loss: 0.6071: 100%|████████████████████████████████████████████████████████████████████████████████████████████████████████████████████████████████████████████████████████| 1/1 [00:00<00:00, 116.88it/s]\n",
      "avg val loss: 0.7600: 100%|██████████████████████████████████████████████████████████████████████████████████████████████████████████████████████████████████████████████████████████| 1/1 [00:00<00:00, 322.84it/s]\n"
     ]
    },
    {
     "name": "stdout",
     "output_type": "stream",
     "text": [
      "---  Accuracy : 0.4444444477558136 \n",
      "\n",
      "Waiting += 1\n",
      "\n",
      "Starting epoch 37 / 300\n"
     ]
    },
    {
     "name": "stderr",
     "output_type": "stream",
     "text": [
      "avg train loss: 0.6050: 100%|█████████████████████████████████████████████████████████████████████████████████████████████████████████████████████████████████████████████████████████| 1/1 [00:00<00:00, 98.98it/s]\n",
      "avg val loss: 0.7527: 100%|██████████████████████████████████████████████████████████████████████████████████████████████████████████████████████████████████████████████████████████| 1/1 [00:00<00:00, 183.25it/s]\n"
     ]
    },
    {
     "name": "stdout",
     "output_type": "stream",
     "text": [
      "---  Accuracy : 0.4444444477558136 \n",
      "\n",
      "\n",
      "best val loss 0.7556 -> 0.7527\n",
      "\n",
      "Starting epoch 38 / 300\n"
     ]
    },
    {
     "name": "stderr",
     "output_type": "stream",
     "text": [
      "avg train loss: 0.6031: 100%|████████████████████████████████████████████████████████████████████████████████████████████████████████████████████████████████████████████████████████| 1/1 [00:00<00:00, 130.75it/s]\n",
      "avg val loss: 0.7460: 100%|██████████████████████████████████████████████████████████████████████████████████████████████████████████████████████████████████████████████████████████| 1/1 [00:00<00:00, 199.00it/s]\n"
     ]
    },
    {
     "name": "stdout",
     "output_type": "stream",
     "text": [
      "---  Accuracy : 0.4444444477558136 \n",
      "\n",
      "\n",
      "best val loss 0.7527 -> 0.7460\n",
      "\n",
      "Starting epoch 39 / 300\n"
     ]
    },
    {
     "name": "stderr",
     "output_type": "stream",
     "text": [
      "avg train loss: 0.6012: 100%|████████████████████████████████████████████████████████████████████████████████████████████████████████████████████████████████████████████████████████| 1/1 [00:00<00:00, 138.36it/s]\n",
      "avg val loss: 0.7413: 100%|██████████████████████████████████████████████████████████████████████████████████████████████████████████████████████████████████████████████████████████| 1/1 [00:00<00:00, 219.13it/s]\n"
     ]
    },
    {
     "name": "stdout",
     "output_type": "stream",
     "text": [
      "---  Accuracy : 0.4444444477558136 \n",
      "\n",
      "\n",
      "best val loss 0.7460 -> 0.7413\n",
      "\n",
      "Starting epoch 40 / 300\n"
     ]
    },
    {
     "name": "stderr",
     "output_type": "stream",
     "text": [
      "avg train loss: 0.5994: 100%|████████████████████████████████████████████████████████████████████████████████████████████████████████████████████████████████████████████████████████| 1/1 [00:00<00:00, 119.37it/s]\n",
      "avg val loss: 0.7392: 100%|██████████████████████████████████████████████████████████████████████████████████████████████████████████████████████████████████████████████████████████| 1/1 [00:00<00:00, 213.04it/s]"
     ]
    },
    {
     "name": "stdout",
     "output_type": "stream",
     "text": [
      "---  Accuracy : 0.4444444477558136 \n",
      "\n",
      "\n",
      "best val loss 0.7413 -> 0.7392\n"
     ]
    },
    {
     "name": "stderr",
     "output_type": "stream",
     "text": [
      "\n"
     ]
    },
    {
     "name": "stdout",
     "output_type": "stream",
     "text": [
      "\n",
      "Starting epoch 41 / 300\n"
     ]
    },
    {
     "name": "stderr",
     "output_type": "stream",
     "text": [
      "avg train loss: 0.5977: 100%|█████████████████████████████████████████████████████████████████████████████████████████████████████████████████████████████████████████████████████████| 1/1 [00:00<00:00, 91.93it/s]\n",
      "avg val loss: 0.7396: 100%|██████████████████████████████████████████████████████████████████████████████████████████████████████████████████████████████████████████████████████████| 1/1 [00:00<00:00, 334.05it/s]\n"
     ]
    },
    {
     "name": "stdout",
     "output_type": "stream",
     "text": [
      "---  Accuracy : 0.4444444477558136 \n",
      "\n",
      "Waiting += 1\n",
      "\n",
      "Starting epoch 42 / 300\n"
     ]
    },
    {
     "name": "stderr",
     "output_type": "stream",
     "text": [
      "avg train loss: 0.5958: 100%|█████████████████████████████████████████████████████████████████████████████████████████████████████████████████████████████████████████████████████████| 1/1 [00:00<00:00, 90.13it/s]\n",
      "avg val loss: 0.7416: 100%|██████████████████████████████████████████████████████████████████████████████████████████████████████████████████████████████████████████████████████████| 1/1 [00:00<00:00, 389.15it/s]\n"
     ]
    },
    {
     "name": "stdout",
     "output_type": "stream",
     "text": [
      "---  Accuracy : 0.4444444477558136 \n",
      "\n",
      "Waiting += 1\n",
      "\n",
      "Starting epoch 43 / 300\n"
     ]
    },
    {
     "name": "stderr",
     "output_type": "stream",
     "text": [
      "avg train loss: 0.5940: 100%|█████████████████████████████████████████████████████████████████████████████████████████████████████████████████████████████████████████████████████████| 1/1 [00:00<00:00, 85.48it/s]\n",
      "avg val loss: 0.7441: 100%|██████████████████████████████████████████████████████████████████████████████████████████████████████████████████████████████████████████████████████████| 1/1 [00:00<00:00, 344.98it/s]\n"
     ]
    },
    {
     "name": "stdout",
     "output_type": "stream",
     "text": [
      "---  Accuracy : 0.4444444477558136 \n",
      "\n",
      "Waiting += 1\n",
      "\n",
      "Starting epoch 44 / 300\n"
     ]
    },
    {
     "name": "stderr",
     "output_type": "stream",
     "text": [
      "avg train loss: 0.5923: 100%|████████████████████████████████████████████████████████████████████████████████████████████████████████████████████████████████████████████████████████| 1/1 [00:00<00:00, 110.79it/s]\n",
      "avg val loss: 0.7458: 100%|██████████████████████████████████████████████████████████████████████████████████████████████████████████████████████████████████████████████████████████| 1/1 [00:00<00:00, 332.78it/s]\n"
     ]
    },
    {
     "name": "stdout",
     "output_type": "stream",
     "text": [
      "---  Accuracy : 0.4444444477558136 \n",
      "\n",
      "Waiting += 1\n",
      "\n",
      "Starting epoch 45 / 300\n"
     ]
    },
    {
     "name": "stderr",
     "output_type": "stream",
     "text": [
      "avg train loss: 0.5907: 100%|████████████████████████████████████████████████████████████████████████████████████████████████████████████████████████████████████████████████████████| 1/1 [00:00<00:00, 113.02it/s]\n",
      "avg val loss: 0.7458: 100%|██████████████████████████████████████████████████████████████████████████████████████████████████████████████████████████████████████████████████████████| 1/1 [00:00<00:00, 280.20it/s]\n"
     ]
    },
    {
     "name": "stdout",
     "output_type": "stream",
     "text": [
      "---  Accuracy : 0.4444444477558136 \n",
      "\n",
      "Waiting += 1\n",
      "\n",
      "Starting epoch 46 / 300\n"
     ]
    },
    {
     "name": "stderr",
     "output_type": "stream",
     "text": [
      "avg train loss: 0.5891: 100%|████████████████████████████████████████████████████████████████████████████████████████████████████████████████████████████████████████████████████████| 1/1 [00:00<00:00, 120.38it/s]\n",
      "avg val loss: 0.7439: 100%|██████████████████████████████████████████████████████████████████████████████████████████████████████████████████████████████████████████████████████████| 1/1 [00:00<00:00, 376.31it/s]\n"
     ]
    },
    {
     "name": "stdout",
     "output_type": "stream",
     "text": [
      "---  Accuracy : 0.4444444477558136 \n",
      "\n",
      "Waiting += 1\n",
      "\n",
      "Starting epoch 47 / 300\n"
     ]
    },
    {
     "name": "stderr",
     "output_type": "stream",
     "text": [
      "avg train loss: 0.5875: 100%|████████████████████████████████████████████████████████████████████████████████████████████████████████████████████████████████████████████████████████| 1/1 [00:00<00:00, 115.48it/s]\n",
      "avg val loss: 0.7404: 100%|██████████████████████████████████████████████████████████████████████████████████████████████████████████████████████████████████████████████████████████| 1/1 [00:00<00:00, 276.16it/s]\n"
     ]
    },
    {
     "name": "stdout",
     "output_type": "stream",
     "text": [
      "---  Accuracy : 0.4444444477558136 \n",
      "\n",
      "Waiting += 1\n",
      "\n",
      "Starting epoch 48 / 300\n"
     ]
    },
    {
     "name": "stderr",
     "output_type": "stream",
     "text": [
      "avg train loss: 0.5859: 100%|████████████████████████████████████████████████████████████████████████████████████████████████████████████████████████████████████████████████████████| 1/1 [00:00<00:00, 133.38it/s]\n",
      "avg val loss: 0.7362: 100%|██████████████████████████████████████████████████████████████████████████████████████████████████████████████████████████████████████████████████████████| 1/1 [00:00<00:00, 361.89it/s]\n"
     ]
    },
    {
     "name": "stdout",
     "output_type": "stream",
     "text": [
      "---  Accuracy : 0.4444444477558136 \n",
      "\n",
      "\n",
      "best val loss 0.7392 -> 0.7362\n",
      "\n",
      "Starting epoch 49 / 300\n"
     ]
    },
    {
     "name": "stderr",
     "output_type": "stream",
     "text": [
      "avg train loss: 0.5843: 100%|████████████████████████████████████████████████████████████████████████████████████████████████████████████████████████████████████████████████████████| 1/1 [00:00<00:00, 119.36it/s]\n",
      "avg val loss: 0.7321: 100%|██████████████████████████████████████████████████████████████████████████████████████████████████████████████████████████████████████████████████████████| 1/1 [00:00<00:00, 392.87it/s]\n"
     ]
    },
    {
     "name": "stdout",
     "output_type": "stream",
     "text": [
      "---  Accuracy : 0.4444444477558136 \n",
      "\n",
      "\n",
      "best val loss 0.7362 -> 0.7321\n",
      "\n",
      "Starting epoch 50 / 300\n"
     ]
    },
    {
     "name": "stderr",
     "output_type": "stream",
     "text": [
      "avg train loss: 0.5829: 100%|████████████████████████████████████████████████████████████████████████████████████████████████████████████████████████████████████████████████████████| 1/1 [00:00<00:00, 110.19it/s]\n",
      "avg val loss: 0.7289: 100%|██████████████████████████████████████████████████████████████████████████████████████████████████████████████████████████████████████████████████████████| 1/1 [00:00<00:00, 372.26it/s]\n"
     ]
    },
    {
     "name": "stdout",
     "output_type": "stream",
     "text": [
      "---  Accuracy : 0.4444444477558136 \n",
      "\n",
      "\n",
      "best val loss 0.7321 -> 0.7289\n",
      "\n",
      "Starting epoch 51 / 300\n"
     ]
    },
    {
     "name": "stderr",
     "output_type": "stream",
     "text": [
      "avg train loss: 0.5814: 100%|████████████████████████████████████████████████████████████████████████████████████████████████████████████████████████████████████████████████████████| 1/1 [00:00<00:00, 142.32it/s]\n",
      "avg val loss: 0.7270: 100%|██████████████████████████████████████████████████████████████████████████████████████████████████████████████████████████████████████████████████████████| 1/1 [00:00<00:00, 377.80it/s]\n"
     ]
    },
    {
     "name": "stdout",
     "output_type": "stream",
     "text": [
      "---  Accuracy : 0.4444444477558136 \n",
      "\n",
      "\n",
      "best val loss 0.7289 -> 0.7270\n",
      "\n",
      "Starting epoch 52 / 300\n"
     ]
    },
    {
     "name": "stderr",
     "output_type": "stream",
     "text": [
      "avg train loss: 0.5800: 100%|████████████████████████████████████████████████████████████████████████████████████████████████████████████████████████████████████████████████████████| 1/1 [00:00<00:00, 122.02it/s]\n",
      "avg val loss: 0.7264: 100%|██████████████████████████████████████████████████████████████████████████████████████████████████████████████████████████████████████████████████████████| 1/1 [00:00<00:00, 331.43it/s]\n"
     ]
    },
    {
     "name": "stdout",
     "output_type": "stream",
     "text": [
      "---  Accuracy : 0.4444444477558136 \n",
      "\n",
      "\n",
      "best val loss 0.7270 -> 0.7264\n",
      "\n",
      "Starting epoch 53 / 300\n"
     ]
    },
    {
     "name": "stderr",
     "output_type": "stream",
     "text": [
      "avg train loss: 0.5786: 100%|████████████████████████████████████████████████████████████████████████████████████████████████████████████████████████████████████████████████████████| 1/1 [00:00<00:00, 128.78it/s]\n",
      "avg val loss: 0.7267: 100%|██████████████████████████████████████████████████████████████████████████████████████████████████████████████████████████████████████████████████████████| 1/1 [00:00<00:00, 369.54it/s]\n"
     ]
    },
    {
     "name": "stdout",
     "output_type": "stream",
     "text": [
      "---  Accuracy : 0.4444444477558136 \n",
      "\n",
      "Waiting += 1\n",
      "\n",
      "Starting epoch 54 / 300\n"
     ]
    },
    {
     "name": "stderr",
     "output_type": "stream",
     "text": [
      "avg train loss: 0.5771: 100%|████████████████████████████████████████████████████████████████████████████████████████████████████████████████████████████████████████████████████████| 1/1 [00:00<00:00, 106.64it/s]\n",
      "avg val loss: 0.7273: 100%|██████████████████████████████████████████████████████████████████████████████████████████████████████████████████████████████████████████████████████████| 1/1 [00:00<00:00, 410.76it/s]\n"
     ]
    },
    {
     "name": "stdout",
     "output_type": "stream",
     "text": [
      "---  Accuracy : 0.4444444477558136 \n",
      "\n",
      "Waiting += 1\n",
      "\n",
      "Starting epoch 55 / 300\n"
     ]
    },
    {
     "name": "stderr",
     "output_type": "stream",
     "text": [
      "avg train loss: 0.5757: 100%|█████████████████████████████████████████████████████████████████████████████████████████████████████████████████████████████████████████████████████████| 1/1 [00:00<00:00, 91.95it/s]\n",
      "avg val loss: 0.7275: 100%|██████████████████████████████████████████████████████████████████████████████████████████████████████████████████████████████████████████████████████████| 1/1 [00:00<00:00, 395.73it/s]\n"
     ]
    },
    {
     "name": "stdout",
     "output_type": "stream",
     "text": [
      "---  Accuracy : 0.4444444477558136 \n",
      "\n",
      "Waiting += 1\n",
      "\n",
      "Starting epoch 56 / 300\n"
     ]
    },
    {
     "name": "stderr",
     "output_type": "stream",
     "text": [
      "avg train loss: 0.5744: 100%|████████████████████████████████████████████████████████████████████████████████████████████████████████████████████████████████████████████████████████| 1/1 [00:00<00:00, 105.99it/s]\n",
      "avg val loss: 0.7268: 100%|██████████████████████████████████████████████████████████████████████████████████████████████████████████████████████████████████████████████████████████| 1/1 [00:00<00:00, 367.86it/s]\n"
     ]
    },
    {
     "name": "stdout",
     "output_type": "stream",
     "text": [
      "---  Accuracy : 0.4444444477558136 \n",
      "\n",
      "Waiting += 1\n",
      "\n",
      "Starting epoch 57 / 300\n"
     ]
    },
    {
     "name": "stderr",
     "output_type": "stream",
     "text": [
      "avg train loss: 0.5730: 100%|█████████████████████████████████████████████████████████████████████████████████████████████████████████████████████████████████████████████████████████| 1/1 [00:00<00:00, 95.57it/s]\n",
      "avg val loss: 0.7251: 100%|██████████████████████████████████████████████████████████████████████████████████████████████████████████████████████████████████████████████████████████| 1/1 [00:00<00:00, 332.25it/s]\n"
     ]
    },
    {
     "name": "stdout",
     "output_type": "stream",
     "text": [
      "---  Accuracy : 0.4444444477558136 \n",
      "\n",
      "\n",
      "best val loss 0.7264 -> 0.7251\n",
      "\n",
      "Starting epoch 58 / 300\n"
     ]
    },
    {
     "name": "stderr",
     "output_type": "stream",
     "text": [
      "avg train loss: 0.5716: 100%|████████████████████████████████████████████████████████████████████████████████████████████████████████████████████████████████████████████████████████| 1/1 [00:00<00:00, 114.85it/s]\n",
      "avg val loss: 0.7225: 100%|██████████████████████████████████████████████████████████████████████████████████████████████████████████████████████████████████████████████████████████| 1/1 [00:00<00:00, 402.52it/s]\n"
     ]
    },
    {
     "name": "stdout",
     "output_type": "stream",
     "text": [
      "---  Accuracy : 0.4444444477558136 \n",
      "\n",
      "\n",
      "best val loss 0.7251 -> 0.7225\n",
      "\n",
      "Starting epoch 59 / 300\n"
     ]
    },
    {
     "name": "stderr",
     "output_type": "stream",
     "text": [
      "avg train loss: 0.5703: 100%|████████████████████████████████████████████████████████████████████████████████████████████████████████████████████████████████████████████████████████| 1/1 [00:00<00:00, 114.51it/s]\n",
      "avg val loss: 0.7194: 100%|██████████████████████████████████████████████████████████████████████████████████████████████████████████████████████████████████████████████████████████| 1/1 [00:00<00:00, 257.52it/s]\n"
     ]
    },
    {
     "name": "stdout",
     "output_type": "stream",
     "text": [
      "---  Accuracy : 0.4444444477558136 \n",
      "\n",
      "\n",
      "best val loss 0.7225 -> 0.7194\n",
      "\n",
      "Starting epoch 60 / 300\n"
     ]
    },
    {
     "name": "stderr",
     "output_type": "stream",
     "text": [
      "avg train loss: 0.5689: 100%|████████████████████████████████████████████████████████████████████████████████████████████████████████████████████████████████████████████████████████| 1/1 [00:00<00:00, 138.16it/s]\n",
      "avg val loss: 0.7163: 100%|██████████████████████████████████████████████████████████████████████████████████████████████████████████████████████████████████████████████████████████| 1/1 [00:00<00:00, 291.76it/s]\n"
     ]
    },
    {
     "name": "stdout",
     "output_type": "stream",
     "text": [
      "---  Accuracy : 0.5555555820465088 \n",
      "\n",
      "\n",
      "best val loss 0.7194 -> 0.7163\n",
      "\n",
      "Starting epoch 61 / 300\n"
     ]
    },
    {
     "name": "stderr",
     "output_type": "stream",
     "text": [
      "avg train loss: 0.5676: 100%|████████████████████████████████████████████████████████████████████████████████████████████████████████████████████████████████████████████████████████| 1/1 [00:00<00:00, 130.69it/s]\n",
      "avg val loss: 0.7137: 100%|██████████████████████████████████████████████████████████████████████████████████████████████████████████████████████████████████████████████████████████| 1/1 [00:00<00:00, 159.66it/s]\n"
     ]
    },
    {
     "name": "stdout",
     "output_type": "stream",
     "text": [
      "---  Accuracy : 0.5555555820465088 \n",
      "\n",
      "\n",
      "best val loss 0.7163 -> 0.7137\n",
      "\n",
      "Starting epoch 62 / 300\n"
     ]
    },
    {
     "name": "stderr",
     "output_type": "stream",
     "text": [
      "avg train loss: 0.5662: 100%|████████████████████████████████████████████████████████████████████████████████████████████████████████████████████████████████████████████████████████| 1/1 [00:00<00:00, 135.08it/s]\n",
      "avg val loss: 0.7117: 100%|██████████████████████████████████████████████████████████████████████████████████████████████████████████████████████████████████████████████████████████| 1/1 [00:00<00:00, 196.66it/s]\n"
     ]
    },
    {
     "name": "stdout",
     "output_type": "stream",
     "text": [
      "---  Accuracy : 0.5555555820465088 \n",
      "\n",
      "\n",
      "best val loss 0.7137 -> 0.7117\n",
      "\n",
      "Starting epoch 63 / 300\n"
     ]
    },
    {
     "name": "stderr",
     "output_type": "stream",
     "text": [
      "avg train loss: 0.5649: 100%|████████████████████████████████████████████████████████████████████████████████████████████████████████████████████████████████████████████████████████| 1/1 [00:00<00:00, 139.30it/s]\n",
      "avg val loss: 0.7105: 100%|██████████████████████████████████████████████████████████████████████████████████████████████████████████████████████████████████████████████████████████| 1/1 [00:00<00:00, 178.25it/s]\n"
     ]
    },
    {
     "name": "stdout",
     "output_type": "stream",
     "text": [
      "---  Accuracy : 0.5555555820465088 \n",
      "\n",
      "\n",
      "best val loss 0.7117 -> 0.7105\n",
      "\n",
      "Starting epoch 64 / 300\n"
     ]
    },
    {
     "name": "stderr",
     "output_type": "stream",
     "text": [
      "avg train loss: 0.5636: 100%|████████████████████████████████████████████████████████████████████████████████████████████████████████████████████████████████████████████████████████| 1/1 [00:00<00:00, 142.47it/s]\n",
      "avg val loss: 0.7098: 100%|██████████████████████████████████████████████████████████████████████████████████████████████████████████████████████████████████████████████████████████| 1/1 [00:00<00:00, 207.72it/s]\n"
     ]
    },
    {
     "name": "stdout",
     "output_type": "stream",
     "text": [
      "---  Accuracy : 0.5555555820465088 \n",
      "\n",
      "\n",
      "best val loss 0.7105 -> 0.7098\n",
      "\n",
      "Starting epoch 65 / 300\n"
     ]
    },
    {
     "name": "stderr",
     "output_type": "stream",
     "text": [
      "avg train loss: 0.5623: 100%|████████████████████████████████████████████████████████████████████████████████████████████████████████████████████████████████████████████████████████| 1/1 [00:00<00:00, 142.89it/s]\n",
      "avg val loss: 0.7094: 100%|██████████████████████████████████████████████████████████████████████████████████████████████████████████████████████████████████████████████████████████| 1/1 [00:00<00:00, 199.67it/s]\n"
     ]
    },
    {
     "name": "stdout",
     "output_type": "stream",
     "text": [
      "---  Accuracy : 0.5555555820465088 \n",
      "\n",
      "\n",
      "best val loss 0.7098 -> 0.7094\n",
      "\n",
      "Starting epoch 66 / 300\n"
     ]
    },
    {
     "name": "stderr",
     "output_type": "stream",
     "text": [
      "avg train loss: 0.5610: 100%|████████████████████████████████████████████████████████████████████████████████████████████████████████████████████████████████████████████████████████| 1/1 [00:00<00:00, 144.25it/s]\n",
      "avg val loss: 0.7088: 100%|██████████████████████████████████████████████████████████████████████████████████████████████████████████████████████████████████████████████████████████| 1/1 [00:00<00:00, 202.10it/s]\n"
     ]
    },
    {
     "name": "stdout",
     "output_type": "stream",
     "text": [
      "---  Accuracy : 0.5555555820465088 \n",
      "\n",
      "\n",
      "best val loss 0.7094 -> 0.7088\n",
      "\n",
      "Starting epoch 67 / 300\n"
     ]
    },
    {
     "name": "stderr",
     "output_type": "stream",
     "text": [
      "avg train loss: 0.5597: 100%|████████████████████████████████████████████████████████████████████████████████████████████████████████████████████████████████████████████████████████| 1/1 [00:00<00:00, 145.48it/s]\n",
      "avg val loss: 0.7079: 100%|██████████████████████████████████████████████████████████████████████████████████████████████████████████████████████████████████████████████████████████| 1/1 [00:00<00:00, 283.23it/s]\n"
     ]
    },
    {
     "name": "stdout",
     "output_type": "stream",
     "text": [
      "---  Accuracy : 0.5555555820465088 \n",
      "\n",
      "\n",
      "best val loss 0.7088 -> 0.7079\n",
      "\n",
      "Starting epoch 68 / 300\n"
     ]
    },
    {
     "name": "stderr",
     "output_type": "stream",
     "text": [
      "avg train loss: 0.5584: 100%|████████████████████████████████████████████████████████████████████████████████████████████████████████████████████████████████████████████████████████| 1/1 [00:00<00:00, 147.78it/s]\n",
      "avg val loss: 0.7065: 100%|██████████████████████████████████████████████████████████████████████████████████████████████████████████████████████████████████████████████████████████| 1/1 [00:00<00:00, 236.86it/s]\n"
     ]
    },
    {
     "name": "stdout",
     "output_type": "stream",
     "text": [
      "---  Accuracy : 0.5555555820465088 \n",
      "\n",
      "\n",
      "best val loss 0.7079 -> 0.7065\n",
      "\n",
      "Starting epoch 69 / 300\n"
     ]
    },
    {
     "name": "stderr",
     "output_type": "stream",
     "text": [
      "avg train loss: 0.5572: 100%|████████████████████████████████████████████████████████████████████████████████████████████████████████████████████████████████████████████████████████| 1/1 [00:00<00:00, 130.37it/s]\n",
      "avg val loss: 0.7046: 100%|██████████████████████████████████████████████████████████████████████████████████████████████████████████████████████████████████████████████████████████| 1/1 [00:00<00:00, 244.59it/s]\n"
     ]
    },
    {
     "name": "stdout",
     "output_type": "stream",
     "text": [
      "---  Accuracy : 0.5555555820465088 \n",
      "\n",
      "\n",
      "best val loss 0.7065 -> 0.7046\n",
      "\n",
      "Starting epoch 70 / 300\n"
     ]
    },
    {
     "name": "stderr",
     "output_type": "stream",
     "text": [
      "avg train loss: 0.5559: 100%|████████████████████████████████████████████████████████████████████████████████████████████████████████████████████████████████████████████████████████| 1/1 [00:00<00:00, 122.58it/s]\n",
      "avg val loss: 0.7025: 100%|██████████████████████████████████████████████████████████████████████████████████████████████████████████████████████████████████████████████████████████| 1/1 [00:00<00:00, 240.69it/s]\n"
     ]
    },
    {
     "name": "stdout",
     "output_type": "stream",
     "text": [
      "---  Accuracy : 0.5555555820465088 \n",
      "\n",
      "\n",
      "best val loss 0.7046 -> 0.7025\n",
      "\n",
      "Starting epoch 71 / 300\n"
     ]
    },
    {
     "name": "stderr",
     "output_type": "stream",
     "text": [
      "avg train loss: 0.5546: 100%|████████████████████████████████████████████████████████████████████████████████████████████████████████████████████████████████████████████████████████| 1/1 [00:00<00:00, 108.71it/s]\n",
      "avg val loss: 0.7004: 100%|██████████████████████████████████████████████████████████████████████████████████████████████████████████████████████████████████████████████████████████| 1/1 [00:00<00:00, 375.67it/s]\n"
     ]
    },
    {
     "name": "stdout",
     "output_type": "stream",
     "text": [
      "---  Accuracy : 0.5555555820465088 \n",
      "\n",
      "\n",
      "best val loss 0.7025 -> 0.7004\n",
      "\n",
      "Starting epoch 72 / 300\n"
     ]
    },
    {
     "name": "stderr",
     "output_type": "stream",
     "text": [
      "avg train loss: 0.5534: 100%|████████████████████████████████████████████████████████████████████████████████████████████████████████████████████████████████████████████████████████| 1/1 [00:00<00:00, 129.59it/s]\n",
      "avg val loss: 0.6985: 100%|██████████████████████████████████████████████████████████████████████████████████████████████████████████████████████████████████████████████████████████| 1/1 [00:00<00:00, 325.14it/s]\n"
     ]
    },
    {
     "name": "stdout",
     "output_type": "stream",
     "text": [
      "---  Accuracy : 0.5555555820465088 \n",
      "\n",
      "\n",
      "best val loss 0.7004 -> 0.6985\n",
      "\n",
      "Starting epoch 73 / 300\n"
     ]
    },
    {
     "name": "stderr",
     "output_type": "stream",
     "text": [
      "avg train loss: 0.5521: 100%|████████████████████████████████████████████████████████████████████████████████████████████████████████████████████████████████████████████████████████| 1/1 [00:00<00:00, 150.10it/s]\n",
      "avg val loss: 0.6971: 100%|██████████████████████████████████████████████████████████████████████████████████████████████████████████████████████████████████████████████████████████| 1/1 [00:00<00:00, 228.62it/s]\n"
     ]
    },
    {
     "name": "stdout",
     "output_type": "stream",
     "text": [
      "---  Accuracy : 0.5555555820465088 \n",
      "\n",
      "\n",
      "best val loss 0.6985 -> 0.6971\n",
      "\n",
      "Starting epoch 74 / 300\n"
     ]
    },
    {
     "name": "stderr",
     "output_type": "stream",
     "text": [
      "avg train loss: 0.5509: 100%|████████████████████████████████████████████████████████████████████████████████████████████████████████████████████████████████████████████████████████| 1/1 [00:00<00:00, 132.39it/s]\n",
      "avg val loss: 0.6960: 100%|██████████████████████████████████████████████████████████████████████████████████████████████████████████████████████████████████████████████████████████| 1/1 [00:00<00:00, 234.28it/s]\n"
     ]
    },
    {
     "name": "stdout",
     "output_type": "stream",
     "text": [
      "---  Accuracy : 0.5555555820465088 \n",
      "\n",
      "\n",
      "best val loss 0.6971 -> 0.6960\n",
      "\n",
      "Starting epoch 75 / 300\n"
     ]
    },
    {
     "name": "stderr",
     "output_type": "stream",
     "text": [
      "avg train loss: 0.5497: 100%|████████████████████████████████████████████████████████████████████████████████████████████████████████████████████████████████████████████████████████| 1/1 [00:00<00:00, 130.07it/s]\n",
      "avg val loss: 0.6954: 100%|██████████████████████████████████████████████████████████████████████████████████████████████████████████████████████████████████████████████████████████| 1/1 [00:00<00:00, 249.41it/s]\n"
     ]
    },
    {
     "name": "stdout",
     "output_type": "stream",
     "text": [
      "---  Accuracy : 0.5555555820465088 \n",
      "\n",
      "\n",
      "best val loss 0.6960 -> 0.6954\n",
      "\n",
      "Starting epoch 76 / 300\n"
     ]
    },
    {
     "name": "stderr",
     "output_type": "stream",
     "text": [
      "avg train loss: 0.5484: 100%|████████████████████████████████████████████████████████████████████████████████████████████████████████████████████████████████████████████████████████| 1/1 [00:00<00:00, 109.07it/s]\n",
      "avg val loss: 0.6949: 100%|██████████████████████████████████████████████████████████████████████████████████████████████████████████████████████████████████████████████████████████| 1/1 [00:00<00:00, 307.03it/s]\n"
     ]
    },
    {
     "name": "stdout",
     "output_type": "stream",
     "text": [
      "---  Accuracy : 0.5555555820465088 \n",
      "\n",
      "\n",
      "best val loss 0.6954 -> 0.6949\n",
      "\n",
      "Starting epoch 77 / 300\n"
     ]
    },
    {
     "name": "stderr",
     "output_type": "stream",
     "text": [
      "avg train loss: 0.5472: 100%|████████████████████████████████████████████████████████████████████████████████████████████████████████████████████████████████████████████████████████| 1/1 [00:00<00:00, 135.24it/s]\n",
      "avg val loss: 0.6944: 100%|██████████████████████████████████████████████████████████████████████████████████████████████████████████████████████████████████████████████████████████| 1/1 [00:00<00:00, 209.01it/s]\n"
     ]
    },
    {
     "name": "stdout",
     "output_type": "stream",
     "text": [
      "---  Accuracy : 0.5555555820465088 \n",
      "\n",
      "\n",
      "best val loss 0.6949 -> 0.6944\n",
      "\n",
      "Starting epoch 78 / 300\n"
     ]
    },
    {
     "name": "stderr",
     "output_type": "stream",
     "text": [
      "avg train loss: 0.5460: 100%|████████████████████████████████████████████████████████████████████████████████████████████████████████████████████████████████████████████████████████| 1/1 [00:00<00:00, 120.08it/s]\n",
      "avg val loss: 0.6937: 100%|██████████████████████████████████████████████████████████████████████████████████████████████████████████████████████████████████████████████████████████| 1/1 [00:00<00:00, 360.24it/s]\n"
     ]
    },
    {
     "name": "stdout",
     "output_type": "stream",
     "text": [
      "---  Accuracy : 0.5555555820465088 \n",
      "\n",
      "\n",
      "best val loss 0.6944 -> 0.6937\n",
      "\n",
      "Starting epoch 79 / 300\n"
     ]
    },
    {
     "name": "stderr",
     "output_type": "stream",
     "text": [
      "avg train loss: 0.5448: 100%|█████████████████████████████████████████████████████████████████████████████████████████████████████████████████████████████████████████████████████████| 1/1 [00:00<00:00, 92.28it/s]\n",
      "avg val loss: 0.6928: 100%|██████████████████████████████████████████████████████████████████████████████████████████████████████████████████████████████████████████████████████████| 1/1 [00:00<00:00, 383.64it/s]\n"
     ]
    },
    {
     "name": "stdout",
     "output_type": "stream",
     "text": [
      "---  Accuracy : 0.5555555820465088 \n",
      "\n",
      "\n",
      "best val loss 0.6937 -> 0.6928\n",
      "\n",
      "Starting epoch 80 / 300\n"
     ]
    },
    {
     "name": "stderr",
     "output_type": "stream",
     "text": [
      "avg train loss: 0.5436: 100%|█████████████████████████████████████████████████████████████████████████████████████████████████████████████████████████████████████████████████████████| 1/1 [00:00<00:00, 92.72it/s]\n",
      "avg val loss: 0.6916: 100%|██████████████████████████████████████████████████████████████████████████████████████████████████████████████████████████████████████████████████████████| 1/1 [00:00<00:00, 394.98it/s]\n"
     ]
    },
    {
     "name": "stdout",
     "output_type": "stream",
     "text": [
      "---  Accuracy : 0.5555555820465088 \n",
      "\n",
      "\n",
      "best val loss 0.6928 -> 0.6916\n",
      "\n",
      "Starting epoch 81 / 300\n"
     ]
    },
    {
     "name": "stderr",
     "output_type": "stream",
     "text": [
      "avg train loss: 0.5423: 100%|████████████████████████████████████████████████████████████████████████████████████████████████████████████████████████████████████████████████████████| 1/1 [00:00<00:00, 126.98it/s]\n",
      "avg val loss: 0.6903: 100%|██████████████████████████████████████████████████████████████████████████████████████████████████████████████████████████████████████████████████████████| 1/1 [00:00<00:00, 402.22it/s]\n"
     ]
    },
    {
     "name": "stdout",
     "output_type": "stream",
     "text": [
      "---  Accuracy : 0.5555555820465088 \n",
      "\n",
      "\n",
      "best val loss 0.6916 -> 0.6903\n",
      "\n",
      "Starting epoch 82 / 300\n"
     ]
    },
    {
     "name": "stderr",
     "output_type": "stream",
     "text": [
      "avg train loss: 0.5411: 100%|████████████████████████████████████████████████████████████████████████████████████████████████████████████████████████████████████████████████████████| 1/1 [00:00<00:00, 123.68it/s]\n",
      "avg val loss: 0.6891: 100%|██████████████████████████████████████████████████████████████████████████████████████████████████████████████████████████████████████████████████████████| 1/1 [00:00<00:00, 272.59it/s]\n"
     ]
    },
    {
     "name": "stdout",
     "output_type": "stream",
     "text": [
      "---  Accuracy : 0.5555555820465088 \n",
      "\n",
      "\n",
      "best val loss 0.6903 -> 0.6891\n",
      "\n",
      "Starting epoch 83 / 300\n"
     ]
    },
    {
     "name": "stderr",
     "output_type": "stream",
     "text": [
      "avg train loss: 0.5399: 100%|████████████████████████████████████████████████████████████████████████████████████████████████████████████████████████████████████████████████████████| 1/1 [00:00<00:00, 121.19it/s]\n",
      "avg val loss: 0.6879: 100%|██████████████████████████████████████████████████████████████████████████████████████████████████████████████████████████████████████████████████████████| 1/1 [00:00<00:00, 302.97it/s]\n"
     ]
    },
    {
     "name": "stdout",
     "output_type": "stream",
     "text": [
      "---  Accuracy : 0.5555555820465088 \n",
      "\n",
      "\n",
      "best val loss 0.6891 -> 0.6879\n",
      "\n",
      "Starting epoch 84 / 300\n"
     ]
    },
    {
     "name": "stderr",
     "output_type": "stream",
     "text": [
      "avg train loss: 0.5387: 100%|████████████████████████████████████████████████████████████████████████████████████████████████████████████████████████████████████████████████████████| 1/1 [00:00<00:00, 131.57it/s]\n",
      "avg val loss: 0.6869: 100%|██████████████████████████████████████████████████████████████████████████████████████████████████████████████████████████████████████████████████████████| 1/1 [00:00<00:00, 219.74it/s]\n"
     ]
    },
    {
     "name": "stdout",
     "output_type": "stream",
     "text": [
      "---  Accuracy : 0.5555555820465088 \n",
      "\n",
      "\n",
      "best val loss 0.6879 -> 0.6869\n",
      "\n",
      "Starting epoch 85 / 300\n"
     ]
    },
    {
     "name": "stderr",
     "output_type": "stream",
     "text": [
      "avg train loss: 0.5375: 100%|████████████████████████████████████████████████████████████████████████████████████████████████████████████████████████████████████████████████████████| 1/1 [00:00<00:00, 129.65it/s]\n",
      "avg val loss: 0.6862: 100%|██████████████████████████████████████████████████████████████████████████████████████████████████████████████████████████████████████████████████████████| 1/1 [00:00<00:00, 255.81it/s]\n"
     ]
    },
    {
     "name": "stdout",
     "output_type": "stream",
     "text": [
      "---  Accuracy : 0.5555555820465088 \n",
      "\n",
      "\n",
      "best val loss 0.6869 -> 0.6862\n",
      "\n",
      "Starting epoch 86 / 300\n"
     ]
    },
    {
     "name": "stderr",
     "output_type": "stream",
     "text": [
      "avg train loss: 0.5363: 100%|████████████████████████████████████████████████████████████████████████████████████████████████████████████████████████████████████████████████████████| 1/1 [00:00<00:00, 144.01it/s]\n",
      "avg val loss: 0.6857: 100%|██████████████████████████████████████████████████████████████████████████████████████████████████████████████████████████████████████████████████████████| 1/1 [00:00<00:00, 207.82it/s]\n"
     ]
    },
    {
     "name": "stdout",
     "output_type": "stream",
     "text": [
      "---  Accuracy : 0.5555555820465088 \n",
      "\n",
      "\n",
      "best val loss 0.6862 -> 0.6857\n",
      "\n",
      "Starting epoch 87 / 300\n"
     ]
    },
    {
     "name": "stderr",
     "output_type": "stream",
     "text": [
      "avg train loss: 0.5351: 100%|████████████████████████████████████████████████████████████████████████████████████████████████████████████████████████████████████████████████████████| 1/1 [00:00<00:00, 134.13it/s]\n",
      "avg val loss: 0.6853: 100%|██████████████████████████████████████████████████████████████████████████████████████████████████████████████████████████████████████████████████████████| 1/1 [00:00<00:00, 225.13it/s]\n"
     ]
    },
    {
     "name": "stdout",
     "output_type": "stream",
     "text": [
      "---  Accuracy : 0.5555555820465088 \n",
      "\n",
      "\n",
      "best val loss 0.6857 -> 0.6853\n",
      "\n",
      "Starting epoch 88 / 300\n"
     ]
    },
    {
     "name": "stderr",
     "output_type": "stream",
     "text": [
      "avg train loss: 0.5339: 100%|████████████████████████████████████████████████████████████████████████████████████████████████████████████████████████████████████████████████████████| 1/1 [00:00<00:00, 151.04it/s]\n",
      "avg val loss: 0.6849: 100%|██████████████████████████████████████████████████████████████████████████████████████████████████████████████████████████████████████████████████████████| 1/1 [00:00<00:00, 318.72it/s]\n"
     ]
    },
    {
     "name": "stdout",
     "output_type": "stream",
     "text": [
      "---  Accuracy : 0.5555555820465088 \n",
      "\n",
      "\n",
      "best val loss 0.6853 -> 0.6849\n",
      "\n",
      "Starting epoch 89 / 300\n"
     ]
    },
    {
     "name": "stderr",
     "output_type": "stream",
     "text": [
      "avg train loss: 0.5327: 100%|████████████████████████████████████████████████████████████████████████████████████████████████████████████████████████████████████████████████████████| 1/1 [00:00<00:00, 105.96it/s]\n",
      "avg val loss: 0.6844: 100%|██████████████████████████████████████████████████████████████████████████████████████████████████████████████████████████████████████████████████████████| 1/1 [00:00<00:00, 394.76it/s]\n"
     ]
    },
    {
     "name": "stdout",
     "output_type": "stream",
     "text": [
      "---  Accuracy : 0.5555555820465088 \n",
      "\n",
      "\n",
      "best val loss 0.6849 -> 0.6844\n",
      "\n",
      "Starting epoch 90 / 300\n"
     ]
    },
    {
     "name": "stderr",
     "output_type": "stream",
     "text": [
      "avg train loss: 0.5316: 100%|████████████████████████████████████████████████████████████████████████████████████████████████████████████████████████████████████████████████████████| 1/1 [00:00<00:00, 117.48it/s]\n",
      "avg val loss: 0.6837: 100%|██████████████████████████████████████████████████████████████████████████████████████████████████████████████████████████████████████████████████████████| 1/1 [00:00<00:00, 307.50it/s]\n"
     ]
    },
    {
     "name": "stdout",
     "output_type": "stream",
     "text": [
      "---  Accuracy : 0.5555555820465088 \n",
      "\n",
      "\n",
      "best val loss 0.6844 -> 0.6837\n",
      "\n",
      "Starting epoch 91 / 300\n"
     ]
    },
    {
     "name": "stderr",
     "output_type": "stream",
     "text": [
      "avg train loss: 0.5304: 100%|████████████████████████████████████████████████████████████████████████████████████████████████████████████████████████████████████████████████████████| 1/1 [00:00<00:00, 123.79it/s]\n",
      "avg val loss: 0.6829: 100%|██████████████████████████████████████████████████████████████████████████████████████████████████████████████████████████████████████████████████████████| 1/1 [00:00<00:00, 288.27it/s]\n"
     ]
    },
    {
     "name": "stdout",
     "output_type": "stream",
     "text": [
      "---  Accuracy : 0.5555555820465088 \n",
      "\n",
      "\n",
      "best val loss 0.6837 -> 0.6829\n",
      "\n",
      "Starting epoch 92 / 300\n"
     ]
    },
    {
     "name": "stderr",
     "output_type": "stream",
     "text": [
      "avg train loss: 0.5292: 100%|████████████████████████████████████████████████████████████████████████████████████████████████████████████████████████████████████████████████████████| 1/1 [00:00<00:00, 114.69it/s]\n",
      "avg val loss: 0.6820: 100%|██████████████████████████████████████████████████████████████████████████████████████████████████████████████████████████████████████████████████████████| 1/1 [00:00<00:00, 388.58it/s]\n"
     ]
    },
    {
     "name": "stdout",
     "output_type": "stream",
     "text": [
      "---  Accuracy : 0.5555555820465088 \n",
      "\n",
      "\n",
      "best val loss 0.6829 -> 0.6820\n",
      "\n",
      "Starting epoch 93 / 300\n"
     ]
    },
    {
     "name": "stderr",
     "output_type": "stream",
     "text": [
      "avg train loss: 0.5280: 100%|█████████████████████████████████████████████████████████████████████████████████████████████████████████████████████████████████████████████████████████| 1/1 [00:00<00:00, 93.46it/s]\n",
      "avg val loss: 0.6811: 100%|██████████████████████████████████████████████████████████████████████████████████████████████████████████████████████████████████████████████████████████| 1/1 [00:00<00:00, 333.04it/s]\n"
     ]
    },
    {
     "name": "stdout",
     "output_type": "stream",
     "text": [
      "---  Accuracy : 0.5555555820465088 \n",
      "\n",
      "\n",
      "best val loss 0.6820 -> 0.6811\n",
      "\n",
      "Starting epoch 94 / 300\n"
     ]
    },
    {
     "name": "stderr",
     "output_type": "stream",
     "text": [
      "avg train loss: 0.5268: 100%|█████████████████████████████████████████████████████████████████████████████████████████████████████████████████████████████████████████████████████████| 1/1 [00:00<00:00, 86.77it/s]\n",
      "avg val loss: 0.6803: 100%|██████████████████████████████████████████████████████████████████████████████████████████████████████████████████████████████████████████████████████████| 1/1 [00:00<00:00, 333.09it/s]\n"
     ]
    },
    {
     "name": "stdout",
     "output_type": "stream",
     "text": [
      "---  Accuracy : 0.5555555820465088 \n",
      "\n",
      "\n",
      "best val loss 0.6811 -> 0.6803\n",
      "\n",
      "Starting epoch 95 / 300\n"
     ]
    },
    {
     "name": "stderr",
     "output_type": "stream",
     "text": [
      "avg train loss: 0.5257: 100%|█████████████████████████████████████████████████████████████████████████████████████████████████████████████████████████████████████████████████████████| 1/1 [00:00<00:00, 91.62it/s]\n",
      "avg val loss: 0.6795: 100%|██████████████████████████████████████████████████████████████████████████████████████████████████████████████████████████████████████████████████████████| 1/1 [00:00<00:00, 378.44it/s]\n"
     ]
    },
    {
     "name": "stdout",
     "output_type": "stream",
     "text": [
      "---  Accuracy : 0.5555555820465088 \n",
      "\n",
      "\n",
      "best val loss 0.6803 -> 0.6795\n",
      "\n",
      "Starting epoch 96 / 300\n"
     ]
    },
    {
     "name": "stderr",
     "output_type": "stream",
     "text": [
      "avg train loss: 0.5245: 100%|████████████████████████████████████████████████████████████████████████████████████████████████████████████████████████████████████████████████████████| 1/1 [00:00<00:00, 106.33it/s]\n",
      "avg val loss: 0.6789: 100%|██████████████████████████████████████████████████████████████████████████████████████████████████████████████████████████████████████████████████████████| 1/1 [00:00<00:00, 317.17it/s]\n"
     ]
    },
    {
     "name": "stdout",
     "output_type": "stream",
     "text": [
      "---  Accuracy : 0.5555555820465088 \n",
      "\n",
      "\n",
      "best val loss 0.6795 -> 0.6789\n",
      "\n",
      "Starting epoch 97 / 300\n"
     ]
    },
    {
     "name": "stderr",
     "output_type": "stream",
     "text": [
      "avg train loss: 0.5233: 100%|████████████████████████████████████████████████████████████████████████████████████████████████████████████████████████████████████████████████████████| 1/1 [00:00<00:00, 118.54it/s]\n",
      "avg val loss: 0.6783: 100%|██████████████████████████████████████████████████████████████████████████████████████████████████████████████████████████████████████████████████████████| 1/1 [00:00<00:00, 316.50it/s]\n"
     ]
    },
    {
     "name": "stdout",
     "output_type": "stream",
     "text": [
      "---  Accuracy : 0.5555555820465088 \n",
      "\n",
      "\n",
      "best val loss 0.6789 -> 0.6783\n",
      "\n",
      "Starting epoch 98 / 300\n"
     ]
    },
    {
     "name": "stderr",
     "output_type": "stream",
     "text": [
      "avg train loss: 0.5222: 100%|████████████████████████████████████████████████████████████████████████████████████████████████████████████████████████████████████████████████████████| 1/1 [00:00<00:00, 120.01it/s]\n",
      "avg val loss: 0.6779: 100%|██████████████████████████████████████████████████████████████████████████████████████████████████████████████████████████████████████████████████████████| 1/1 [00:00<00:00, 224.70it/s]\n"
     ]
    },
    {
     "name": "stdout",
     "output_type": "stream",
     "text": [
      "---  Accuracy : 0.5555555820465088 \n",
      "\n",
      "\n",
      "best val loss 0.6783 -> 0.6779\n",
      "\n",
      "Starting epoch 99 / 300\n"
     ]
    },
    {
     "name": "stderr",
     "output_type": "stream",
     "text": [
      "avg train loss: 0.5210: 100%|████████████████████████████████████████████████████████████████████████████████████████████████████████████████████████████████████████████████████████| 1/1 [00:00<00:00, 130.02it/s]\n",
      "avg val loss: 0.6773: 100%|██████████████████████████████████████████████████████████████████████████████████████████████████████████████████████████████████████████████████████████| 1/1 [00:00<00:00, 367.28it/s]\n"
     ]
    },
    {
     "name": "stdout",
     "output_type": "stream",
     "text": [
      "---  Accuracy : 0.5555555820465088 \n",
      "\n",
      "\n",
      "best val loss 0.6779 -> 0.6773\n",
      "\n",
      "Starting epoch 100 / 300\n"
     ]
    },
    {
     "name": "stderr",
     "output_type": "stream",
     "text": [
      "avg train loss: 0.5199: 100%|████████████████████████████████████████████████████████████████████████████████████████████████████████████████████████████████████████████████████████| 1/1 [00:00<00:00, 117.78it/s]\n",
      "avg val loss: 0.6768: 100%|██████████████████████████████████████████████████████████████████████████████████████████████████████████████████████████████████████████████████████████| 1/1 [00:00<00:00, 266.90it/s]\n"
     ]
    },
    {
     "name": "stdout",
     "output_type": "stream",
     "text": [
      "---  Accuracy : 0.5555555820465088 \n",
      "\n",
      "\n",
      "best val loss 0.6773 -> 0.6768\n",
      "\n",
      "Starting epoch 101 / 300\n"
     ]
    },
    {
     "name": "stderr",
     "output_type": "stream",
     "text": [
      "avg train loss: 0.5187: 100%|████████████████████████████████████████████████████████████████████████████████████████████████████████████████████████████████████████████████████████| 1/1 [00:00<00:00, 118.63it/s]\n",
      "avg val loss: 0.6761: 100%|██████████████████████████████████████████████████████████████████████████████████████████████████████████████████████████████████████████████████████████| 1/1 [00:00<00:00, 353.38it/s]\n"
     ]
    },
    {
     "name": "stdout",
     "output_type": "stream",
     "text": [
      "---  Accuracy : 0.5555555820465088 \n",
      "\n",
      "\n",
      "best val loss 0.6768 -> 0.6761\n",
      "\n",
      "Starting epoch 102 / 300\n"
     ]
    },
    {
     "name": "stderr",
     "output_type": "stream",
     "text": [
      "avg train loss: 0.5175: 100%|████████████████████████████████████████████████████████████████████████████████████████████████████████████████████████████████████████████████████████| 1/1 [00:00<00:00, 113.85it/s]\n",
      "avg val loss: 0.6754: 100%|██████████████████████████████████████████████████████████████████████████████████████████████████████████████████████████████████████████████████████████| 1/1 [00:00<00:00, 335.09it/s]\n"
     ]
    },
    {
     "name": "stdout",
     "output_type": "stream",
     "text": [
      "---  Accuracy : 0.5555555820465088 \n",
      "\n",
      "\n",
      "best val loss 0.6761 -> 0.6754\n",
      "\n",
      "Starting epoch 103 / 300\n"
     ]
    },
    {
     "name": "stderr",
     "output_type": "stream",
     "text": [
      "avg train loss: 0.5164: 100%|████████████████████████████████████████████████████████████████████████████████████████████████████████████████████████████████████████████████████████| 1/1 [00:00<00:00, 105.57it/s]\n",
      "avg val loss: 0.6746: 100%|██████████████████████████████████████████████████████████████████████████████████████████████████████████████████████████████████████████████████████████| 1/1 [00:00<00:00, 232.81it/s]\n"
     ]
    },
    {
     "name": "stdout",
     "output_type": "stream",
     "text": [
      "---  Accuracy : 0.5555555820465088 \n",
      "\n",
      "\n",
      "best val loss 0.6754 -> 0.6746\n",
      "\n",
      "Starting epoch 104 / 300\n"
     ]
    },
    {
     "name": "stderr",
     "output_type": "stream",
     "text": [
      "avg train loss: 0.5152: 100%|████████████████████████████████████████████████████████████████████████████████████████████████████████████████████████████████████████████████████████| 1/1 [00:00<00:00, 121.96it/s]\n",
      "avg val loss: 0.6738: 100%|██████████████████████████████████████████████████████████████████████████████████████████████████████████████████████████████████████████████████████████| 1/1 [00:00<00:00, 198.36it/s]\n"
     ]
    },
    {
     "name": "stdout",
     "output_type": "stream",
     "text": [
      "---  Accuracy : 0.5555555820465088 \n",
      "\n",
      "\n",
      "best val loss 0.6746 -> 0.6738\n",
      "\n",
      "Starting epoch 105 / 300\n"
     ]
    },
    {
     "name": "stderr",
     "output_type": "stream",
     "text": [
      "avg train loss: 0.5141: 100%|████████████████████████████████████████████████████████████████████████████████████████████████████████████████████████████████████████████████████████| 1/1 [00:00<00:00, 148.94it/s]\n",
      "avg val loss: 0.6730: 100%|██████████████████████████████████████████████████████████████████████████████████████████████████████████████████████████████████████████████████████████| 1/1 [00:00<00:00, 201.19it/s]\n"
     ]
    },
    {
     "name": "stdout",
     "output_type": "stream",
     "text": [
      "---  Accuracy : 0.5555555820465088 \n",
      "\n",
      "\n",
      "best val loss 0.6738 -> 0.6730\n",
      "\n",
      "Starting epoch 106 / 300\n"
     ]
    },
    {
     "name": "stderr",
     "output_type": "stream",
     "text": [
      "avg train loss: 0.5130: 100%|████████████████████████████████████████████████████████████████████████████████████████████████████████████████████████████████████████████████████████| 1/1 [00:00<00:00, 131.55it/s]\n",
      "avg val loss: 0.6723: 100%|██████████████████████████████████████████████████████████████████████████████████████████████████████████████████████████████████████████████████████████| 1/1 [00:00<00:00, 211.52it/s]\n"
     ]
    },
    {
     "name": "stdout",
     "output_type": "stream",
     "text": [
      "---  Accuracy : 0.5555555820465088 \n",
      "\n",
      "\n",
      "best val loss 0.6730 -> 0.6723\n",
      "\n",
      "Starting epoch 107 / 300\n"
     ]
    },
    {
     "name": "stderr",
     "output_type": "stream",
     "text": [
      "avg train loss: 0.5118: 100%|████████████████████████████████████████████████████████████████████████████████████████████████████████████████████████████████████████████████████████| 1/1 [00:00<00:00, 109.12it/s]\n",
      "avg val loss: 0.6716: 100%|██████████████████████████████████████████████████████████████████████████████████████████████████████████████████████████████████████████████████████████| 1/1 [00:00<00:00, 262.98it/s]\n"
     ]
    },
    {
     "name": "stdout",
     "output_type": "stream",
     "text": [
      "---  Accuracy : 0.5555555820465088 \n",
      "\n",
      "\n",
      "best val loss 0.6723 -> 0.6716\n",
      "\n",
      "Starting epoch 108 / 300\n"
     ]
    },
    {
     "name": "stderr",
     "output_type": "stream",
     "text": [
      "avg train loss: 0.5107: 100%|████████████████████████████████████████████████████████████████████████████████████████████████████████████████████████████████████████████████████████| 1/1 [00:00<00:00, 113.07it/s]\n",
      "avg val loss: 0.6710: 100%|██████████████████████████████████████████████████████████████████████████████████████████████████████████████████████████████████████████████████████████| 1/1 [00:00<00:00, 296.23it/s]\n"
     ]
    },
    {
     "name": "stdout",
     "output_type": "stream",
     "text": [
      "---  Accuracy : 0.5555555820465088 \n",
      "\n",
      "\n",
      "best val loss 0.6716 -> 0.6710\n",
      "\n",
      "Starting epoch 109 / 300\n"
     ]
    },
    {
     "name": "stderr",
     "output_type": "stream",
     "text": [
      "avg train loss: 0.5096: 100%|████████████████████████████████████████████████████████████████████████████████████████████████████████████████████████████████████████████████████████| 1/1 [00:00<00:00, 102.77it/s]\n",
      "avg val loss: 0.6704: 100%|██████████████████████████████████████████████████████████████████████████████████████████████████████████████████████████████████████████████████████████| 1/1 [00:00<00:00, 326.00it/s]\n"
     ]
    },
    {
     "name": "stdout",
     "output_type": "stream",
     "text": [
      "---  Accuracy : 0.5555555820465088 \n",
      "\n",
      "\n",
      "best val loss 0.6710 -> 0.6704\n",
      "\n",
      "Starting epoch 110 / 300\n"
     ]
    },
    {
     "name": "stderr",
     "output_type": "stream",
     "text": [
      "avg train loss: 0.5084: 100%|█████████████████████████████████████████████████████████████████████████████████████████████████████████████████████████████████████████████████████████| 1/1 [00:00<00:00, 89.09it/s]\n",
      "avg val loss: 0.6698: 100%|██████████████████████████████████████████████████████████████████████████████████████████████████████████████████████████████████████████████████████████| 1/1 [00:00<00:00, 346.18it/s]\n"
     ]
    },
    {
     "name": "stdout",
     "output_type": "stream",
     "text": [
      "---  Accuracy : 0.5555555820465088 \n",
      "\n",
      "\n",
      "best val loss 0.6704 -> 0.6698\n",
      "\n",
      "Starting epoch 111 / 300\n"
     ]
    },
    {
     "name": "stderr",
     "output_type": "stream",
     "text": [
      "avg train loss: 0.5073: 100%|█████████████████████████████████████████████████████████████████████████████████████████████████████████████████████████████████████████████████████████| 1/1 [00:00<00:00, 87.88it/s]\n",
      "avg val loss: 0.6692: 100%|██████████████████████████████████████████████████████████████████████████████████████████████████████████████████████████████████████████████████████████| 1/1 [00:00<00:00, 317.75it/s]\n"
     ]
    },
    {
     "name": "stdout",
     "output_type": "stream",
     "text": [
      "---  Accuracy : 0.4444444477558136 \n",
      "\n",
      "\n",
      "best val loss 0.6698 -> 0.6692\n",
      "\n",
      "Starting epoch 112 / 300\n"
     ]
    },
    {
     "name": "stderr",
     "output_type": "stream",
     "text": [
      "avg train loss: 0.5062: 100%|████████████████████████████████████████████████████████████████████████████████████████████████████████████████████████████████████████████████████████| 1/1 [00:00<00:00, 110.66it/s]\n",
      "avg val loss: 0.6685: 100%|██████████████████████████████████████████████████████████████████████████████████████████████████████████████████████████████████████████████████████████| 1/1 [00:00<00:00, 301.47it/s]\n"
     ]
    },
    {
     "name": "stdout",
     "output_type": "stream",
     "text": [
      "---  Accuracy : 0.4444444477558136 \n",
      "\n",
      "\n",
      "best val loss 0.6692 -> 0.6685\n",
      "\n",
      "Starting epoch 113 / 300\n"
     ]
    },
    {
     "name": "stderr",
     "output_type": "stream",
     "text": [
      "avg train loss: 0.5051: 100%|████████████████████████████████████████████████████████████████████████████████████████████████████████████████████████████████████████████████████████| 1/1 [00:00<00:00, 119.99it/s]\n",
      "avg val loss: 0.6678: 100%|██████████████████████████████████████████████████████████████████████████████████████████████████████████████████████████████████████████████████████████| 1/1 [00:00<00:00, 164.71it/s]\n"
     ]
    },
    {
     "name": "stdout",
     "output_type": "stream",
     "text": [
      "---  Accuracy : 0.4444444477558136 \n",
      "\n",
      "\n",
      "best val loss 0.6685 -> 0.6678\n",
      "\n",
      "Starting epoch 114 / 300\n"
     ]
    },
    {
     "name": "stderr",
     "output_type": "stream",
     "text": [
      "avg train loss: 0.5039: 100%|████████████████████████████████████████████████████████████████████████████████████████████████████████████████████████████████████████████████████████| 1/1 [00:00<00:00, 129.20it/s]\n",
      "avg val loss: 0.6671: 100%|██████████████████████████████████████████████████████████████████████████████████████████████████████████████████████████████████████████████████████████| 1/1 [00:00<00:00, 207.12it/s]\n"
     ]
    },
    {
     "name": "stdout",
     "output_type": "stream",
     "text": [
      "---  Accuracy : 0.4444444477558136 \n",
      "\n",
      "\n",
      "best val loss 0.6678 -> 0.6671\n",
      "\n",
      "Starting epoch 115 / 300\n"
     ]
    },
    {
     "name": "stderr",
     "output_type": "stream",
     "text": [
      "avg train loss: 0.5028: 100%|████████████████████████████████████████████████████████████████████████████████████████████████████████████████████████████████████████████████████████| 1/1 [00:00<00:00, 130.99it/s]\n",
      "avg val loss: 0.6663: 100%|██████████████████████████████████████████████████████████████████████████████████████████████████████████████████████████████████████████████████████████| 1/1 [00:00<00:00, 214.13it/s]\n"
     ]
    },
    {
     "name": "stdout",
     "output_type": "stream",
     "text": [
      "---  Accuracy : 0.4444444477558136 \n",
      "\n",
      "\n",
      "best val loss 0.6671 -> 0.6663\n",
      "\n",
      "Starting epoch 116 / 300\n"
     ]
    },
    {
     "name": "stderr",
     "output_type": "stream",
     "text": [
      "avg train loss: 0.5017: 100%|████████████████████████████████████████████████████████████████████████████████████████████████████████████████████████████████████████████████████████| 1/1 [00:00<00:00, 113.49it/s]\n",
      "avg val loss: 0.6656: 100%|██████████████████████████████████████████████████████████████████████████████████████████████████████████████████████████████████████████████████████████| 1/1 [00:00<00:00, 288.61it/s]\n"
     ]
    },
    {
     "name": "stdout",
     "output_type": "stream",
     "text": [
      "---  Accuracy : 0.4444444477558136 \n",
      "\n",
      "\n",
      "best val loss 0.6663 -> 0.6656\n",
      "\n",
      "Starting epoch 117 / 300\n"
     ]
    },
    {
     "name": "stderr",
     "output_type": "stream",
     "text": [
      "avg train loss: 0.5006: 100%|█████████████████████████████████████████████████████████████████████████████████████████████████████████████████████████████████████████████████████████| 1/1 [00:00<00:00, 89.51it/s]\n",
      "avg val loss: 0.6649: 100%|██████████████████████████████████████████████████████████████████████████████████████████████████████████████████████████████████████████████████████████| 1/1 [00:00<00:00, 320.59it/s]\n"
     ]
    },
    {
     "name": "stdout",
     "output_type": "stream",
     "text": [
      "---  Accuracy : 0.3333333432674408 \n",
      "\n",
      "\n",
      "best val loss 0.6656 -> 0.6649\n",
      "\n",
      "Starting epoch 118 / 300\n"
     ]
    },
    {
     "name": "stderr",
     "output_type": "stream",
     "text": [
      "avg train loss: 0.4995: 100%|█████████████████████████████████████████████████████████████████████████████████████████████████████████████████████████████████████████████████████████| 1/1 [00:00<00:00, 91.70it/s]\n",
      "avg val loss: 0.6643: 100%|██████████████████████████████████████████████████████████████████████████████████████████████████████████████████████████████████████████████████████████| 1/1 [00:00<00:00, 293.86it/s]\n"
     ]
    },
    {
     "name": "stdout",
     "output_type": "stream",
     "text": [
      "---  Accuracy : 0.3333333432674408 \n",
      "\n",
      "\n",
      "best val loss 0.6649 -> 0.6643\n",
      "\n",
      "Starting epoch 119 / 300\n"
     ]
    },
    {
     "name": "stderr",
     "output_type": "stream",
     "text": [
      "avg train loss: 0.4984: 100%|█████████████████████████████████████████████████████████████████████████████████████████████████████████████████████████████████████████████████████████| 1/1 [00:00<00:00, 78.82it/s]\n",
      "avg val loss: 0.6637: 100%|██████████████████████████████████████████████████████████████████████████████████████████████████████████████████████████████████████████████████████████| 1/1 [00:00<00:00, 326.66it/s]\n"
     ]
    },
    {
     "name": "stdout",
     "output_type": "stream",
     "text": [
      "---  Accuracy : 0.3333333432674408 \n",
      "\n",
      "\n",
      "best val loss 0.6643 -> 0.6637\n",
      "\n",
      "Starting epoch 120 / 300\n"
     ]
    },
    {
     "name": "stderr",
     "output_type": "stream",
     "text": [
      "avg train loss: 0.4973: 100%|████████████████████████████████████████████████████████████████████████████████████████████████████████████████████████████████████████████████████████| 1/1 [00:00<00:00, 111.82it/s]\n",
      "avg val loss: 0.6631: 100%|██████████████████████████████████████████████████████████████████████████████████████████████████████████████████████████████████████████████████████████| 1/1 [00:00<00:00, 201.61it/s]\n"
     ]
    },
    {
     "name": "stdout",
     "output_type": "stream",
     "text": [
      "---  Accuracy : 0.3333333432674408 \n",
      "\n",
      "\n",
      "best val loss 0.6637 -> 0.6631\n",
      "\n",
      "Starting epoch 121 / 300\n"
     ]
    },
    {
     "name": "stderr",
     "output_type": "stream",
     "text": [
      "avg train loss: 0.4962: 100%|████████████████████████████████████████████████████████████████████████████████████████████████████████████████████████████████████████████████████████| 1/1 [00:00<00:00, 115.41it/s]\n",
      "avg val loss: 0.6625: 100%|██████████████████████████████████████████████████████████████████████████████████████████████████████████████████████████████████████████████████████████| 1/1 [00:00<00:00, 359.87it/s]\n"
     ]
    },
    {
     "name": "stdout",
     "output_type": "stream",
     "text": [
      "---  Accuracy : 0.3333333432674408 \n",
      "\n",
      "\n",
      "best val loss 0.6631 -> 0.6625\n",
      "\n",
      "Starting epoch 122 / 300\n"
     ]
    },
    {
     "name": "stderr",
     "output_type": "stream",
     "text": [
      "avg train loss: 0.4951: 100%|█████████████████████████████████████████████████████████████████████████████████████████████████████████████████████████████████████████████████████████| 1/1 [00:00<00:00, 93.27it/s]\n",
      "avg val loss: 0.6619: 100%|██████████████████████████████████████████████████████████████████████████████████████████████████████████████████████████████████████████████████████████| 1/1 [00:00<00:00, 318.98it/s]\n"
     ]
    },
    {
     "name": "stdout",
     "output_type": "stream",
     "text": [
      "---  Accuracy : 0.3333333432674408 \n",
      "\n",
      "\n",
      "best val loss 0.6625 -> 0.6619\n",
      "\n",
      "Starting epoch 123 / 300\n"
     ]
    },
    {
     "name": "stderr",
     "output_type": "stream",
     "text": [
      "avg train loss: 0.4940: 100%|█████████████████████████████████████████████████████████████████████████████████████████████████████████████████████████████████████████████████████████| 1/1 [00:00<00:00, 79.76it/s]\n",
      "avg val loss: 0.6612: 100%|██████████████████████████████████████████████████████████████████████████████████████████████████████████████████████████████████████████████████████████| 1/1 [00:00<00:00, 365.20it/s]\n"
     ]
    },
    {
     "name": "stdout",
     "output_type": "stream",
     "text": [
      "---  Accuracy : 0.3333333432674408 \n",
      "\n",
      "\n",
      "best val loss 0.6619 -> 0.6612\n",
      "\n",
      "Starting epoch 124 / 300\n"
     ]
    },
    {
     "name": "stderr",
     "output_type": "stream",
     "text": [
      "avg train loss: 0.4929: 100%|█████████████████████████████████████████████████████████████████████████████████████████████████████████████████████████████████████████████████████████| 1/1 [00:00<00:00, 97.60it/s]\n",
      "avg val loss: 0.6606: 100%|██████████████████████████████████████████████████████████████████████████████████████████████████████████████████████████████████████████████████████████| 1/1 [00:00<00:00, 319.20it/s]\n"
     ]
    },
    {
     "name": "stdout",
     "output_type": "stream",
     "text": [
      "---  Accuracy : 0.3333333432674408 \n",
      "\n",
      "\n",
      "best val loss 0.6612 -> 0.6606\n",
      "\n",
      "Starting epoch 125 / 300\n"
     ]
    },
    {
     "name": "stderr",
     "output_type": "stream",
     "text": [
      "avg train loss: 0.4918: 100%|████████████████████████████████████████████████████████████████████████████████████████████████████████████████████████████████████████████████████████| 1/1 [00:00<00:00, 110.34it/s]\n",
      "avg val loss: 0.6599: 100%|██████████████████████████████████████████████████████████████████████████████████████████████████████████████████████████████████████████████████████████| 1/1 [00:00<00:00, 365.07it/s]\n"
     ]
    },
    {
     "name": "stdout",
     "output_type": "stream",
     "text": [
      "---  Accuracy : 0.3333333432674408 \n",
      "\n",
      "\n",
      "best val loss 0.6606 -> 0.6599\n",
      "\n",
      "Starting epoch 126 / 300\n"
     ]
    },
    {
     "name": "stderr",
     "output_type": "stream",
     "text": [
      "avg train loss: 0.4907: 100%|████████████████████████████████████████████████████████████████████████████████████████████████████████████████████████████████████████████████████████| 1/1 [00:00<00:00, 109.63it/s]\n",
      "avg val loss: 0.6593: 100%|██████████████████████████████████████████████████████████████████████████████████████████████████████████████████████████████████████████████████████████| 1/1 [00:00<00:00, 262.85it/s]\n"
     ]
    },
    {
     "name": "stdout",
     "output_type": "stream",
     "text": [
      "---  Accuracy : 0.3333333432674408 \n",
      "\n",
      "\n",
      "best val loss 0.6599 -> 0.6593\n",
      "\n",
      "Starting epoch 127 / 300\n"
     ]
    },
    {
     "name": "stderr",
     "output_type": "stream",
     "text": [
      "avg train loss: 0.4897: 100%|████████████████████████████████████████████████████████████████████████████████████████████████████████████████████████████████████████████████████████| 1/1 [00:00<00:00, 126.15it/s]\n",
      "avg val loss: 0.6586: 100%|██████████████████████████████████████████████████████████████████████████████████████████████████████████████████████████████████████████████████████████| 1/1 [00:00<00:00, 266.51it/s]\n"
     ]
    },
    {
     "name": "stdout",
     "output_type": "stream",
     "text": [
      "---  Accuracy : 0.4444444477558136 \n",
      "\n",
      "\n",
      "best val loss 0.6593 -> 0.6586\n",
      "\n",
      "Starting epoch 128 / 300\n"
     ]
    },
    {
     "name": "stderr",
     "output_type": "stream",
     "text": [
      "avg train loss: 0.4886: 100%|████████████████████████████████████████████████████████████████████████████████████████████████████████████████████████████████████████████████████████| 1/1 [00:00<00:00, 128.62it/s]\n",
      "avg val loss: 0.6580: 100%|██████████████████████████████████████████████████████████████████████████████████████████████████████████████████████████████████████████████████████████| 1/1 [00:00<00:00, 277.60it/s]\n"
     ]
    },
    {
     "name": "stdout",
     "output_type": "stream",
     "text": [
      "---  Accuracy : 0.4444444477558136 \n",
      "\n",
      "\n",
      "best val loss 0.6586 -> 0.6580\n",
      "\n",
      "Starting epoch 129 / 300\n"
     ]
    },
    {
     "name": "stderr",
     "output_type": "stream",
     "text": [
      "avg train loss: 0.4875: 100%|████████████████████████████████████████████████████████████████████████████████████████████████████████████████████████████████████████████████████████| 1/1 [00:00<00:00, 122.38it/s]\n",
      "avg val loss: 0.6574: 100%|██████████████████████████████████████████████████████████████████████████████████████████████████████████████████████████████████████████████████████████| 1/1 [00:00<00:00, 269.40it/s]\n"
     ]
    },
    {
     "name": "stdout",
     "output_type": "stream",
     "text": [
      "---  Accuracy : 0.4444444477558136 \n",
      "\n",
      "\n",
      "best val loss 0.6580 -> 0.6574\n",
      "\n",
      "Starting epoch 130 / 300\n"
     ]
    },
    {
     "name": "stderr",
     "output_type": "stream",
     "text": [
      "avg train loss: 0.4864: 100%|████████████████████████████████████████████████████████████████████████████████████████████████████████████████████████████████████████████████████████| 1/1 [00:00<00:00, 118.69it/s]\n",
      "avg val loss: 0.6568: 100%|██████████████████████████████████████████████████████████████████████████████████████████████████████████████████████████████████████████████████████████| 1/1 [00:00<00:00, 297.00it/s]\n"
     ]
    },
    {
     "name": "stdout",
     "output_type": "stream",
     "text": [
      "---  Accuracy : 0.4444444477558136 \n",
      "\n",
      "\n",
      "best val loss 0.6574 -> 0.6568\n",
      "\n",
      "Starting epoch 131 / 300\n"
     ]
    },
    {
     "name": "stderr",
     "output_type": "stream",
     "text": [
      "avg train loss: 0.4854: 100%|████████████████████████████████████████████████████████████████████████████████████████████████████████████████████████████████████████████████████████| 1/1 [00:00<00:00, 117.24it/s]\n",
      "avg val loss: 0.6563: 100%|██████████████████████████████████████████████████████████████████████████████████████████████████████████████████████████████████████████████████████████| 1/1 [00:00<00:00, 251.74it/s]\n"
     ]
    },
    {
     "name": "stdout",
     "output_type": "stream",
     "text": [
      "---  Accuracy : 0.4444444477558136 \n",
      "\n",
      "\n",
      "best val loss 0.6568 -> 0.6563\n",
      "\n",
      "Starting epoch 132 / 300\n"
     ]
    },
    {
     "name": "stderr",
     "output_type": "stream",
     "text": [
      "avg train loss: 0.4843: 100%|████████████████████████████████████████████████████████████████████████████████████████████████████████████████████████████████████████████████████████| 1/1 [00:00<00:00, 118.21it/s]\n",
      "avg val loss: 0.6557: 100%|██████████████████████████████████████████████████████████████████████████████████████████████████████████████████████████████████████████████████████████| 1/1 [00:00<00:00, 260.08it/s]\n"
     ]
    },
    {
     "name": "stdout",
     "output_type": "stream",
     "text": [
      "---  Accuracy : 0.4444444477558136 \n",
      "\n",
      "\n",
      "best val loss 0.6563 -> 0.6557\n",
      "\n",
      "Starting epoch 133 / 300\n"
     ]
    },
    {
     "name": "stderr",
     "output_type": "stream",
     "text": [
      "avg train loss: 0.4832: 100%|████████████████████████████████████████████████████████████████████████████████████████████████████████████████████████████████████████████████████████| 1/1 [00:00<00:00, 119.91it/s]\n",
      "avg val loss: 0.6551: 100%|██████████████████████████████████████████████████████████████████████████████████████████████████████████████████████████████████████████████████████████| 1/1 [00:00<00:00, 197.81it/s]\n"
     ]
    },
    {
     "name": "stdout",
     "output_type": "stream",
     "text": [
      "---  Accuracy : 0.4444444477558136 \n",
      "\n",
      "\n",
      "best val loss 0.6557 -> 0.6551\n",
      "\n",
      "Starting epoch 134 / 300\n"
     ]
    },
    {
     "name": "stderr",
     "output_type": "stream",
     "text": [
      "avg train loss: 0.4822: 100%|████████████████████████████████████████████████████████████████████████████████████████████████████████████████████████████████████████████████████████| 1/1 [00:00<00:00, 126.29it/s]\n",
      "avg val loss: 0.6546: 100%|██████████████████████████████████████████████████████████████████████████████████████████████████████████████████████████████████████████████████████████| 1/1 [00:00<00:00, 193.67it/s]\n"
     ]
    },
    {
     "name": "stdout",
     "output_type": "stream",
     "text": [
      "---  Accuracy : 0.4444444477558136 \n",
      "\n",
      "\n",
      "best val loss 0.6551 -> 0.6546\n",
      "\n",
      "Starting epoch 135 / 300\n"
     ]
    },
    {
     "name": "stderr",
     "output_type": "stream",
     "text": [
      "avg train loss: 0.4811: 100%|████████████████████████████████████████████████████████████████████████████████████████████████████████████████████████████████████████████████████████| 1/1 [00:00<00:00, 132.06it/s]\n",
      "avg val loss: 0.6540: 100%|██████████████████████████████████████████████████████████████████████████████████████████████████████████████████████████████████████████████████████████| 1/1 [00:00<00:00, 201.47it/s]\n"
     ]
    },
    {
     "name": "stdout",
     "output_type": "stream",
     "text": [
      "---  Accuracy : 0.4444444477558136 \n",
      "\n",
      "\n",
      "best val loss 0.6546 -> 0.6540\n",
      "\n",
      "Starting epoch 136 / 300\n"
     ]
    },
    {
     "name": "stderr",
     "output_type": "stream",
     "text": [
      "avg train loss: 0.4801: 100%|████████████████████████████████████████████████████████████████████████████████████████████████████████████████████████████████████████████████████████| 1/1 [00:00<00:00, 127.22it/s]\n",
      "avg val loss: 0.6534: 100%|██████████████████████████████████████████████████████████████████████████████████████████████████████████████████████████████████████████████████████████| 1/1 [00:00<00:00, 208.40it/s]\n"
     ]
    },
    {
     "name": "stdout",
     "output_type": "stream",
     "text": [
      "---  Accuracy : 0.4444444477558136 \n",
      "\n",
      "\n",
      "best val loss 0.6540 -> 0.6534\n",
      "\n",
      "Starting epoch 137 / 300\n"
     ]
    },
    {
     "name": "stderr",
     "output_type": "stream",
     "text": [
      "avg train loss: 0.4790: 100%|████████████████████████████████████████████████████████████████████████████████████████████████████████████████████████████████████████████████████████| 1/1 [00:00<00:00, 132.53it/s]\n",
      "avg val loss: 0.6528: 100%|██████████████████████████████████████████████████████████████████████████████████████████████████████████████████████████████████████████████████████████| 1/1 [00:00<00:00, 205.15it/s]\n"
     ]
    },
    {
     "name": "stdout",
     "output_type": "stream",
     "text": [
      "---  Accuracy : 0.4444444477558136 \n",
      "\n",
      "\n",
      "best val loss 0.6534 -> 0.6528\n",
      "\n",
      "Starting epoch 138 / 300\n"
     ]
    },
    {
     "name": "stderr",
     "output_type": "stream",
     "text": [
      "avg train loss: 0.4779: 100%|████████████████████████████████████████████████████████████████████████████████████████████████████████████████████████████████████████████████████████| 1/1 [00:00<00:00, 104.17it/s]\n",
      "avg val loss: 0.6522: 100%|██████████████████████████████████████████████████████████████████████████████████████████████████████████████████████████████████████████████████████████| 1/1 [00:00<00:00, 280.31it/s]\n"
     ]
    },
    {
     "name": "stdout",
     "output_type": "stream",
     "text": [
      "---  Accuracy : 0.4444444477558136 \n",
      "\n",
      "\n",
      "best val loss 0.6528 -> 0.6522\n",
      "\n",
      "Starting epoch 139 / 300\n"
     ]
    },
    {
     "name": "stderr",
     "output_type": "stream",
     "text": [
      "avg train loss: 0.4769: 100%|█████████████████████████████████████████████████████████████████████████████████████████████████████████████████████████████████████████████████████████| 1/1 [00:00<00:00, 87.74it/s]\n",
      "avg val loss: 0.6516: 100%|██████████████████████████████████████████████████████████████████████████████████████████████████████████████████████████████████████████████████████████| 1/1 [00:00<00:00, 308.16it/s]\n"
     ]
    },
    {
     "name": "stdout",
     "output_type": "stream",
     "text": [
      "---  Accuracy : 0.5555555820465088 \n",
      "\n",
      "\n",
      "best val loss 0.6522 -> 0.6516\n",
      "\n",
      "Starting epoch 140 / 300\n"
     ]
    },
    {
     "name": "stderr",
     "output_type": "stream",
     "text": [
      "avg train loss: 0.4758: 100%|█████████████████████████████████████████████████████████████████████████████████████████████████████████████████████████████████████████████████████████| 1/1 [00:00<00:00, 83.45it/s]\n",
      "avg val loss: 0.6510: 100%|██████████████████████████████████████████████████████████████████████████████████████████████████████████████████████████████████████████████████████████| 1/1 [00:00<00:00, 269.80it/s]\n"
     ]
    },
    {
     "name": "stdout",
     "output_type": "stream",
     "text": [
      "---  Accuracy : 0.5555555820465088 \n",
      "\n",
      "\n",
      "best val loss 0.6516 -> 0.6510\n",
      "\n",
      "Starting epoch 141 / 300\n"
     ]
    },
    {
     "name": "stderr",
     "output_type": "stream",
     "text": [
      "avg train loss: 0.4748: 100%|████████████████████████████████████████████████████████████████████████████████████████████████████████████████████████████████████████████████████████| 1/1 [00:00<00:00, 117.61it/s]\n",
      "avg val loss: 0.6505: 100%|██████████████████████████████████████████████████████████████████████████████████████████████████████████████████████████████████████████████████████████| 1/1 [00:00<00:00, 160.14it/s]\n"
     ]
    },
    {
     "name": "stdout",
     "output_type": "stream",
     "text": [
      "---  Accuracy : 0.5555555820465088 \n",
      "\n",
      "\n",
      "best val loss 0.6510 -> 0.6505\n",
      "\n",
      "Starting epoch 142 / 300\n"
     ]
    },
    {
     "name": "stderr",
     "output_type": "stream",
     "text": [
      "avg train loss: 0.4738: 100%|████████████████████████████████████████████████████████████████████████████████████████████████████████████████████████████████████████████████████████| 1/1 [00:00<00:00, 142.59it/s]\n",
      "avg val loss: 0.6499: 100%|██████████████████████████████████████████████████████████████████████████████████████████████████████████████████████████████████████████████████████████| 1/1 [00:00<00:00, 223.99it/s]\n"
     ]
    },
    {
     "name": "stdout",
     "output_type": "stream",
     "text": [
      "---  Accuracy : 0.5555555820465088 \n",
      "\n",
      "\n",
      "best val loss 0.6505 -> 0.6499\n",
      "\n",
      "Starting epoch 143 / 300\n"
     ]
    },
    {
     "name": "stderr",
     "output_type": "stream",
     "text": [
      "avg train loss: 0.4727: 100%|████████████████████████████████████████████████████████████████████████████████████████████████████████████████████████████████████████████████████████| 1/1 [00:00<00:00, 134.22it/s]\n",
      "avg val loss: 0.6493: 100%|██████████████████████████████████████████████████████████████████████████████████████████████████████████████████████████████████████████████████████████| 1/1 [00:00<00:00, 147.93it/s]\n"
     ]
    },
    {
     "name": "stdout",
     "output_type": "stream",
     "text": [
      "---  Accuracy : 0.5555555820465088 \n",
      "\n",
      "\n",
      "best val loss 0.6499 -> 0.6493\n",
      "\n",
      "Starting epoch 144 / 300\n"
     ]
    },
    {
     "name": "stderr",
     "output_type": "stream",
     "text": [
      "avg train loss: 0.4717: 100%|████████████████████████████████████████████████████████████████████████████████████████████████████████████████████████████████████████████████████████| 1/1 [00:00<00:00, 107.71it/s]\n",
      "avg val loss: 0.6488: 100%|██████████████████████████████████████████████████████████████████████████████████████████████████████████████████████████████████████████████████████████| 1/1 [00:00<00:00, 314.04it/s]\n"
     ]
    },
    {
     "name": "stdout",
     "output_type": "stream",
     "text": [
      "---  Accuracy : 0.5555555820465088 \n",
      "\n",
      "\n",
      "best val loss 0.6493 -> 0.6488\n",
      "\n",
      "Starting epoch 145 / 300\n"
     ]
    },
    {
     "name": "stderr",
     "output_type": "stream",
     "text": [
      "avg train loss: 0.4706: 100%|████████████████████████████████████████████████████████████████████████████████████████████████████████████████████████████████████████████████████████| 1/1 [00:00<00:00, 117.32it/s]\n",
      "avg val loss: 0.6482: 100%|██████████████████████████████████████████████████████████████████████████████████████████████████████████████████████████████████████████████████████████| 1/1 [00:00<00:00, 288.90it/s]\n"
     ]
    },
    {
     "name": "stdout",
     "output_type": "stream",
     "text": [
      "---  Accuracy : 0.5555555820465088 \n",
      "\n",
      "\n",
      "best val loss 0.6488 -> 0.6482\n",
      "\n",
      "Starting epoch 146 / 300\n"
     ]
    },
    {
     "name": "stderr",
     "output_type": "stream",
     "text": [
      "avg train loss: 0.4696: 100%|█████████████████████████████████████████████████████████████████████████████████████████████████████████████████████████████████████████████████████████| 1/1 [00:00<00:00, 83.97it/s]\n",
      "avg val loss: 0.6476: 100%|██████████████████████████████████████████████████████████████████████████████████████████████████████████████████████████████████████████████████████████| 1/1 [00:00<00:00, 406.42it/s]\n"
     ]
    },
    {
     "name": "stdout",
     "output_type": "stream",
     "text": [
      "---  Accuracy : 0.5555555820465088 \n",
      "\n",
      "\n",
      "best val loss 0.6482 -> 0.6476\n",
      "\n",
      "Starting epoch 147 / 300\n"
     ]
    },
    {
     "name": "stderr",
     "output_type": "stream",
     "text": [
      "avg train loss: 0.4686: 100%|█████████████████████████████████████████████████████████████████████████████████████████████████████████████████████████████████████████████████████████| 1/1 [00:00<00:00, 84.14it/s]\n",
      "avg val loss: 0.6470: 100%|██████████████████████████████████████████████████████████████████████████████████████████████████████████████████████████████████████████████████████████| 1/1 [00:00<00:00, 315.41it/s]\n"
     ]
    },
    {
     "name": "stdout",
     "output_type": "stream",
     "text": [
      "---  Accuracy : 0.5555555820465088 \n",
      "\n",
      "\n",
      "best val loss 0.6476 -> 0.6470\n",
      "\n",
      "Starting epoch 148 / 300\n"
     ]
    },
    {
     "name": "stderr",
     "output_type": "stream",
     "text": [
      "avg train loss: 0.4675: 100%|█████████████████████████████████████████████████████████████████████████████████████████████████████████████████████████████████████████████████████████| 1/1 [00:00<00:00, 90.58it/s]\n",
      "avg val loss: 0.6464: 100%|██████████████████████████████████████████████████████████████████████████████████████████████████████████████████████████████████████████████████████████| 1/1 [00:00<00:00, 373.19it/s]\n"
     ]
    },
    {
     "name": "stdout",
     "output_type": "stream",
     "text": [
      "---  Accuracy : 0.5555555820465088 \n",
      "\n",
      "\n",
      "best val loss 0.6470 -> 0.6464\n",
      "\n",
      "Starting epoch 149 / 300\n"
     ]
    },
    {
     "name": "stderr",
     "output_type": "stream",
     "text": [
      "avg train loss: 0.4665: 100%|████████████████████████████████████████████████████████████████████████████████████████████████████████████████████████████████████████████████████████| 1/1 [00:00<00:00, 102.75it/s]\n",
      "avg val loss: 0.6458: 100%|██████████████████████████████████████████████████████████████████████████████████████████████████████████████████████████████████████████████████████████| 1/1 [00:00<00:00, 297.72it/s]\n"
     ]
    },
    {
     "name": "stdout",
     "output_type": "stream",
     "text": [
      "---  Accuracy : 0.5555555820465088 \n",
      "\n",
      "\n",
      "best val loss 0.6464 -> 0.6458\n",
      "\n",
      "Starting epoch 150 / 300\n"
     ]
    },
    {
     "name": "stderr",
     "output_type": "stream",
     "text": [
      "avg train loss: 0.4655: 100%|████████████████████████████████████████████████████████████████████████████████████████████████████████████████████████████████████████████████████████| 1/1 [00:00<00:00, 114.48it/s]\n",
      "avg val loss: 0.6452: 100%|██████████████████████████████████████████████████████████████████████████████████████████████████████████████████████████████████████████████████████████| 1/1 [00:00<00:00, 185.24it/s]\n"
     ]
    },
    {
     "name": "stdout",
     "output_type": "stream",
     "text": [
      "---  Accuracy : 0.5555555820465088 \n",
      "\n",
      "\n",
      "best val loss 0.6458 -> 0.6452\n",
      "\n",
      "Starting epoch 151 / 300\n"
     ]
    },
    {
     "name": "stderr",
     "output_type": "stream",
     "text": [
      "avg train loss: 0.4644: 100%|████████████████████████████████████████████████████████████████████████████████████████████████████████████████████████████████████████████████████████| 1/1 [00:00<00:00, 130.73it/s]\n",
      "avg val loss: 0.6446: 100%|██████████████████████████████████████████████████████████████████████████████████████████████████████████████████████████████████████████████████████████| 1/1 [00:00<00:00, 196.45it/s]\n"
     ]
    },
    {
     "name": "stdout",
     "output_type": "stream",
     "text": [
      "---  Accuracy : 0.5555555820465088 \n",
      "\n",
      "\n",
      "best val loss 0.6452 -> 0.6446\n",
      "\n",
      "Starting epoch 152 / 300\n"
     ]
    },
    {
     "name": "stderr",
     "output_type": "stream",
     "text": [
      "avg train loss: 0.4634: 100%|████████████████████████████████████████████████████████████████████████████████████████████████████████████████████████████████████████████████████████| 1/1 [00:00<00:00, 112.67it/s]\n",
      "avg val loss: 0.6441: 100%|██████████████████████████████████████████████████████████████████████████████████████████████████████████████████████████████████████████████████████████| 1/1 [00:00<00:00, 388.54it/s]\n"
     ]
    },
    {
     "name": "stdout",
     "output_type": "stream",
     "text": [
      "---  Accuracy : 0.5555555820465088 \n",
      "\n",
      "\n",
      "best val loss 0.6446 -> 0.6441\n",
      "\n",
      "Starting epoch 153 / 300\n"
     ]
    },
    {
     "name": "stderr",
     "output_type": "stream",
     "text": [
      "avg train loss: 0.4624: 100%|████████████████████████████████████████████████████████████████████████████████████████████████████████████████████████████████████████████████████████| 1/1 [00:00<00:00, 103.10it/s]\n",
      "avg val loss: 0.6435: 100%|██████████████████████████████████████████████████████████████████████████████████████████████████████████████████████████████████████████████████████████| 1/1 [00:00<00:00, 275.51it/s]\n"
     ]
    },
    {
     "name": "stdout",
     "output_type": "stream",
     "text": [
      "---  Accuracy : 0.5555555820465088 \n",
      "\n",
      "\n",
      "best val loss 0.6441 -> 0.6435\n",
      "\n",
      "Starting epoch 154 / 300\n"
     ]
    },
    {
     "name": "stderr",
     "output_type": "stream",
     "text": [
      "avg train loss: 0.4614: 100%|█████████████████████████████████████████████████████████████████████████████████████████████████████████████████████████████████████████████████████████| 1/1 [00:00<00:00, 88.60it/s]\n",
      "avg val loss: 0.6429: 100%|██████████████████████████████████████████████████████████████████████████████████████████████████████████████████████████████████████████████████████████| 1/1 [00:00<00:00, 312.89it/s]\n"
     ]
    },
    {
     "name": "stdout",
     "output_type": "stream",
     "text": [
      "---  Accuracy : 0.5555555820465088 \n",
      "\n",
      "\n",
      "best val loss 0.6435 -> 0.6429\n",
      "\n",
      "Starting epoch 155 / 300\n"
     ]
    },
    {
     "name": "stderr",
     "output_type": "stream",
     "text": [
      "avg train loss: 0.4603: 100%|█████████████████████████████████████████████████████████████████████████████████████████████████████████████████████████████████████████████████████████| 1/1 [00:00<00:00, 86.13it/s]\n",
      "avg val loss: 0.6423: 100%|██████████████████████████████████████████████████████████████████████████████████████████████████████████████████████████████████████████████████████████| 1/1 [00:00<00:00, 364.85it/s]\n"
     ]
    },
    {
     "name": "stdout",
     "output_type": "stream",
     "text": [
      "---  Accuracy : 0.5555555820465088 \n",
      "\n",
      "\n",
      "best val loss 0.6429 -> 0.6423\n",
      "\n",
      "Starting epoch 156 / 300\n"
     ]
    },
    {
     "name": "stderr",
     "output_type": "stream",
     "text": [
      "avg train loss: 0.4593: 100%|█████████████████████████████████████████████████████████████████████████████████████████████████████████████████████████████████████████████████████████| 1/1 [00:00<00:00, 91.71it/s]\n",
      "avg val loss: 0.6416: 100%|██████████████████████████████████████████████████████████████████████████████████████████████████████████████████████████████████████████████████████████| 1/1 [00:00<00:00, 333.28it/s]\n"
     ]
    },
    {
     "name": "stdout",
     "output_type": "stream",
     "text": [
      "---  Accuracy : 0.5555555820465088 \n",
      "\n",
      "\n",
      "best val loss 0.6423 -> 0.6416\n",
      "\n",
      "Starting epoch 157 / 300\n"
     ]
    },
    {
     "name": "stderr",
     "output_type": "stream",
     "text": [
      "avg train loss: 0.4583: 100%|████████████████████████████████████████████████████████████████████████████████████████████████████████████████████████████████████████████████████████| 1/1 [00:00<00:00, 105.93it/s]\n",
      "avg val loss: 0.6410: 100%|██████████████████████████████████████████████████████████████████████████████████████████████████████████████████████████████████████████████████████████| 1/1 [00:00<00:00, 259.21it/s]\n"
     ]
    },
    {
     "name": "stdout",
     "output_type": "stream",
     "text": [
      "---  Accuracy : 0.5555555820465088 \n",
      "\n",
      "\n",
      "best val loss 0.6416 -> 0.6410\n",
      "\n",
      "Starting epoch 158 / 300\n"
     ]
    },
    {
     "name": "stderr",
     "output_type": "stream",
     "text": [
      "avg train loss: 0.4573: 100%|████████████████████████████████████████████████████████████████████████████████████████████████████████████████████████████████████████████████████████| 1/1 [00:00<00:00, 118.16it/s]\n",
      "avg val loss: 0.6404: 100%|██████████████████████████████████████████████████████████████████████████████████████████████████████████████████████████████████████████████████████████| 1/1 [00:00<00:00, 204.19it/s]\n"
     ]
    },
    {
     "name": "stdout",
     "output_type": "stream",
     "text": [
      "---  Accuracy : 0.5555555820465088 \n",
      "\n",
      "\n",
      "best val loss 0.6410 -> 0.6404\n",
      "\n",
      "Starting epoch 159 / 300\n"
     ]
    },
    {
     "name": "stderr",
     "output_type": "stream",
     "text": [
      "avg train loss: 0.4563: 100%|████████████████████████████████████████████████████████████████████████████████████████████████████████████████████████████████████████████████████████| 1/1 [00:00<00:00, 130.95it/s]\n",
      "avg val loss: 0.6397: 100%|██████████████████████████████████████████████████████████████████████████████████████████████████████████████████████████████████████████████████████████| 1/1 [00:00<00:00, 128.88it/s]\n"
     ]
    },
    {
     "name": "stdout",
     "output_type": "stream",
     "text": [
      "---  Accuracy : 0.5555555820465088 \n",
      "\n",
      "\n",
      "best val loss 0.6404 -> 0.6397\n",
      "\n",
      "Starting epoch 160 / 300\n"
     ]
    },
    {
     "name": "stderr",
     "output_type": "stream",
     "text": [
      "avg train loss: 0.4552: 100%|████████████████████████████████████████████████████████████████████████████████████████████████████████████████████████████████████████████████████████| 1/1 [00:00<00:00, 113.83it/s]\n",
      "avg val loss: 0.6391: 100%|██████████████████████████████████████████████████████████████████████████████████████████████████████████████████████████████████████████████████████████| 1/1 [00:00<00:00, 214.20it/s]\n"
     ]
    },
    {
     "name": "stdout",
     "output_type": "stream",
     "text": [
      "---  Accuracy : 0.5555555820465088 \n",
      "\n",
      "\n",
      "best val loss 0.6397 -> 0.6391\n",
      "\n",
      "Starting epoch 161 / 300\n"
     ]
    },
    {
     "name": "stderr",
     "output_type": "stream",
     "text": [
      "avg train loss: 0.4542: 100%|████████████████████████████████████████████████████████████████████████████████████████████████████████████████████████████████████████████████████████| 1/1 [00:00<00:00, 100.06it/s]\n",
      "avg val loss: 0.6385: 100%|██████████████████████████████████████████████████████████████████████████████████████████████████████████████████████████████████████████████████████████| 1/1 [00:00<00:00, 318.40it/s]\n"
     ]
    },
    {
     "name": "stdout",
     "output_type": "stream",
     "text": [
      "---  Accuracy : 0.5555555820465088 \n",
      "\n",
      "\n",
      "best val loss 0.6391 -> 0.6385\n",
      "\n",
      "Starting epoch 162 / 300\n"
     ]
    },
    {
     "name": "stderr",
     "output_type": "stream",
     "text": [
      "avg train loss: 0.4532: 100%|████████████████████████████████████████████████████████████████████████████████████████████████████████████████████████████████████████████████████████| 1/1 [00:00<00:00, 105.04it/s]\n",
      "avg val loss: 0.6378: 100%|██████████████████████████████████████████████████████████████████████████████████████████████████████████████████████████████████████████████████████████| 1/1 [00:00<00:00, 318.09it/s]\n"
     ]
    },
    {
     "name": "stdout",
     "output_type": "stream",
     "text": [
      "---  Accuracy : 0.5555555820465088 \n",
      "\n",
      "\n",
      "best val loss 0.6385 -> 0.6378\n",
      "\n",
      "Starting epoch 163 / 300\n"
     ]
    },
    {
     "name": "stderr",
     "output_type": "stream",
     "text": [
      "avg train loss: 0.4522: 100%|█████████████████████████████████████████████████████████████████████████████████████████████████████████████████████████████████████████████████████████| 1/1 [00:00<00:00, 82.43it/s]\n",
      "avg val loss: 0.6372: 100%|██████████████████████████████████████████████████████████████████████████████████████████████████████████████████████████████████████████████████████████| 1/1 [00:00<00:00, 418.51it/s]\n"
     ]
    },
    {
     "name": "stdout",
     "output_type": "stream",
     "text": [
      "---  Accuracy : 0.5555555820465088 \n",
      "\n",
      "\n",
      "best val loss 0.6378 -> 0.6372\n",
      "\n",
      "Starting epoch 164 / 300\n"
     ]
    },
    {
     "name": "stderr",
     "output_type": "stream",
     "text": [
      "avg train loss: 0.4512: 100%|█████████████████████████████████████████████████████████████████████████████████████████████████████████████████████████████████████████████████████████| 1/1 [00:00<00:00, 84.53it/s]\n",
      "avg val loss: 0.6365: 100%|██████████████████████████████████████████████████████████████████████████████████████████████████████████████████████████████████████████████████████████| 1/1 [00:00<00:00, 207.60it/s]\n"
     ]
    },
    {
     "name": "stdout",
     "output_type": "stream",
     "text": [
      "---  Accuracy : 0.5555555820465088 \n",
      "\n",
      "\n",
      "best val loss 0.6372 -> 0.6365\n",
      "\n",
      "Starting epoch 165 / 300\n"
     ]
    },
    {
     "name": "stderr",
     "output_type": "stream",
     "text": [
      "avg train loss: 0.4502: 100%|████████████████████████████████████████████████████████████████████████████████████████████████████████████████████████████████████████████████████████| 1/1 [00:00<00:00, 123.15it/s]\n",
      "avg val loss: 0.6359: 100%|██████████████████████████████████████████████████████████████████████████████████████████████████████████████████████████████████████████████████████████| 1/1 [00:00<00:00, 215.09it/s]\n"
     ]
    },
    {
     "name": "stdout",
     "output_type": "stream",
     "text": [
      "---  Accuracy : 0.5555555820465088 \n",
      "\n",
      "\n",
      "best val loss 0.6365 -> 0.6359\n",
      "\n",
      "Starting epoch 166 / 300\n"
     ]
    },
    {
     "name": "stderr",
     "output_type": "stream",
     "text": [
      "avg train loss: 0.4492: 100%|████████████████████████████████████████████████████████████████████████████████████████████████████████████████████████████████████████████████████████| 1/1 [00:00<00:00, 127.70it/s]\n",
      "avg val loss: 0.6352: 100%|██████████████████████████████████████████████████████████████████████████████████████████████████████████████████████████████████████████████████████████| 1/1 [00:00<00:00, 170.92it/s]\n"
     ]
    },
    {
     "name": "stdout",
     "output_type": "stream",
     "text": [
      "---  Accuracy : 0.5555555820465088 \n",
      "\n",
      "\n",
      "best val loss 0.6359 -> 0.6352\n",
      "\n",
      "Starting epoch 167 / 300\n"
     ]
    },
    {
     "name": "stderr",
     "output_type": "stream",
     "text": [
      "avg train loss: 0.4482: 100%|████████████████████████████████████████████████████████████████████████████████████████████████████████████████████████████████████████████████████████| 1/1 [00:00<00:00, 130.51it/s]\n",
      "avg val loss: 0.6346: 100%|██████████████████████████████████████████████████████████████████████████████████████████████████████████████████████████████████████████████████████████| 1/1 [00:00<00:00, 191.81it/s]\n"
     ]
    },
    {
     "name": "stdout",
     "output_type": "stream",
     "text": [
      "---  Accuracy : 0.5555555820465088 \n",
      "\n",
      "\n",
      "best val loss 0.6352 -> 0.6346\n",
      "\n",
      "Starting epoch 168 / 300\n"
     ]
    },
    {
     "name": "stderr",
     "output_type": "stream",
     "text": [
      "avg train loss: 0.4472: 100%|████████████████████████████████████████████████████████████████████████████████████████████████████████████████████████████████████████████████████████| 1/1 [00:00<00:00, 145.46it/s]\n",
      "avg val loss: 0.6339: 100%|██████████████████████████████████████████████████████████████████████████████████████████████████████████████████████████████████████████████████████████| 1/1 [00:00<00:00, 322.14it/s]\n"
     ]
    },
    {
     "name": "stdout",
     "output_type": "stream",
     "text": [
      "---  Accuracy : 0.5555555820465088 \n",
      "\n",
      "\n",
      "best val loss 0.6346 -> 0.6339\n",
      "\n",
      "Starting epoch 169 / 300\n"
     ]
    },
    {
     "name": "stderr",
     "output_type": "stream",
     "text": [
      "avg train loss: 0.4462: 100%|█████████████████████████████████████████████████████████████████████████████████████████████████████████████████████████████████████████████████████████| 1/1 [00:00<00:00, 94.53it/s]\n",
      "avg val loss: 0.6332: 100%|██████████████████████████████████████████████████████████████████████████████████████████████████████████████████████████████████████████████████████████| 1/1 [00:00<00:00, 321.33it/s]\n"
     ]
    },
    {
     "name": "stdout",
     "output_type": "stream",
     "text": [
      "---  Accuracy : 0.5555555820465088 \n",
      "\n",
      "\n",
      "best val loss 0.6339 -> 0.6332\n",
      "\n",
      "Starting epoch 170 / 300\n"
     ]
    },
    {
     "name": "stderr",
     "output_type": "stream",
     "text": [
      "avg train loss: 0.4452: 100%|█████████████████████████████████████████████████████████████████████████████████████████████████████████████████████████████████████████████████████████| 1/1 [00:00<00:00, 86.92it/s]\n",
      "avg val loss: 0.6326: 100%|██████████████████████████████████████████████████████████████████████████████████████████████████████████████████████████████████████████████████████████| 1/1 [00:00<00:00, 350.40it/s]\n"
     ]
    },
    {
     "name": "stdout",
     "output_type": "stream",
     "text": [
      "---  Accuracy : 0.5555555820465088 \n",
      "\n",
      "\n",
      "best val loss 0.6332 -> 0.6326\n",
      "\n",
      "Starting epoch 171 / 300\n"
     ]
    },
    {
     "name": "stderr",
     "output_type": "stream",
     "text": [
      "avg train loss: 0.4442: 100%|█████████████████████████████████████████████████████████████████████████████████████████████████████████████████████████████████████████████████████████| 1/1 [00:00<00:00, 78.91it/s]\n",
      "avg val loss: 0.6319: 100%|██████████████████████████████████████████████████████████████████████████████████████████████████████████████████████████████████████████████████████████| 1/1 [00:00<00:00, 287.91it/s]\n"
     ]
    },
    {
     "name": "stdout",
     "output_type": "stream",
     "text": [
      "---  Accuracy : 0.5555555820465088 \n",
      "\n",
      "\n",
      "best val loss 0.6326 -> 0.6319\n",
      "\n",
      "Starting epoch 172 / 300\n"
     ]
    },
    {
     "name": "stderr",
     "output_type": "stream",
     "text": [
      "avg train loss: 0.4432: 100%|████████████████████████████████████████████████████████████████████████████████████████████████████████████████████████████████████████████████████████| 1/1 [00:00<00:00, 115.57it/s]\n",
      "avg val loss: 0.6312: 100%|██████████████████████████████████████████████████████████████████████████████████████████████████████████████████████████████████████████████████████████| 1/1 [00:00<00:00, 270.71it/s]\n"
     ]
    },
    {
     "name": "stdout",
     "output_type": "stream",
     "text": [
      "---  Accuracy : 0.5555555820465088 \n",
      "\n",
      "\n",
      "best val loss 0.6319 -> 0.6312\n",
      "\n",
      "Starting epoch 173 / 300\n"
     ]
    },
    {
     "name": "stderr",
     "output_type": "stream",
     "text": [
      "avg train loss: 0.4422: 100%|████████████████████████████████████████████████████████████████████████████████████████████████████████████████████████████████████████████████████████| 1/1 [00:00<00:00, 115.90it/s]\n",
      "avg val loss: 0.6306: 100%|██████████████████████████████████████████████████████████████████████████████████████████████████████████████████████████████████████████████████████████| 1/1 [00:00<00:00, 226.11it/s]\n"
     ]
    },
    {
     "name": "stdout",
     "output_type": "stream",
     "text": [
      "---  Accuracy : 0.5555555820465088 \n",
      "\n",
      "\n",
      "best val loss 0.6312 -> 0.6306\n",
      "\n",
      "Starting epoch 174 / 300\n"
     ]
    },
    {
     "name": "stderr",
     "output_type": "stream",
     "text": [
      "avg train loss: 0.4412: 100%|████████████████████████████████████████████████████████████████████████████████████████████████████████████████████████████████████████████████████████| 1/1 [00:00<00:00, 117.47it/s]\n",
      "avg val loss: 0.6299: 100%|██████████████████████████████████████████████████████████████████████████████████████████████████████████████████████████████████████████████████████████| 1/1 [00:00<00:00, 166.01it/s]\n"
     ]
    },
    {
     "name": "stdout",
     "output_type": "stream",
     "text": [
      "---  Accuracy : 0.5555555820465088 \n",
      "\n",
      "\n",
      "best val loss 0.6306 -> 0.6299\n",
      "\n",
      "Starting epoch 175 / 300\n"
     ]
    },
    {
     "name": "stderr",
     "output_type": "stream",
     "text": [
      "avg train loss: 0.4403: 100%|████████████████████████████████████████████████████████████████████████████████████████████████████████████████████████████████████████████████████████| 1/1 [00:00<00:00, 127.91it/s]\n",
      "avg val loss: 0.6293: 100%|██████████████████████████████████████████████████████████████████████████████████████████████████████████████████████████████████████████████████████████| 1/1 [00:00<00:00, 231.21it/s]\n"
     ]
    },
    {
     "name": "stdout",
     "output_type": "stream",
     "text": [
      "---  Accuracy : 0.5555555820465088 \n",
      "\n",
      "\n",
      "best val loss 0.6299 -> 0.6293\n",
      "\n",
      "Starting epoch 176 / 300\n"
     ]
    },
    {
     "name": "stderr",
     "output_type": "stream",
     "text": [
      "avg train loss: 0.4393: 100%|████████████████████████████████████████████████████████████████████████████████████████████████████████████████████████████████████████████████████████| 1/1 [00:00<00:00, 125.71it/s]\n",
      "avg val loss: 0.6286: 100%|██████████████████████████████████████████████████████████████████████████████████████████████████████████████████████████████████████████████████████████| 1/1 [00:00<00:00, 243.78it/s]\n"
     ]
    },
    {
     "name": "stdout",
     "output_type": "stream",
     "text": [
      "---  Accuracy : 0.5555555820465088 \n",
      "\n",
      "\n",
      "best val loss 0.6293 -> 0.6286\n",
      "\n",
      "Starting epoch 177 / 300\n"
     ]
    },
    {
     "name": "stderr",
     "output_type": "stream",
     "text": [
      "avg train loss: 0.4383: 100%|████████████████████████████████████████████████████████████████████████████████████████████████████████████████████████████████████████████████████████| 1/1 [00:00<00:00, 116.52it/s]\n",
      "avg val loss: 0.6280: 100%|██████████████████████████████████████████████████████████████████████████████████████████████████████████████████████████████████████████████████████████| 1/1 [00:00<00:00, 247.38it/s]\n"
     ]
    },
    {
     "name": "stdout",
     "output_type": "stream",
     "text": [
      "---  Accuracy : 0.5555555820465088 \n",
      "\n",
      "\n",
      "best val loss 0.6286 -> 0.6280\n",
      "\n",
      "Starting epoch 178 / 300\n"
     ]
    },
    {
     "name": "stderr",
     "output_type": "stream",
     "text": [
      "avg train loss: 0.4373: 100%|█████████████████████████████████████████████████████████████████████████████████████████████████████████████████████████████████████████████████████████| 1/1 [00:00<00:00, 91.71it/s]\n",
      "avg val loss: 0.6273: 100%|██████████████████████████████████████████████████████████████████████████████████████████████████████████████████████████████████████████████████████████| 1/1 [00:00<00:00, 225.76it/s]\n"
     ]
    },
    {
     "name": "stdout",
     "output_type": "stream",
     "text": [
      "---  Accuracy : 0.5555555820465088 \n",
      "\n",
      "\n",
      "best val loss 0.6280 -> 0.6273\n",
      "\n",
      "Starting epoch 179 / 300\n"
     ]
    },
    {
     "name": "stderr",
     "output_type": "stream",
     "text": [
      "avg train loss: 0.4363: 100%|█████████████████████████████████████████████████████████████████████████████████████████████████████████████████████████████████████████████████████████| 1/1 [00:00<00:00, 82.59it/s]\n",
      "avg val loss: 0.6267: 100%|██████████████████████████████████████████████████████████████████████████████████████████████████████████████████████████████████████████████████████████| 1/1 [00:00<00:00, 377.83it/s]\n"
     ]
    },
    {
     "name": "stdout",
     "output_type": "stream",
     "text": [
      "---  Accuracy : 0.5555555820465088 \n",
      "\n",
      "\n",
      "best val loss 0.6273 -> 0.6267\n",
      "\n",
      "Starting epoch 180 / 300\n"
     ]
    },
    {
     "name": "stderr",
     "output_type": "stream",
     "text": [
      "avg train loss: 0.4354: 100%|████████████████████████████████████████████████████████████████████████████████████████████████████████████████████████████████████████████████████████| 1/1 [00:00<00:00, 104.20it/s]\n",
      "avg val loss: 0.6260: 100%|██████████████████████████████████████████████████████████████████████████████████████████████████████████████████████████████████████████████████████████| 1/1 [00:00<00:00, 392.36it/s]\n"
     ]
    },
    {
     "name": "stdout",
     "output_type": "stream",
     "text": [
      "---  Accuracy : 0.5555555820465088 \n",
      "\n",
      "\n",
      "best val loss 0.6267 -> 0.6260\n",
      "\n",
      "Starting epoch 181 / 300\n"
     ]
    },
    {
     "name": "stderr",
     "output_type": "stream",
     "text": [
      "avg train loss: 0.4344: 100%|████████████████████████████████████████████████████████████████████████████████████████████████████████████████████████████████████████████████████████| 1/1 [00:00<00:00, 109.93it/s]\n",
      "avg val loss: 0.6254: 100%|██████████████████████████████████████████████████████████████████████████████████████████████████████████████████████████████████████████████████████████| 1/1 [00:00<00:00, 368.44it/s]\n"
     ]
    },
    {
     "name": "stdout",
     "output_type": "stream",
     "text": [
      "---  Accuracy : 0.5555555820465088 \n",
      "\n",
      "\n",
      "best val loss 0.6260 -> 0.6254\n",
      "\n",
      "Starting epoch 182 / 300\n"
     ]
    },
    {
     "name": "stderr",
     "output_type": "stream",
     "text": [
      "avg train loss: 0.4334: 100%|████████████████████████████████████████████████████████████████████████████████████████████████████████████████████████████████████████████████████████| 1/1 [00:00<00:00, 102.56it/s]\n",
      "avg val loss: 0.6248: 100%|██████████████████████████████████████████████████████████████████████████████████████████████████████████████████████████████████████████████████████████| 1/1 [00:00<00:00, 220.01it/s]\n"
     ]
    },
    {
     "name": "stdout",
     "output_type": "stream",
     "text": [
      "---  Accuracy : 0.5555555820465088 \n",
      "\n",
      "\n",
      "best val loss 0.6254 -> 0.6248\n",
      "\n",
      "Starting epoch 183 / 300\n"
     ]
    },
    {
     "name": "stderr",
     "output_type": "stream",
     "text": [
      "avg train loss: 0.4324: 100%|████████████████████████████████████████████████████████████████████████████████████████████████████████████████████████████████████████████████████████| 1/1 [00:00<00:00, 138.88it/s]\n",
      "avg val loss: 0.6242: 100%|██████████████████████████████████████████████████████████████████████████████████████████████████████████████████████████████████████████████████████████| 1/1 [00:00<00:00, 135.22it/s]\n"
     ]
    },
    {
     "name": "stdout",
     "output_type": "stream",
     "text": [
      "---  Accuracy : 0.5555555820465088 \n",
      "\n",
      "\n",
      "best val loss 0.6248 -> 0.6242\n",
      "\n",
      "Starting epoch 184 / 300\n"
     ]
    },
    {
     "name": "stderr",
     "output_type": "stream",
     "text": [
      "avg train loss: 0.4315: 100%|████████████████████████████████████████████████████████████████████████████████████████████████████████████████████████████████████████████████████████| 1/1 [00:00<00:00, 120.95it/s]\n",
      "avg val loss: 0.6236: 100%|██████████████████████████████████████████████████████████████████████████████████████████████████████████████████████████████████████████████████████████| 1/1 [00:00<00:00, 283.02it/s]\n"
     ]
    },
    {
     "name": "stdout",
     "output_type": "stream",
     "text": [
      "---  Accuracy : 0.5555555820465088 \n",
      "\n",
      "\n",
      "best val loss 0.6242 -> 0.6236\n",
      "\n",
      "Starting epoch 185 / 300\n"
     ]
    },
    {
     "name": "stderr",
     "output_type": "stream",
     "text": [
      "avg train loss: 0.4305: 100%|████████████████████████████████████████████████████████████████████████████████████████████████████████████████████████████████████████████████████████| 1/1 [00:00<00:00, 105.87it/s]\n",
      "avg val loss: 0.6230: 100%|██████████████████████████████████████████████████████████████████████████████████████████████████████████████████████████████████████████████████████████| 1/1 [00:00<00:00, 225.16it/s]\n"
     ]
    },
    {
     "name": "stdout",
     "output_type": "stream",
     "text": [
      "---  Accuracy : 0.5555555820465088 \n",
      "\n",
      "\n",
      "best val loss 0.6236 -> 0.6230\n",
      "\n",
      "Starting epoch 186 / 300\n"
     ]
    },
    {
     "name": "stderr",
     "output_type": "stream",
     "text": [
      "avg train loss: 0.4295: 100%|█████████████████████████████████████████████████████████████████████████████████████████████████████████████████████████████████████████████████████████| 1/1 [00:00<00:00, 97.35it/s]\n",
      "avg val loss: 0.6224: 100%|██████████████████████████████████████████████████████████████████████████████████████████████████████████████████████████████████████████████████████████| 1/1 [00:00<00:00, 344.13it/s]\n"
     ]
    },
    {
     "name": "stdout",
     "output_type": "stream",
     "text": [
      "---  Accuracy : 0.5555555820465088 \n",
      "\n",
      "\n",
      "best val loss 0.6230 -> 0.6224\n",
      "\n",
      "Starting epoch 187 / 300\n"
     ]
    },
    {
     "name": "stderr",
     "output_type": "stream",
     "text": [
      "avg train loss: 0.4286: 100%|█████████████████████████████████████████████████████████████████████████████████████████████████████████████████████████████████████████████████████████| 1/1 [00:00<00:00, 89.12it/s]\n",
      "avg val loss: 0.6218: 100%|██████████████████████████████████████████████████████████████████████████████████████████████████████████████████████████████████████████████████████████| 1/1 [00:00<00:00, 336.84it/s]\n"
     ]
    },
    {
     "name": "stdout",
     "output_type": "stream",
     "text": [
      "---  Accuracy : 0.5555555820465088 \n",
      "\n",
      "\n",
      "best val loss 0.6224 -> 0.6218\n",
      "\n",
      "Starting epoch 188 / 300\n"
     ]
    },
    {
     "name": "stderr",
     "output_type": "stream",
     "text": [
      "avg train loss: 0.4276: 100%|█████████████████████████████████████████████████████████████████████████████████████████████████████████████████████████████████████████████████████████| 1/1 [00:00<00:00, 81.90it/s]\n",
      "avg val loss: 0.6212: 100%|██████████████████████████████████████████████████████████████████████████████████████████████████████████████████████████████████████████████████████████| 1/1 [00:00<00:00, 304.13it/s]\n"
     ]
    },
    {
     "name": "stdout",
     "output_type": "stream",
     "text": [
      "---  Accuracy : 0.5555555820465088 \n",
      "\n",
      "\n",
      "best val loss 0.6218 -> 0.6212\n",
      "\n",
      "Starting epoch 189 / 300\n"
     ]
    },
    {
     "name": "stderr",
     "output_type": "stream",
     "text": [
      "avg train loss: 0.4266: 100%|████████████████████████████████████████████████████████████████████████████████████████████████████████████████████████████████████████████████████████| 1/1 [00:00<00:00, 129.49it/s]\n",
      "avg val loss: 0.6206: 100%|██████████████████████████████████████████████████████████████████████████████████████████████████████████████████████████████████████████████████████████| 1/1 [00:00<00:00, 246.78it/s]\n"
     ]
    },
    {
     "name": "stdout",
     "output_type": "stream",
     "text": [
      "---  Accuracy : 0.5555555820465088 \n",
      "\n",
      "\n",
      "best val loss 0.6212 -> 0.6206\n",
      "\n",
      "Starting epoch 190 / 300\n"
     ]
    },
    {
     "name": "stderr",
     "output_type": "stream",
     "text": [
      "avg train loss: 0.4257: 100%|████████████████████████████████████████████████████████████████████████████████████████████████████████████████████████████████████████████████████████| 1/1 [00:00<00:00, 116.34it/s]\n",
      "avg val loss: 0.6200: 100%|██████████████████████████████████████████████████████████████████████████████████████████████████████████████████████████████████████████████████████████| 1/1 [00:00<00:00, 154.16it/s]\n"
     ]
    },
    {
     "name": "stdout",
     "output_type": "stream",
     "text": [
      "---  Accuracy : 0.5555555820465088 \n",
      "\n",
      "\n",
      "best val loss 0.6206 -> 0.6200\n",
      "\n",
      "Starting epoch 191 / 300\n"
     ]
    },
    {
     "name": "stderr",
     "output_type": "stream",
     "text": [
      "avg train loss: 0.4247: 100%|████████████████████████████████████████████████████████████████████████████████████████████████████████████████████████████████████████████████████████| 1/1 [00:00<00:00, 129.10it/s]\n",
      "avg val loss: 0.6195: 100%|██████████████████████████████████████████████████████████████████████████████████████████████████████████████████████████████████████████████████████████| 1/1 [00:00<00:00, 194.23it/s]\n"
     ]
    },
    {
     "name": "stdout",
     "output_type": "stream",
     "text": [
      "---  Accuracy : 0.5555555820465088 \n",
      "\n",
      "\n",
      "best val loss 0.6200 -> 0.6195\n",
      "\n",
      "Starting epoch 192 / 300\n"
     ]
    },
    {
     "name": "stderr",
     "output_type": "stream",
     "text": [
      "avg train loss: 0.4237: 100%|████████████████████████████████████████████████████████████████████████████████████████████████████████████████████████████████████████████████████████| 1/1 [00:00<00:00, 108.79it/s]\n",
      "avg val loss: 0.6189: 100%|██████████████████████████████████████████████████████████████████████████████████████████████████████████████████████████████████████████████████████████| 1/1 [00:00<00:00, 264.34it/s]\n"
     ]
    },
    {
     "name": "stdout",
     "output_type": "stream",
     "text": [
      "---  Accuracy : 0.5555555820465088 \n",
      "\n",
      "\n",
      "best val loss 0.6195 -> 0.6189\n",
      "\n",
      "Starting epoch 193 / 300\n"
     ]
    },
    {
     "name": "stderr",
     "output_type": "stream",
     "text": [
      "avg train loss: 0.4228: 100%|████████████████████████████████████████████████████████████████████████████████████████████████████████████████████████████████████████████████████████| 1/1 [00:00<00:00, 115.08it/s]\n",
      "avg val loss: 0.6183: 100%|██████████████████████████████████████████████████████████████████████████████████████████████████████████████████████████████████████████████████████████| 1/1 [00:00<00:00, 243.16it/s]\n"
     ]
    },
    {
     "name": "stdout",
     "output_type": "stream",
     "text": [
      "---  Accuracy : 0.5555555820465088 \n",
      "\n",
      "\n",
      "best val loss 0.6189 -> 0.6183\n",
      "\n",
      "Starting epoch 194 / 300\n"
     ]
    },
    {
     "name": "stderr",
     "output_type": "stream",
     "text": [
      "avg train loss: 0.4218: 100%|████████████████████████████████████████████████████████████████████████████████████████████████████████████████████████████████████████████████████████| 1/1 [00:00<00:00, 103.03it/s]\n",
      "avg val loss: 0.6178: 100%|██████████████████████████████████████████████████████████████████████████████████████████████████████████████████████████████████████████████████████████| 1/1 [00:00<00:00, 307.86it/s]\n"
     ]
    },
    {
     "name": "stdout",
     "output_type": "stream",
     "text": [
      "---  Accuracy : 0.5555555820465088 \n",
      "\n",
      "\n",
      "best val loss 0.6183 -> 0.6178\n",
      "\n",
      "Starting epoch 195 / 300\n"
     ]
    },
    {
     "name": "stderr",
     "output_type": "stream",
     "text": [
      "avg train loss: 0.4208: 100%|█████████████████████████████████████████████████████████████████████████████████████████████████████████████████████████████████████████████████████████| 1/1 [00:00<00:00, 77.89it/s]\n",
      "avg val loss: 0.6172: 100%|██████████████████████████████████████████████████████████████████████████████████████████████████████████████████████████████████████████████████████████| 1/1 [00:00<00:00, 320.76it/s]\n"
     ]
    },
    {
     "name": "stdout",
     "output_type": "stream",
     "text": [
      "---  Accuracy : 0.6666666865348816 \n",
      "\n",
      "\n",
      "best val loss 0.6178 -> 0.6172\n",
      "\n",
      "Starting epoch 196 / 300\n"
     ]
    },
    {
     "name": "stderr",
     "output_type": "stream",
     "text": [
      "avg train loss: 0.4199: 100%|█████████████████████████████████████████████████████████████████████████████████████████████████████████████████████████████████████████████████████████| 1/1 [00:00<00:00, 87.44it/s]\n",
      "avg val loss: 0.6167: 100%|██████████████████████████████████████████████████████████████████████████████████████████████████████████████████████████████████████████████████████████| 1/1 [00:00<00:00, 225.35it/s]\n"
     ]
    },
    {
     "name": "stdout",
     "output_type": "stream",
     "text": [
      "---  Accuracy : 0.6666666865348816 \n",
      "\n",
      "\n",
      "best val loss 0.6172 -> 0.6167\n",
      "\n",
      "Starting epoch 197 / 300\n"
     ]
    },
    {
     "name": "stderr",
     "output_type": "stream",
     "text": [
      "avg train loss: 0.4189: 100%|████████████████████████████████████████████████████████████████████████████████████████████████████████████████████████████████████████████████████████| 1/1 [00:00<00:00, 125.63it/s]\n",
      "avg val loss: 0.6161: 100%|██████████████████████████████████████████████████████████████████████████████████████████████████████████████████████████████████████████████████████████| 1/1 [00:00<00:00, 211.29it/s]\n"
     ]
    },
    {
     "name": "stdout",
     "output_type": "stream",
     "text": [
      "---  Accuracy : 0.6666666865348816 \n",
      "\n",
      "\n",
      "best val loss 0.6167 -> 0.6161\n",
      "\n",
      "Starting epoch 198 / 300\n"
     ]
    },
    {
     "name": "stderr",
     "output_type": "stream",
     "text": [
      "avg train loss: 0.4179: 100%|████████████████████████████████████████████████████████████████████████████████████████████████████████████████████████████████████████████████████████| 1/1 [00:00<00:00, 128.55it/s]\n",
      "avg val loss: 0.6156: 100%|██████████████████████████████████████████████████████████████████████████████████████████████████████████████████████████████████████████████████████████| 1/1 [00:00<00:00, 250.03it/s]\n"
     ]
    },
    {
     "name": "stdout",
     "output_type": "stream",
     "text": [
      "---  Accuracy : 0.6666666865348816 \n",
      "\n",
      "\n",
      "best val loss 0.6161 -> 0.6156\n",
      "\n",
      "Starting epoch 199 / 300\n"
     ]
    },
    {
     "name": "stderr",
     "output_type": "stream",
     "text": [
      "avg train loss: 0.4170: 100%|████████████████████████████████████████████████████████████████████████████████████████████████████████████████████████████████████████████████████████| 1/1 [00:00<00:00, 105.08it/s]\n",
      "avg val loss: 0.6151: 100%|██████████████████████████████████████████████████████████████████████████████████████████████████████████████████████████████████████████████████████████| 1/1 [00:00<00:00, 267.99it/s]\n"
     ]
    },
    {
     "name": "stdout",
     "output_type": "stream",
     "text": [
      "---  Accuracy : 0.6666666865348816 \n",
      "\n",
      "\n",
      "best val loss 0.6156 -> 0.6151\n",
      "\n",
      "Starting epoch 200 / 300\n"
     ]
    },
    {
     "name": "stderr",
     "output_type": "stream",
     "text": [
      "avg train loss: 0.4160: 100%|████████████████████████████████████████████████████████████████████████████████████████████████████████████████████████████████████████████████████████| 1/1 [00:00<00:00, 109.99it/s]\n",
      "avg val loss: 0.6145: 100%|██████████████████████████████████████████████████████████████████████████████████████████████████████████████████████████████████████████████████████████| 1/1 [00:00<00:00, 222.56it/s]\n"
     ]
    },
    {
     "name": "stdout",
     "output_type": "stream",
     "text": [
      "---  Accuracy : 0.6666666865348816 \n",
      "\n",
      "\n",
      "best val loss 0.6151 -> 0.6145\n",
      "\n",
      "Starting epoch 201 / 300\n"
     ]
    },
    {
     "name": "stderr",
     "output_type": "stream",
     "text": [
      "avg train loss: 0.4150: 100%|█████████████████████████████████████████████████████████████████████████████████████████████████████████████████████████████████████████████████████████| 1/1 [00:00<00:00, 98.30it/s]\n",
      "avg val loss: 0.6140: 100%|██████████████████████████████████████████████████████████████████████████████████████████████████████████████████████████████████████████████████████████| 1/1 [00:00<00:00, 341.72it/s]\n"
     ]
    },
    {
     "name": "stdout",
     "output_type": "stream",
     "text": [
      "---  Accuracy : 0.6666666865348816 \n",
      "\n",
      "\n",
      "best val loss 0.6145 -> 0.6140\n",
      "\n",
      "Starting epoch 202 / 300\n"
     ]
    },
    {
     "name": "stderr",
     "output_type": "stream",
     "text": [
      "avg train loss: 0.4141: 100%|█████████████████████████████████████████████████████████████████████████████████████████████████████████████████████████████████████████████████████████| 1/1 [00:00<00:00, 87.15it/s]\n",
      "avg val loss: 0.6135: 100%|██████████████████████████████████████████████████████████████████████████████████████████████████████████████████████████████████████████████████████████| 1/1 [00:00<00:00, 350.43it/s]\n"
     ]
    },
    {
     "name": "stdout",
     "output_type": "stream",
     "text": [
      "---  Accuracy : 0.5555555820465088 \n",
      "\n",
      "\n",
      "best val loss 0.6140 -> 0.6135\n",
      "\n",
      "Starting epoch 203 / 300\n"
     ]
    },
    {
     "name": "stderr",
     "output_type": "stream",
     "text": [
      "avg train loss: 0.4131: 100%|█████████████████████████████████████████████████████████████████████████████████████████████████████████████████████████████████████████████████████████| 1/1 [00:00<00:00, 85.68it/s]\n",
      "avg val loss: 0.6129: 100%|██████████████████████████████████████████████████████████████████████████████████████████████████████████████████████████████████████████████████████████| 1/1 [00:00<00:00, 317.94it/s]\n"
     ]
    },
    {
     "name": "stdout",
     "output_type": "stream",
     "text": [
      "---  Accuracy : 0.5555555820465088 \n",
      "\n",
      "\n",
      "best val loss 0.6135 -> 0.6129\n",
      "\n",
      "Starting epoch 204 / 300\n"
     ]
    },
    {
     "name": "stderr",
     "output_type": "stream",
     "text": [
      "avg train loss: 0.4121: 100%|████████████████████████████████████████████████████████████████████████████████████████████████████████████████████████████████████████████████████████| 1/1 [00:00<00:00, 104.30it/s]\n",
      "avg val loss: 0.6124: 100%|██████████████████████████████████████████████████████████████████████████████████████████████████████████████████████████████████████████████████████████| 1/1 [00:00<00:00, 258.30it/s]\n"
     ]
    },
    {
     "name": "stdout",
     "output_type": "stream",
     "text": [
      "---  Accuracy : 0.5555555820465088 \n",
      "\n",
      "\n",
      "best val loss 0.6129 -> 0.6124\n",
      "\n",
      "Starting epoch 205 / 300\n"
     ]
    },
    {
     "name": "stderr",
     "output_type": "stream",
     "text": [
      "avg train loss: 0.4111: 100%|████████████████████████████████████████████████████████████████████████████████████████████████████████████████████████████████████████████████████████| 1/1 [00:00<00:00, 121.94it/s]\n",
      "avg val loss: 0.6119: 100%|██████████████████████████████████████████████████████████████████████████████████████████████████████████████████████████████████████████████████████████| 1/1 [00:00<00:00, 286.36it/s]\n"
     ]
    },
    {
     "name": "stdout",
     "output_type": "stream",
     "text": [
      "---  Accuracy : 0.5555555820465088 \n",
      "\n",
      "\n",
      "best val loss 0.6124 -> 0.6119\n",
      "\n",
      "Starting epoch 206 / 300\n"
     ]
    },
    {
     "name": "stderr",
     "output_type": "stream",
     "text": [
      "avg train loss: 0.4102: 100%|████████████████████████████████████████████████████████████████████████████████████████████████████████████████████████████████████████████████████████| 1/1 [00:00<00:00, 114.24it/s]\n",
      "avg val loss: 0.6114: 100%|██████████████████████████████████████████████████████████████████████████████████████████████████████████████████████████████████████████████████████████| 1/1 [00:00<00:00, 218.62it/s]\n"
     ]
    },
    {
     "name": "stdout",
     "output_type": "stream",
     "text": [
      "---  Accuracy : 0.5555555820465088 \n",
      "\n",
      "\n",
      "best val loss 0.6119 -> 0.6114\n",
      "\n",
      "Starting epoch 207 / 300\n"
     ]
    },
    {
     "name": "stderr",
     "output_type": "stream",
     "text": [
      "avg train loss: 0.4092: 100%|████████████████████████████████████████████████████████████████████████████████████████████████████████████████████████████████████████████████████████| 1/1 [00:00<00:00, 117.63it/s]\n",
      "avg val loss: 0.6109: 100%|██████████████████████████████████████████████████████████████████████████████████████████████████████████████████████████████████████████████████████████| 1/1 [00:00<00:00, 153.02it/s]\n"
     ]
    },
    {
     "name": "stdout",
     "output_type": "stream",
     "text": [
      "---  Accuracy : 0.5555555820465088 \n",
      "\n",
      "\n",
      "best val loss 0.6114 -> 0.6109\n",
      "\n",
      "Starting epoch 208 / 300\n"
     ]
    },
    {
     "name": "stderr",
     "output_type": "stream",
     "text": [
      "avg train loss: 0.4082: 100%|████████████████████████████████████████████████████████████████████████████████████████████████████████████████████████████████████████████████████████| 1/1 [00:00<00:00, 114.20it/s]\n",
      "avg val loss: 0.6103: 100%|██████████████████████████████████████████████████████████████████████████████████████████████████████████████████████████████████████████████████████████| 1/1 [00:00<00:00, 230.32it/s]\n"
     ]
    },
    {
     "name": "stdout",
     "output_type": "stream",
     "text": [
      "---  Accuracy : 0.5555555820465088 \n",
      "\n",
      "\n",
      "best val loss 0.6109 -> 0.6103\n",
      "\n",
      "Starting epoch 209 / 300\n"
     ]
    },
    {
     "name": "stderr",
     "output_type": "stream",
     "text": [
      "avg train loss: 0.4073: 100%|████████████████████████████████████████████████████████████████████████████████████████████████████████████████████████████████████████████████████████| 1/1 [00:00<00:00, 112.61it/s]\n",
      "avg val loss: 0.6098: 100%|██████████████████████████████████████████████████████████████████████████████████████████████████████████████████████████████████████████████████████████| 1/1 [00:00<00:00, 254.82it/s]\n"
     ]
    },
    {
     "name": "stdout",
     "output_type": "stream",
     "text": [
      "---  Accuracy : 0.5555555820465088 \n",
      "\n",
      "\n",
      "best val loss 0.6103 -> 0.6098\n",
      "\n",
      "Starting epoch 210 / 300\n"
     ]
    },
    {
     "name": "stderr",
     "output_type": "stream",
     "text": [
      "avg train loss: 0.4063: 100%|████████████████████████████████████████████████████████████████████████████████████████████████████████████████████████████████████████████████████████| 1/1 [00:00<00:00, 103.17it/s]\n",
      "avg val loss: 0.6093: 100%|██████████████████████████████████████████████████████████████████████████████████████████████████████████████████████████████████████████████████████████| 1/1 [00:00<00:00, 314.72it/s]\n"
     ]
    },
    {
     "name": "stdout",
     "output_type": "stream",
     "text": [
      "---  Accuracy : 0.5555555820465088 \n",
      "\n",
      "\n",
      "best val loss 0.6098 -> 0.6093\n",
      "\n",
      "Starting epoch 211 / 300\n"
     ]
    },
    {
     "name": "stderr",
     "output_type": "stream",
     "text": [
      "avg train loss: 0.4053: 100%|█████████████████████████████████████████████████████████████████████████████████████████████████████████████████████████████████████████████████████████| 1/1 [00:00<00:00, 87.31it/s]\n",
      "avg val loss: 0.6088: 100%|██████████████████████████████████████████████████████████████████████████████████████████████████████████████████████████████████████████████████████████| 1/1 [00:00<00:00, 352.46it/s]\n"
     ]
    },
    {
     "name": "stdout",
     "output_type": "stream",
     "text": [
      "---  Accuracy : 0.5555555820465088 \n",
      "\n",
      "\n",
      "best val loss 0.6093 -> 0.6088\n",
      "\n",
      "Starting epoch 212 / 300\n"
     ]
    },
    {
     "name": "stderr",
     "output_type": "stream",
     "text": [
      "avg train loss: 0.4043: 100%|█████████████████████████████████████████████████████████████████████████████████████████████████████████████████████████████████████████████████████████| 1/1 [00:00<00:00, 80.62it/s]\n",
      "avg val loss: 0.6083: 100%|██████████████████████████████████████████████████████████████████████████████████████████████████████████████████████████████████████████████████████████| 1/1 [00:00<00:00, 312.73it/s]\n"
     ]
    },
    {
     "name": "stdout",
     "output_type": "stream",
     "text": [
      "---  Accuracy : 0.5555555820465088 \n",
      "\n",
      "\n",
      "best val loss 0.6088 -> 0.6083\n",
      "\n",
      "Starting epoch 213 / 300\n"
     ]
    },
    {
     "name": "stderr",
     "output_type": "stream",
     "text": [
      "avg train loss: 0.4034: 100%|█████████████████████████████████████████████████████████████████████████████████████████████████████████████████████████████████████████████████████████| 1/1 [00:00<00:00, 93.69it/s]\n",
      "avg val loss: 0.6078: 100%|██████████████████████████████████████████████████████████████████████████████████████████████████████████████████████████████████████████████████████████| 1/1 [00:00<00:00, 195.06it/s]\n"
     ]
    },
    {
     "name": "stdout",
     "output_type": "stream",
     "text": [
      "---  Accuracy : 0.5555555820465088 \n",
      "\n",
      "\n",
      "best val loss 0.6083 -> 0.6078\n",
      "\n",
      "Starting epoch 214 / 300\n"
     ]
    },
    {
     "name": "stderr",
     "output_type": "stream",
     "text": [
      "avg train loss: 0.4024: 100%|████████████████████████████████████████████████████████████████████████████████████████████████████████████████████████████████████████████████████████| 1/1 [00:00<00:00, 123.34it/s]\n",
      "avg val loss: 0.6073: 100%|██████████████████████████████████████████████████████████████████████████████████████████████████████████████████████████████████████████████████████████| 1/1 [00:00<00:00, 191.72it/s]\n"
     ]
    },
    {
     "name": "stdout",
     "output_type": "stream",
     "text": [
      "---  Accuracy : 0.5555555820465088 \n",
      "\n",
      "\n",
      "best val loss 0.6078 -> 0.6073\n",
      "\n",
      "Starting epoch 215 / 300\n"
     ]
    },
    {
     "name": "stderr",
     "output_type": "stream",
     "text": [
      "avg train loss: 0.4014: 100%|█████████████████████████████████████████████████████████████████████████████████████████████████████████████████████████████████████████████████████████| 1/1 [00:00<00:00, 92.19it/s]\n",
      "avg val loss: 0.6068: 100%|██████████████████████████████████████████████████████████████████████████████████████████████████████████████████████████████████████████████████████████| 1/1 [00:00<00:00, 239.16it/s]\n"
     ]
    },
    {
     "name": "stdout",
     "output_type": "stream",
     "text": [
      "---  Accuracy : 0.5555555820465088 \n",
      "\n",
      "\n",
      "best val loss 0.6073 -> 0.6068\n",
      "\n",
      "Starting epoch 216 / 300\n"
     ]
    },
    {
     "name": "stderr",
     "output_type": "stream",
     "text": [
      "avg train loss: 0.4004: 100%|█████████████████████████████████████████████████████████████████████████████████████████████████████████████████████████████████████████████████████████| 1/1 [00:00<00:00, 80.24it/s]\n",
      "avg val loss: 0.6063: 100%|██████████████████████████████████████████████████████████████████████████████████████████████████████████████████████████████████████████████████████████| 1/1 [00:00<00:00, 316.43it/s]\n"
     ]
    },
    {
     "name": "stdout",
     "output_type": "stream",
     "text": [
      "---  Accuracy : 0.5555555820465088 \n",
      "\n",
      "\n",
      "best val loss 0.6068 -> 0.6063\n",
      "\n",
      "Starting epoch 217 / 300\n"
     ]
    },
    {
     "name": "stderr",
     "output_type": "stream",
     "text": [
      "avg train loss: 0.3994: 100%|█████████████████████████████████████████████████████████████████████████████████████████████████████████████████████████████████████████████████████████| 1/1 [00:00<00:00, 81.93it/s]\n",
      "avg val loss: 0.6058: 100%|██████████████████████████████████████████████████████████████████████████████████████████████████████████████████████████████████████████████████████████| 1/1 [00:00<00:00, 205.97it/s]\n"
     ]
    },
    {
     "name": "stdout",
     "output_type": "stream",
     "text": [
      "---  Accuracy : 0.5555555820465088 \n",
      "\n",
      "\n",
      "best val loss 0.6063 -> 0.6058\n",
      "\n",
      "Starting epoch 218 / 300\n"
     ]
    },
    {
     "name": "stderr",
     "output_type": "stream",
     "text": [
      "avg train loss: 0.3985: 100%|████████████████████████████████████████████████████████████████████████████████████████████████████████████████████████████████████████████████████████| 1/1 [00:00<00:00, 105.05it/s]\n",
      "avg val loss: 0.6053: 100%|██████████████████████████████████████████████████████████████████████████████████████████████████████████████████████████████████████████████████████████| 1/1 [00:00<00:00, 170.24it/s]\n"
     ]
    },
    {
     "name": "stdout",
     "output_type": "stream",
     "text": [
      "---  Accuracy : 0.5555555820465088 \n",
      "\n",
      "\n",
      "best val loss 0.6058 -> 0.6053\n",
      "\n",
      "Starting epoch 219 / 300\n"
     ]
    },
    {
     "name": "stderr",
     "output_type": "stream",
     "text": [
      "avg train loss: 0.3975: 100%|████████████████████████████████████████████████████████████████████████████████████████████████████████████████████████████████████████████████████████| 1/1 [00:00<00:00, 123.81it/s]\n",
      "avg val loss: 0.6048: 100%|██████████████████████████████████████████████████████████████████████████████████████████████████████████████████████████████████████████████████████████| 1/1 [00:00<00:00, 212.35it/s]\n"
     ]
    },
    {
     "name": "stdout",
     "output_type": "stream",
     "text": [
      "---  Accuracy : 0.5555555820465088 \n",
      "\n",
      "\n",
      "best val loss 0.6053 -> 0.6048\n",
      "\n",
      "Starting epoch 220 / 300\n"
     ]
    },
    {
     "name": "stderr",
     "output_type": "stream",
     "text": [
      "avg train loss: 0.3965: 100%|█████████████████████████████████████████████████████████████████████████████████████████████████████████████████████████████████████████████████████████| 1/1 [00:00<00:00, 93.94it/s]\n",
      "avg val loss: 0.6043: 100%|██████████████████████████████████████████████████████████████████████████████████████████████████████████████████████████████████████████████████████████| 1/1 [00:00<00:00, 237.46it/s]\n"
     ]
    },
    {
     "name": "stdout",
     "output_type": "stream",
     "text": [
      "---  Accuracy : 0.5555555820465088 \n",
      "\n",
      "\n",
      "best val loss 0.6048 -> 0.6043\n",
      "\n",
      "Starting epoch 221 / 300\n"
     ]
    },
    {
     "name": "stderr",
     "output_type": "stream",
     "text": [
      "avg train loss: 0.3955: 100%|█████████████████████████████████████████████████████████████████████████████████████████████████████████████████████████████████████████████████████████| 1/1 [00:00<00:00, 96.14it/s]\n",
      "avg val loss: 0.6038: 100%|██████████████████████████████████████████████████████████████████████████████████████████████████████████████████████████████████████████████████████████| 1/1 [00:00<00:00, 332.25it/s]\n"
     ]
    },
    {
     "name": "stdout",
     "output_type": "stream",
     "text": [
      "---  Accuracy : 0.5555555820465088 \n",
      "\n",
      "\n",
      "best val loss 0.6043 -> 0.6038\n",
      "\n",
      "Starting epoch 222 / 300\n"
     ]
    },
    {
     "name": "stderr",
     "output_type": "stream",
     "text": [
      "avg train loss: 0.3945: 100%|█████████████████████████████████████████████████████████████████████████████████████████████████████████████████████████████████████████████████████████| 1/1 [00:00<00:00, 89.23it/s]\n",
      "avg val loss: 0.6033: 100%|██████████████████████████████████████████████████████████████████████████████████████████████████████████████████████████████████████████████████████████| 1/1 [00:00<00:00, 355.57it/s]\n"
     ]
    },
    {
     "name": "stdout",
     "output_type": "stream",
     "text": [
      "---  Accuracy : 0.5555555820465088 \n",
      "\n",
      "\n",
      "best val loss 0.6038 -> 0.6033\n",
      "\n",
      "Starting epoch 223 / 300\n"
     ]
    },
    {
     "name": "stderr",
     "output_type": "stream",
     "text": [
      "avg train loss: 0.3935: 100%|█████████████████████████████████████████████████████████████████████████████████████████████████████████████████████████████████████████████████████████| 1/1 [00:00<00:00, 93.04it/s]\n",
      "avg val loss: 0.6028: 100%|██████████████████████████████████████████████████████████████████████████████████████████████████████████████████████████████████████████████████████████| 1/1 [00:00<00:00, 342.64it/s]\n"
     ]
    },
    {
     "name": "stdout",
     "output_type": "stream",
     "text": [
      "---  Accuracy : 0.5555555820465088 \n",
      "\n",
      "\n",
      "best val loss 0.6033 -> 0.6028\n",
      "\n",
      "Starting epoch 224 / 300\n"
     ]
    },
    {
     "name": "stderr",
     "output_type": "stream",
     "text": [
      "avg train loss: 0.3926: 100%|████████████████████████████████████████████████████████████████████████████████████████████████████████████████████████████████████████████████████████| 1/1 [00:00<00:00, 138.39it/s]\n",
      "avg val loss: 0.6022: 100%|██████████████████████████████████████████████████████████████████████████████████████████████████████████████████████████████████████████████████████████| 1/1 [00:00<00:00, 363.52it/s]\n"
     ]
    },
    {
     "name": "stdout",
     "output_type": "stream",
     "text": [
      "---  Accuracy : 0.5555555820465088 \n",
      "\n",
      "\n",
      "best val loss 0.6028 -> 0.6022\n",
      "\n",
      "Starting epoch 225 / 300\n"
     ]
    },
    {
     "name": "stderr",
     "output_type": "stream",
     "text": [
      "avg train loss: 0.3916: 100%|████████████████████████████████████████████████████████████████████████████████████████████████████████████████████████████████████████████████████████| 1/1 [00:00<00:00, 135.54it/s]\n",
      "avg val loss: 0.6017: 100%|██████████████████████████████████████████████████████████████████████████████████████████████████████████████████████████████████████████████████████████| 1/1 [00:00<00:00, 297.60it/s]\n"
     ]
    },
    {
     "name": "stdout",
     "output_type": "stream",
     "text": [
      "---  Accuracy : 0.5555555820465088 \n",
      "\n",
      "\n",
      "best val loss 0.6022 -> 0.6017\n",
      "\n",
      "Starting epoch 226 / 300\n"
     ]
    },
    {
     "name": "stderr",
     "output_type": "stream",
     "text": [
      "avg train loss: 0.3906: 100%|████████████████████████████████████████████████████████████████████████████████████████████████████████████████████████████████████████████████████████| 1/1 [00:00<00:00, 124.50it/s]\n",
      "avg val loss: 0.6012: 100%|██████████████████████████████████████████████████████████████████████████████████████████████████████████████████████████████████████████████████████████| 1/1 [00:00<00:00, 248.20it/s]\n"
     ]
    },
    {
     "name": "stdout",
     "output_type": "stream",
     "text": [
      "---  Accuracy : 0.5555555820465088 \n",
      "\n",
      "\n",
      "best val loss 0.6017 -> 0.6012\n",
      "\n",
      "Starting epoch 227 / 300\n"
     ]
    },
    {
     "name": "stderr",
     "output_type": "stream",
     "text": [
      "avg train loss: 0.3896: 100%|████████████████████████████████████████████████████████████████████████████████████████████████████████████████████████████████████████████████████████| 1/1 [00:00<00:00, 128.65it/s]\n",
      "avg val loss: 0.6007: 100%|██████████████████████████████████████████████████████████████████████████████████████████████████████████████████████████████████████████████████████████| 1/1 [00:00<00:00, 160.57it/s]\n"
     ]
    },
    {
     "name": "stdout",
     "output_type": "stream",
     "text": [
      "---  Accuracy : 0.5555555820465088 \n",
      "\n",
      "\n",
      "best val loss 0.6012 -> 0.6007\n",
      "\n",
      "Starting epoch 228 / 300\n"
     ]
    },
    {
     "name": "stderr",
     "output_type": "stream",
     "text": [
      "avg train loss: 0.3886: 100%|████████████████████████████████████████████████████████████████████████████████████████████████████████████████████████████████████████████████████████| 1/1 [00:00<00:00, 131.21it/s]\n",
      "avg val loss: 0.6002: 100%|██████████████████████████████████████████████████████████████████████████████████████████████████████████████████████████████████████████████████████████| 1/1 [00:00<00:00, 206.39it/s]\n"
     ]
    },
    {
     "name": "stdout",
     "output_type": "stream",
     "text": [
      "---  Accuracy : 0.5555555820465088 \n",
      "\n",
      "\n",
      "best val loss 0.6007 -> 0.6002\n",
      "\n",
      "Starting epoch 229 / 300\n"
     ]
    },
    {
     "name": "stderr",
     "output_type": "stream",
     "text": [
      "avg train loss: 0.3876: 100%|████████████████████████████████████████████████████████████████████████████████████████████████████████████████████████████████████████████████████████| 1/1 [00:00<00:00, 129.57it/s]\n",
      "avg val loss: 0.5997: 100%|██████████████████████████████████████████████████████████████████████████████████████████████████████████████████████████████████████████████████████████| 1/1 [00:00<00:00, 158.80it/s]\n"
     ]
    },
    {
     "name": "stdout",
     "output_type": "stream",
     "text": [
      "---  Accuracy : 0.5555555820465088 \n",
      "\n",
      "\n",
      "best val loss 0.6002 -> 0.5997\n",
      "\n",
      "Starting epoch 230 / 300\n"
     ]
    },
    {
     "name": "stderr",
     "output_type": "stream",
     "text": [
      "avg train loss: 0.3866: 100%|████████████████████████████████████████████████████████████████████████████████████████████████████████████████████████████████████████████████████████| 1/1 [00:00<00:00, 114.06it/s]\n",
      "avg val loss: 0.5992: 100%|██████████████████████████████████████████████████████████████████████████████████████████████████████████████████████████████████████████████████████████| 1/1 [00:00<00:00, 266.86it/s]\n"
     ]
    },
    {
     "name": "stdout",
     "output_type": "stream",
     "text": [
      "---  Accuracy : 0.5555555820465088 \n",
      "\n",
      "\n",
      "best val loss 0.5997 -> 0.5992\n",
      "\n",
      "Starting epoch 231 / 300\n"
     ]
    },
    {
     "name": "stderr",
     "output_type": "stream",
     "text": [
      "avg train loss: 0.3856: 100%|████████████████████████████████████████████████████████████████████████████████████████████████████████████████████████████████████████████████████████| 1/1 [00:00<00:00, 112.39it/s]\n",
      "avg val loss: 0.5987: 100%|██████████████████████████████████████████████████████████████████████████████████████████████████████████████████████████████████████████████████████████| 1/1 [00:00<00:00, 250.21it/s]\n"
     ]
    },
    {
     "name": "stdout",
     "output_type": "stream",
     "text": [
      "---  Accuracy : 0.5555555820465088 \n",
      "\n",
      "\n",
      "best val loss 0.5992 -> 0.5987\n",
      "\n",
      "Starting epoch 232 / 300\n"
     ]
    },
    {
     "name": "stderr",
     "output_type": "stream",
     "text": [
      "avg train loss: 0.3846: 100%|████████████████████████████████████████████████████████████████████████████████████████████████████████████████████████████████████████████████████████| 1/1 [00:00<00:00, 107.22it/s]\n",
      "avg val loss: 0.5982: 100%|██████████████████████████████████████████████████████████████████████████████████████████████████████████████████████████████████████████████████████████| 1/1 [00:00<00:00, 314.46it/s]\n"
     ]
    },
    {
     "name": "stdout",
     "output_type": "stream",
     "text": [
      "---  Accuracy : 0.5555555820465088 \n",
      "\n",
      "\n",
      "best val loss 0.5987 -> 0.5982\n",
      "\n",
      "Starting epoch 233 / 300\n"
     ]
    },
    {
     "name": "stderr",
     "output_type": "stream",
     "text": [
      "avg train loss: 0.3836: 100%|█████████████████████████████████████████████████████████████████████████████████████████████████████████████████████████████████████████████████████████| 1/1 [00:00<00:00, 85.54it/s]\n",
      "avg val loss: 0.5978: 100%|██████████████████████████████████████████████████████████████████████████████████████████████████████████████████████████████████████████████████████████| 1/1 [00:00<00:00, 271.32it/s]\n"
     ]
    },
    {
     "name": "stdout",
     "output_type": "stream",
     "text": [
      "---  Accuracy : 0.5555555820465088 \n",
      "\n",
      "\n",
      "best val loss 0.5982 -> 0.5978\n",
      "\n",
      "Starting epoch 234 / 300\n"
     ]
    },
    {
     "name": "stderr",
     "output_type": "stream",
     "text": [
      "avg train loss: 0.3826: 100%|█████████████████████████████████████████████████████████████████████████████████████████████████████████████████████████████████████████████████████████| 1/1 [00:00<00:00, 94.08it/s]\n",
      "avg val loss: 0.5973: 100%|██████████████████████████████████████████████████████████████████████████████████████████████████████████████████████████████████████████████████████████| 1/1 [00:00<00:00, 364.06it/s]\n"
     ]
    },
    {
     "name": "stdout",
     "output_type": "stream",
     "text": [
      "---  Accuracy : 0.5555555820465088 \n",
      "\n",
      "\n",
      "best val loss 0.5978 -> 0.5973\n",
      "\n",
      "Starting epoch 235 / 300\n"
     ]
    },
    {
     "name": "stderr",
     "output_type": "stream",
     "text": [
      "avg train loss: 0.3816: 100%|████████████████████████████████████████████████████████████████████████████████████████████████████████████████████████████████████████████████████████| 1/1 [00:00<00:00, 110.10it/s]\n",
      "avg val loss: 0.5968: 100%|██████████████████████████████████████████████████████████████████████████████████████████████████████████████████████████████████████████████████████████| 1/1 [00:00<00:00, 326.56it/s]\n"
     ]
    },
    {
     "name": "stdout",
     "output_type": "stream",
     "text": [
      "---  Accuracy : 0.5555555820465088 \n",
      "\n",
      "\n",
      "best val loss 0.5973 -> 0.5968\n",
      "\n",
      "Starting epoch 236 / 300\n"
     ]
    },
    {
     "name": "stderr",
     "output_type": "stream",
     "text": [
      "avg train loss: 0.3806: 100%|█████████████████████████████████████████████████████████████████████████████████████████████████████████████████████████████████████████████████████████| 1/1 [00:00<00:00, 99.50it/s]\n",
      "avg val loss: 0.5963: 100%|██████████████████████████████████████████████████████████████████████████████████████████████████████████████████████████████████████████████████████████| 1/1 [00:00<00:00, 223.45it/s]\n"
     ]
    },
    {
     "name": "stdout",
     "output_type": "stream",
     "text": [
      "---  Accuracy : 0.5555555820465088 \n",
      "\n",
      "\n",
      "best val loss 0.5968 -> 0.5963\n",
      "\n",
      "Starting epoch 237 / 300\n"
     ]
    },
    {
     "name": "stderr",
     "output_type": "stream",
     "text": [
      "avg train loss: 0.3796: 100%|████████████████████████████████████████████████████████████████████████████████████████████████████████████████████████████████████████████████████████| 1/1 [00:00<00:00, 119.57it/s]\n",
      "avg val loss: 0.5958: 100%|██████████████████████████████████████████████████████████████████████████████████████████████████████████████████████████████████████████████████████████| 1/1 [00:00<00:00, 187.32it/s]\n"
     ]
    },
    {
     "name": "stdout",
     "output_type": "stream",
     "text": [
      "---  Accuracy : 0.5555555820465088 \n",
      "\n",
      "\n",
      "best val loss 0.5963 -> 0.5958\n",
      "\n",
      "Starting epoch 238 / 300\n"
     ]
    },
    {
     "name": "stderr",
     "output_type": "stream",
     "text": [
      "avg train loss: 0.3787: 100%|████████████████████████████████████████████████████████████████████████████████████████████████████████████████████████████████████████████████████████| 1/1 [00:00<00:00, 133.18it/s]\n",
      "avg val loss: 0.5953: 100%|██████████████████████████████████████████████████████████████████████████████████████████████████████████████████████████████████████████████████████████| 1/1 [00:00<00:00, 214.38it/s]\n"
     ]
    },
    {
     "name": "stdout",
     "output_type": "stream",
     "text": [
      "---  Accuracy : 0.5555555820465088 \n",
      "\n",
      "\n",
      "best val loss 0.5958 -> 0.5953\n",
      "\n",
      "Starting epoch 239 / 300\n"
     ]
    },
    {
     "name": "stderr",
     "output_type": "stream",
     "text": [
      "avg train loss: 0.3777: 100%|████████████████████████████████████████████████████████████████████████████████████████████████████████████████████████████████████████████████████████| 1/1 [00:00<00:00, 140.73it/s]\n",
      "avg val loss: 0.5948: 100%|██████████████████████████████████████████████████████████████████████████████████████████████████████████████████████████████████████████████████████████| 1/1 [00:00<00:00, 212.77it/s]\n"
     ]
    },
    {
     "name": "stdout",
     "output_type": "stream",
     "text": [
      "---  Accuracy : 0.5555555820465088 \n",
      "\n",
      "\n",
      "best val loss 0.5953 -> 0.5948\n",
      "\n",
      "Starting epoch 240 / 300\n"
     ]
    },
    {
     "name": "stderr",
     "output_type": "stream",
     "text": [
      "avg train loss: 0.3767: 100%|████████████████████████████████████████████████████████████████████████████████████████████████████████████████████████████████████████████████████████| 1/1 [00:00<00:00, 110.07it/s]\n",
      "avg val loss: 0.5943: 100%|██████████████████████████████████████████████████████████████████████████████████████████████████████████████████████████████████████████████████████████| 1/1 [00:00<00:00, 259.48it/s]\n"
     ]
    },
    {
     "name": "stdout",
     "output_type": "stream",
     "text": [
      "---  Accuracy : 0.5555555820465088 \n",
      "\n",
      "\n",
      "best val loss 0.5948 -> 0.5943\n",
      "\n",
      "Starting epoch 241 / 300\n"
     ]
    },
    {
     "name": "stderr",
     "output_type": "stream",
     "text": [
      "avg train loss: 0.3757: 100%|████████████████████████████████████████████████████████████████████████████████████████████████████████████████████████████████████████████████████████| 1/1 [00:00<00:00, 103.08it/s]\n",
      "avg val loss: 0.5939: 100%|██████████████████████████████████████████████████████████████████████████████████████████████████████████████████████████████████████████████████████████| 1/1 [00:00<00:00, 332.01it/s]\n"
     ]
    },
    {
     "name": "stdout",
     "output_type": "stream",
     "text": [
      "---  Accuracy : 0.5555555820465088 \n",
      "\n",
      "\n",
      "best val loss 0.5943 -> 0.5939\n",
      "\n",
      "Starting epoch 242 / 300\n"
     ]
    },
    {
     "name": "stderr",
     "output_type": "stream",
     "text": [
      "avg train loss: 0.3747: 100%|████████████████████████████████████████████████████████████████████████████████████████████████████████████████████████████████████████████████████████| 1/1 [00:00<00:00, 106.78it/s]\n",
      "avg val loss: 0.5934: 100%|██████████████████████████████████████████████████████████████████████████████████████████████████████████████████████████████████████████████████████████| 1/1 [00:00<00:00, 275.47it/s]\n"
     ]
    },
    {
     "name": "stdout",
     "output_type": "stream",
     "text": [
      "---  Accuracy : 0.5555555820465088 \n",
      "\n",
      "\n",
      "best val loss 0.5939 -> 0.5934\n",
      "\n",
      "Starting epoch 243 / 300\n"
     ]
    },
    {
     "name": "stderr",
     "output_type": "stream",
     "text": [
      "avg train loss: 0.3737: 100%|█████████████████████████████████████████████████████████████████████████████████████████████████████████████████████████████████████████████████████████| 1/1 [00:00<00:00, 88.22it/s]\n",
      "avg val loss: 0.5929: 100%|██████████████████████████████████████████████████████████████████████████████████████████████████████████████████████████████████████████████████████████| 1/1 [00:00<00:00, 351.84it/s]\n"
     ]
    },
    {
     "name": "stdout",
     "output_type": "stream",
     "text": [
      "---  Accuracy : 0.5555555820465088 \n",
      "\n",
      "\n",
      "best val loss 0.5934 -> 0.5929\n",
      "\n",
      "Starting epoch 244 / 300\n"
     ]
    },
    {
     "name": "stderr",
     "output_type": "stream",
     "text": [
      "avg train loss: 0.3727: 100%|█████████████████████████████████████████████████████████████████████████████████████████████████████████████████████████████████████████████████████████| 1/1 [00:00<00:00, 88.22it/s]\n",
      "avg val loss: 0.5924: 100%|██████████████████████████████████████████████████████████████████████████████████████████████████████████████████████████████████████████████████████████| 1/1 [00:00<00:00, 293.86it/s]\n"
     ]
    },
    {
     "name": "stdout",
     "output_type": "stream",
     "text": [
      "---  Accuracy : 0.5555555820465088 \n",
      "\n",
      "\n",
      "best val loss 0.5929 -> 0.5924\n",
      "\n",
      "Starting epoch 245 / 300\n"
     ]
    },
    {
     "name": "stderr",
     "output_type": "stream",
     "text": [
      "avg train loss: 0.3717: 100%|█████████████████████████████████████████████████████████████████████████████████████████████████████████████████████████████████████████████████████████| 1/1 [00:00<00:00, 94.75it/s]\n",
      "avg val loss: 0.5920: 100%|██████████████████████████████████████████████████████████████████████████████████████████████████████████████████████████████████████████████████████████| 1/1 [00:00<00:00, 354.70it/s]"
     ]
    },
    {
     "name": "stdout",
     "output_type": "stream",
     "text": [
      "---  Accuracy : 0.5555555820465088 \n",
      "\n",
      "\n",
      "best val loss 0.5924 -> 0.5920\n"
     ]
    },
    {
     "name": "stderr",
     "output_type": "stream",
     "text": [
      "\n"
     ]
    },
    {
     "name": "stdout",
     "output_type": "stream",
     "text": [
      "\n",
      "Starting epoch 246 / 300\n"
     ]
    },
    {
     "name": "stderr",
     "output_type": "stream",
     "text": [
      "avg train loss: 0.3707: 100%|████████████████████████████████████████████████████████████████████████████████████████████████████████████████████████████████████████████████████████| 1/1 [00:00<00:00, 105.44it/s]\n",
      "avg val loss: 0.5915: 100%|██████████████████████████████████████████████████████████████████████████████████████████████████████████████████████████████████████████████████████████| 1/1 [00:00<00:00, 218.06it/s]\n"
     ]
    },
    {
     "name": "stdout",
     "output_type": "stream",
     "text": [
      "---  Accuracy : 0.5555555820465088 \n",
      "\n",
      "\n",
      "best val loss 0.5920 -> 0.5915\n",
      "\n",
      "Starting epoch 247 / 300\n"
     ]
    },
    {
     "name": "stderr",
     "output_type": "stream",
     "text": [
      "avg train loss: 0.3697: 100%|████████████████████████████████████████████████████████████████████████████████████████████████████████████████████████████████████████████████████████| 1/1 [00:00<00:00, 118.64it/s]\n",
      "avg val loss: 0.5911: 100%|██████████████████████████████████████████████████████████████████████████████████████████████████████████████████████████████████████████████████████████| 1/1 [00:00<00:00, 189.01it/s]\n"
     ]
    },
    {
     "name": "stdout",
     "output_type": "stream",
     "text": [
      "---  Accuracy : 0.5555555820465088 \n",
      "\n",
      "\n",
      "best val loss 0.5915 -> 0.5911\n",
      "\n",
      "Starting epoch 248 / 300\n"
     ]
    },
    {
     "name": "stderr",
     "output_type": "stream",
     "text": [
      "avg train loss: 0.3687: 100%|████████████████████████████████████████████████████████████████████████████████████████████████████████████████████████████████████████████████████████| 1/1 [00:00<00:00, 136.15it/s]\n",
      "avg val loss: 0.5906: 100%|██████████████████████████████████████████████████████████████████████████████████████████████████████████████████████████████████████████████████████████| 1/1 [00:00<00:00, 213.73it/s]\n"
     ]
    },
    {
     "name": "stdout",
     "output_type": "stream",
     "text": [
      "---  Accuracy : 0.5555555820465088 \n",
      "\n",
      "\n",
      "best val loss 0.5911 -> 0.5906\n",
      "\n",
      "Starting epoch 249 / 300\n"
     ]
    },
    {
     "name": "stderr",
     "output_type": "stream",
     "text": [
      "avg train loss: 0.3677: 100%|████████████████████████████████████████████████████████████████████████████████████████████████████████████████████████████████████████████████████████| 1/1 [00:00<00:00, 137.99it/s]\n",
      "avg val loss: 0.5901: 100%|██████████████████████████████████████████████████████████████████████████████████████████████████████████████████████████████████████████████████████████| 1/1 [00:00<00:00, 214.43it/s]\n"
     ]
    },
    {
     "name": "stdout",
     "output_type": "stream",
     "text": [
      "---  Accuracy : 0.5555555820465088 \n",
      "\n",
      "\n",
      "best val loss 0.5906 -> 0.5901\n",
      "\n",
      "Starting epoch 250 / 300\n"
     ]
    },
    {
     "name": "stderr",
     "output_type": "stream",
     "text": [
      "avg train loss: 0.3667: 100%|████████████████████████████████████████████████████████████████████████████████████████████████████████████████████████████████████████████████████████| 1/1 [00:00<00:00, 138.22it/s]\n",
      "avg val loss: 0.5897: 100%|██████████████████████████████████████████████████████████████████████████████████████████████████████████████████████████████████████████████████████████| 1/1 [00:00<00:00, 226.40it/s]\n"
     ]
    },
    {
     "name": "stdout",
     "output_type": "stream",
     "text": [
      "---  Accuracy : 0.5555555820465088 \n",
      "\n",
      "\n",
      "best val loss 0.5901 -> 0.5897\n",
      "\n",
      "Starting epoch 251 / 300\n"
     ]
    },
    {
     "name": "stderr",
     "output_type": "stream",
     "text": [
      "avg train loss: 0.3657: 100%|████████████████████████████████████████████████████████████████████████████████████████████████████████████████████████████████████████████████████████| 1/1 [00:00<00:00, 138.50it/s]\n",
      "avg val loss: 0.5893: 100%|██████████████████████████████████████████████████████████████████████████████████████████████████████████████████████████████████████████████████████████| 1/1 [00:00<00:00, 186.75it/s]\n"
     ]
    },
    {
     "name": "stdout",
     "output_type": "stream",
     "text": [
      "---  Accuracy : 0.5555555820465088 \n",
      "\n",
      "\n",
      "best val loss 0.5897 -> 0.5893\n",
      "\n",
      "Starting epoch 252 / 300\n"
     ]
    },
    {
     "name": "stderr",
     "output_type": "stream",
     "text": [
      "avg train loss: 0.3647: 100%|████████████████████████████████████████████████████████████████████████████████████████████████████████████████████████████████████████████████████████| 1/1 [00:00<00:00, 109.91it/s]\n",
      "avg val loss: 0.5888: 100%|██████████████████████████████████████████████████████████████████████████████████████████████████████████████████████████████████████████████████████████| 1/1 [00:00<00:00, 302.58it/s]\n"
     ]
    },
    {
     "name": "stdout",
     "output_type": "stream",
     "text": [
      "---  Accuracy : 0.5555555820465088 \n",
      "\n",
      "\n",
      "best val loss 0.5893 -> 0.5888\n",
      "\n",
      "Starting epoch 253 / 300\n"
     ]
    },
    {
     "name": "stderr",
     "output_type": "stream",
     "text": [
      "avg train loss: 0.3637: 100%|█████████████████████████████████████████████████████████████████████████████████████████████████████████████████████████████████████████████████████████| 1/1 [00:00<00:00, 93.53it/s]\n",
      "avg val loss: 0.5884: 100%|██████████████████████████████████████████████████████████████████████████████████████████████████████████████████████████████████████████████████████████| 1/1 [00:00<00:00, 324.84it/s]\n"
     ]
    },
    {
     "name": "stdout",
     "output_type": "stream",
     "text": [
      "---  Accuracy : 0.5555555820465088 \n",
      "\n",
      "\n",
      "best val loss 0.5888 -> 0.5884\n",
      "\n",
      "Starting epoch 254 / 300\n"
     ]
    },
    {
     "name": "stderr",
     "output_type": "stream",
     "text": [
      "avg train loss: 0.3627: 100%|█████████████████████████████████████████████████████████████████████████████████████████████████████████████████████████████████████████████████████████| 1/1 [00:00<00:00, 86.67it/s]\n",
      "avg val loss: 0.5880: 100%|██████████████████████████████████████████████████████████████████████████████████████████████████████████████████████████████████████████████████████████| 1/1 [00:00<00:00, 335.33it/s]\n"
     ]
    },
    {
     "name": "stdout",
     "output_type": "stream",
     "text": [
      "---  Accuracy : 0.5555555820465088 \n",
      "\n",
      "\n",
      "best val loss 0.5884 -> 0.5880\n",
      "\n",
      "Starting epoch 255 / 300\n"
     ]
    },
    {
     "name": "stderr",
     "output_type": "stream",
     "text": [
      "avg train loss: 0.3617: 100%|█████████████████████████████████████████████████████████████████████████████████████████████████████████████████████████████████████████████████████████| 1/1 [00:00<00:00, 86.57it/s]\n",
      "avg val loss: 0.5875: 100%|██████████████████████████████████████████████████████████████████████████████████████████████████████████████████████████████████████████████████████████| 1/1 [00:00<00:00, 354.55it/s]\n"
     ]
    },
    {
     "name": "stdout",
     "output_type": "stream",
     "text": [
      "---  Accuracy : 0.5555555820465088 \n",
      "\n",
      "\n",
      "best val loss 0.5880 -> 0.5875\n",
      "\n",
      "Starting epoch 256 / 300\n"
     ]
    },
    {
     "name": "stderr",
     "output_type": "stream",
     "text": [
      "avg train loss: 0.3607: 100%|█████████████████████████████████████████████████████████████████████████████████████████████████████████████████████████████████████████████████████████| 1/1 [00:00<00:00, 87.87it/s]\n",
      "avg val loss: 0.5871: 100%|██████████████████████████████████████████████████████████████████████████████████████████████████████████████████████████████████████████████████████████| 1/1 [00:00<00:00, 236.15it/s]\n"
     ]
    },
    {
     "name": "stdout",
     "output_type": "stream",
     "text": [
      "---  Accuracy : 0.5555555820465088 \n",
      "\n",
      "\n",
      "best val loss 0.5875 -> 0.5871\n",
      "\n",
      "Starting epoch 257 / 300\n"
     ]
    },
    {
     "name": "stderr",
     "output_type": "stream",
     "text": [
      "avg train loss: 0.3597: 100%|████████████████████████████████████████████████████████████████████████████████████████████████████████████████████████████████████████████████████████| 1/1 [00:00<00:00, 133.79it/s]\n",
      "avg val loss: 0.5867: 100%|██████████████████████████████████████████████████████████████████████████████████████████████████████████████████████████████████████████████████████████| 1/1 [00:00<00:00, 306.94it/s]\n"
     ]
    },
    {
     "name": "stdout",
     "output_type": "stream",
     "text": [
      "---  Accuracy : 0.5555555820465088 \n",
      "\n",
      "\n",
      "best val loss 0.5871 -> 0.5867\n",
      "\n",
      "Starting epoch 258 / 300\n"
     ]
    },
    {
     "name": "stderr",
     "output_type": "stream",
     "text": [
      "avg train loss: 0.3587: 100%|████████████████████████████████████████████████████████████████████████████████████████████████████████████████████████████████████████████████████████| 1/1 [00:00<00:00, 120.10it/s]\n",
      "avg val loss: 0.5863: 100%|██████████████████████████████████████████████████████████████████████████████████████████████████████████████████████████████████████████████████████████| 1/1 [00:00<00:00, 258.49it/s]\n"
     ]
    },
    {
     "name": "stdout",
     "output_type": "stream",
     "text": [
      "---  Accuracy : 0.5555555820465088 \n",
      "\n",
      "\n",
      "best val loss 0.5867 -> 0.5863\n",
      "\n",
      "Starting epoch 259 / 300\n"
     ]
    },
    {
     "name": "stderr",
     "output_type": "stream",
     "text": [
      "avg train loss: 0.3577: 100%|████████████████████████████████████████████████████████████████████████████████████████████████████████████████████████████████████████████████████████| 1/1 [00:00<00:00, 130.64it/s]\n",
      "avg val loss: 0.5859: 100%|██████████████████████████████████████████████████████████████████████████████████████████████████████████████████████████████████████████████████████████| 1/1 [00:00<00:00, 293.90it/s]\n"
     ]
    },
    {
     "name": "stdout",
     "output_type": "stream",
     "text": [
      "---  Accuracy : 0.5555555820465088 \n",
      "\n",
      "\n",
      "best val loss 0.5863 -> 0.5859\n",
      "\n",
      "Starting epoch 260 / 300\n"
     ]
    },
    {
     "name": "stderr",
     "output_type": "stream",
     "text": [
      "avg train loss: 0.3567: 100%|████████████████████████████████████████████████████████████████████████████████████████████████████████████████████████████████████████████████████████| 1/1 [00:00<00:00, 123.86it/s]\n",
      "avg val loss: 0.5855: 100%|██████████████████████████████████████████████████████████████████████████████████████████████████████████████████████████████████████████████████████████| 1/1 [00:00<00:00, 353.03it/s]\n"
     ]
    },
    {
     "name": "stdout",
     "output_type": "stream",
     "text": [
      "---  Accuracy : 0.5555555820465088 \n",
      "\n",
      "\n",
      "best val loss 0.5859 -> 0.5855\n",
      "\n",
      "Starting epoch 261 / 300\n"
     ]
    },
    {
     "name": "stderr",
     "output_type": "stream",
     "text": [
      "avg train loss: 0.3558: 100%|████████████████████████████████████████████████████████████████████████████████████████████████████████████████████████████████████████████████████████| 1/1 [00:00<00:00, 124.88it/s]\n",
      "avg val loss: 0.5851: 100%|██████████████████████████████████████████████████████████████████████████████████████████████████████████████████████████████████████████████████████████| 1/1 [00:00<00:00, 331.02it/s]\n"
     ]
    },
    {
     "name": "stdout",
     "output_type": "stream",
     "text": [
      "---  Accuracy : 0.5555555820465088 \n",
      "\n",
      "\n",
      "best val loss 0.5855 -> 0.5851\n",
      "\n",
      "Starting epoch 262 / 300\n"
     ]
    },
    {
     "name": "stderr",
     "output_type": "stream",
     "text": [
      "avg train loss: 0.3548: 100%|████████████████████████████████████████████████████████████████████████████████████████████████████████████████████████████████████████████████████████| 1/1 [00:00<00:00, 123.12it/s]\n",
      "avg val loss: 0.5847: 100%|██████████████████████████████████████████████████████████████████████████████████████████████████████████████████████████████████████████████████████████| 1/1 [00:00<00:00, 276.21it/s]\n"
     ]
    },
    {
     "name": "stdout",
     "output_type": "stream",
     "text": [
      "---  Accuracy : 0.5555555820465088 \n",
      "\n",
      "\n",
      "best val loss 0.5851 -> 0.5847\n",
      "\n",
      "Starting epoch 263 / 300\n"
     ]
    },
    {
     "name": "stderr",
     "output_type": "stream",
     "text": [
      "avg train loss: 0.3538: 100%|████████████████████████████████████████████████████████████████████████████████████████████████████████████████████████████████████████████████████████| 1/1 [00:00<00:00, 131.47it/s]\n",
      "avg val loss: 0.5844: 100%|██████████████████████████████████████████████████████████████████████████████████████████████████████████████████████████████████████████████████████████| 1/1 [00:00<00:00, 351.78it/s]\n"
     ]
    },
    {
     "name": "stdout",
     "output_type": "stream",
     "text": [
      "---  Accuracy : 0.5555555820465088 \n",
      "\n",
      "\n",
      "best val loss 0.5847 -> 0.5844\n",
      "\n",
      "Starting epoch 264 / 300\n"
     ]
    },
    {
     "name": "stderr",
     "output_type": "stream",
     "text": [
      "avg train loss: 0.3528: 100%|████████████████████████████████████████████████████████████████████████████████████████████████████████████████████████████████████████████████████████| 1/1 [00:00<00:00, 115.96it/s]\n",
      "avg val loss: 0.5840: 100%|██████████████████████████████████████████████████████████████████████████████████████████████████████████████████████████████████████████████████████████| 1/1 [00:00<00:00, 437.13it/s]\n"
     ]
    },
    {
     "name": "stdout",
     "output_type": "stream",
     "text": [
      "---  Accuracy : 0.5555555820465088 \n",
      "\n",
      "\n",
      "best val loss 0.5844 -> 0.5840\n",
      "\n",
      "Starting epoch 265 / 300\n"
     ]
    },
    {
     "name": "stderr",
     "output_type": "stream",
     "text": [
      "avg train loss: 0.3518: 100%|████████████████████████████████████████████████████████████████████████████████████████████████████████████████████████████████████████████████████████| 1/1 [00:00<00:00, 111.89it/s]\n",
      "avg val loss: 0.5836: 100%|██████████████████████████████████████████████████████████████████████████████████████████████████████████████████████████████████████████████████████████| 1/1 [00:00<00:00, 414.01it/s]\n"
     ]
    },
    {
     "name": "stdout",
     "output_type": "stream",
     "text": [
      "---  Accuracy : 0.5555555820465088 \n",
      "\n",
      "\n",
      "best val loss 0.5840 -> 0.5836\n",
      "\n",
      "Starting epoch 266 / 300\n"
     ]
    },
    {
     "name": "stderr",
     "output_type": "stream",
     "text": [
      "avg train loss: 0.3509: 100%|████████████████████████████████████████████████████████████████████████████████████████████████████████████████████████████████████████████████████████| 1/1 [00:00<00:00, 118.26it/s]\n",
      "avg val loss: 0.5832: 100%|██████████████████████████████████████████████████████████████████████████████████████████████████████████████████████████████████████████████████████████| 1/1 [00:00<00:00, 353.95it/s]\n"
     ]
    },
    {
     "name": "stdout",
     "output_type": "stream",
     "text": [
      "---  Accuracy : 0.5555555820465088 \n",
      "\n",
      "\n",
      "best val loss 0.5836 -> 0.5832\n",
      "\n",
      "Starting epoch 267 / 300\n"
     ]
    },
    {
     "name": "stderr",
     "output_type": "stream",
     "text": [
      "avg train loss: 0.3499: 100%|████████████████████████████████████████████████████████████████████████████████████████████████████████████████████████████████████████████████████████| 1/1 [00:00<00:00, 106.81it/s]\n",
      "avg val loss: 0.5829: 100%|██████████████████████████████████████████████████████████████████████████████████████████████████████████████████████████████████████████████████████████| 1/1 [00:00<00:00, 325.14it/s]\n"
     ]
    },
    {
     "name": "stdout",
     "output_type": "stream",
     "text": [
      "---  Accuracy : 0.5555555820465088 \n",
      "\n",
      "\n",
      "best val loss 0.5832 -> 0.5829\n",
      "\n",
      "Starting epoch 268 / 300\n"
     ]
    },
    {
     "name": "stderr",
     "output_type": "stream",
     "text": [
      "avg train loss: 0.3489: 100%|████████████████████████████████████████████████████████████████████████████████████████████████████████████████████████████████████████████████████████| 1/1 [00:00<00:00, 123.49it/s]\n",
      "avg val loss: 0.5825: 100%|██████████████████████████████████████████████████████████████████████████████████████████████████████████████████████████████████████████████████████████| 1/1 [00:00<00:00, 244.51it/s]\n"
     ]
    },
    {
     "name": "stdout",
     "output_type": "stream",
     "text": [
      "---  Accuracy : 0.5555555820465088 \n",
      "\n",
      "\n",
      "best val loss 0.5829 -> 0.5825\n",
      "\n",
      "Starting epoch 269 / 300\n"
     ]
    },
    {
     "name": "stderr",
     "output_type": "stream",
     "text": [
      "avg train loss: 0.3479: 100%|████████████████████████████████████████████████████████████████████████████████████████████████████████████████████████████████████████████████████████| 1/1 [00:00<00:00, 113.92it/s]\n",
      "avg val loss: 0.5822: 100%|██████████████████████████████████████████████████████████████████████████████████████████████████████████████████████████████████████████████████████████| 1/1 [00:00<00:00, 329.79it/s]\n"
     ]
    },
    {
     "name": "stdout",
     "output_type": "stream",
     "text": [
      "---  Accuracy : 0.5555555820465088 \n",
      "\n",
      "\n",
      "best val loss 0.5825 -> 0.5822\n",
      "\n",
      "Starting epoch 270 / 300\n"
     ]
    },
    {
     "name": "stderr",
     "output_type": "stream",
     "text": [
      "avg train loss: 0.3470: 100%|█████████████████████████████████████████████████████████████████████████████████████████████████████████████████████████████████████████████████████████| 1/1 [00:00<00:00, 99.40it/s]\n",
      "avg val loss: 0.5818: 100%|██████████████████████████████████████████████████████████████████████████████████████████████████████████████████████████████████████████████████████████| 1/1 [00:00<00:00, 186.90it/s]\n"
     ]
    },
    {
     "name": "stdout",
     "output_type": "stream",
     "text": [
      "---  Accuracy : 0.5555555820465088 \n",
      "\n",
      "\n",
      "best val loss 0.5822 -> 0.5818\n",
      "\n",
      "Starting epoch 271 / 300\n"
     ]
    },
    {
     "name": "stderr",
     "output_type": "stream",
     "text": [
      "avg train loss: 0.3460: 100%|████████████████████████████████████████████████████████████████████████████████████████████████████████████████████████████████████████████████████████| 1/1 [00:00<00:00, 130.77it/s]\n",
      "avg val loss: 0.5815: 100%|██████████████████████████████████████████████████████████████████████████████████████████████████████████████████████████████████████████████████████████| 1/1 [00:00<00:00, 186.26it/s]\n"
     ]
    },
    {
     "name": "stdout",
     "output_type": "stream",
     "text": [
      "---  Accuracy : 0.5555555820465088 \n",
      "\n",
      "\n",
      "best val loss 0.5818 -> 0.5815\n",
      "\n",
      "Starting epoch 272 / 300\n"
     ]
    },
    {
     "name": "stderr",
     "output_type": "stream",
     "text": [
      "avg train loss: 0.3450: 100%|████████████████████████████████████████████████████████████████████████████████████████████████████████████████████████████████████████████████████████| 1/1 [00:00<00:00, 133.82it/s]\n",
      "avg val loss: 0.5811: 100%|██████████████████████████████████████████████████████████████████████████████████████████████████████████████████████████████████████████████████████████| 1/1 [00:00<00:00, 204.81it/s]\n"
     ]
    },
    {
     "name": "stdout",
     "output_type": "stream",
     "text": [
      "---  Accuracy : 0.5555555820465088 \n",
      "\n",
      "\n",
      "best val loss 0.5815 -> 0.5811\n",
      "\n",
      "Starting epoch 273 / 300\n"
     ]
    },
    {
     "name": "stderr",
     "output_type": "stream",
     "text": [
      "avg train loss: 0.3441: 100%|████████████████████████████████████████████████████████████████████████████████████████████████████████████████████████████████████████████████████████| 1/1 [00:00<00:00, 108.51it/s]\n",
      "avg val loss: 0.5808: 100%|██████████████████████████████████████████████████████████████████████████████████████████████████████████████████████████████████████████████████████████| 1/1 [00:00<00:00, 229.75it/s]\n"
     ]
    },
    {
     "name": "stdout",
     "output_type": "stream",
     "text": [
      "---  Accuracy : 0.5555555820465088 \n",
      "\n",
      "\n",
      "best val loss 0.5811 -> 0.5808\n",
      "\n",
      "Starting epoch 274 / 300\n"
     ]
    },
    {
     "name": "stderr",
     "output_type": "stream",
     "text": [
      "avg train loss: 0.3431: 100%|█████████████████████████████████████████████████████████████████████████████████████████████████████████████████████████████████████████████████████████| 1/1 [00:00<00:00, 87.78it/s]\n",
      "avg val loss: 0.5805: 100%|██████████████████████████████████████████████████████████████████████████████████████████████████████████████████████████████████████████████████████████| 1/1 [00:00<00:00, 356.72it/s]\n"
     ]
    },
    {
     "name": "stdout",
     "output_type": "stream",
     "text": [
      "---  Accuracy : 0.5555555820465088 \n",
      "\n",
      "\n",
      "best val loss 0.5808 -> 0.5805\n",
      "\n",
      "Starting epoch 275 / 300\n"
     ]
    },
    {
     "name": "stderr",
     "output_type": "stream",
     "text": [
      "avg train loss: 0.3422: 100%|█████████████████████████████████████████████████████████████████████████████████████████████████████████████████████████████████████████████████████████| 1/1 [00:00<00:00, 83.06it/s]\n",
      "avg val loss: 0.5801: 100%|██████████████████████████████████████████████████████████████████████████████████████████████████████████████████████████████████████████████████████████| 1/1 [00:00<00:00, 237.33it/s]\n"
     ]
    },
    {
     "name": "stdout",
     "output_type": "stream",
     "text": [
      "---  Accuracy : 0.5555555820465088 \n",
      "\n",
      "\n",
      "best val loss 0.5805 -> 0.5801\n",
      "\n",
      "Starting epoch 276 / 300\n"
     ]
    },
    {
     "name": "stderr",
     "output_type": "stream",
     "text": [
      "avg train loss: 0.3412: 100%|█████████████████████████████████████████████████████████████████████████████████████████████████████████████████████████████████████████████████████████| 1/1 [00:00<00:00, 73.03it/s]\n",
      "avg val loss: 0.5798: 100%|██████████████████████████████████████████████████████████████████████████████████████████████████████████████████████████████████████████████████████████| 1/1 [00:00<00:00, 176.36it/s]\n"
     ]
    },
    {
     "name": "stdout",
     "output_type": "stream",
     "text": [
      "---  Accuracy : 0.5555555820465088 \n",
      "\n",
      "\n",
      "best val loss 0.5801 -> 0.5798\n",
      "\n",
      "Starting epoch 277 / 300\n"
     ]
    },
    {
     "name": "stderr",
     "output_type": "stream",
     "text": [
      "avg train loss: 0.3403: 100%|█████████████████████████████████████████████████████████████████████████████████████████████████████████████████████████████████████████████████████████| 1/1 [00:00<00:00, 78.67it/s]\n",
      "avg val loss: 0.5795: 100%|██████████████████████████████████████████████████████████████████████████████████████████████████████████████████████████████████████████████████████████| 1/1 [00:00<00:00, 183.34it/s]"
     ]
    },
    {
     "name": "stdout",
     "output_type": "stream",
     "text": [
      "---  Accuracy : 0.5555555820465088 \n",
      "\n",
      "\n",
      "best val loss 0.5798 -> 0.5795\n",
      "\n",
      "Starting epoch 278 / 300\n"
     ]
    },
    {
     "name": "stderr",
     "output_type": "stream",
     "text": [
      "\n",
      "avg train loss: 0.3393: 100%|████████████████████████████████████████████████████████████████████████████████████████████████████████████████████████████████████████████████████████| 1/1 [00:00<00:00, 106.43it/s]\n",
      "avg val loss: 0.5792: 100%|██████████████████████████████████████████████████████████████████████████████████████████████████████████████████████████████████████████████████████████| 1/1 [00:00<00:00, 185.49it/s]\n"
     ]
    },
    {
     "name": "stdout",
     "output_type": "stream",
     "text": [
      "---  Accuracy : 0.5555555820465088 \n",
      "\n",
      "\n",
      "best val loss 0.5795 -> 0.5792\n",
      "\n",
      "Starting epoch 279 / 300\n"
     ]
    },
    {
     "name": "stderr",
     "output_type": "stream",
     "text": [
      "avg train loss: 0.3384: 100%|████████████████████████████████████████████████████████████████████████████████████████████████████████████████████████████████████████████████████████| 1/1 [00:00<00:00, 125.73it/s]\n",
      "avg val loss: 0.5789: 100%|██████████████████████████████████████████████████████████████████████████████████████████████████████████████████████████████████████████████████████████| 1/1 [00:00<00:00, 215.35it/s]\n"
     ]
    },
    {
     "name": "stdout",
     "output_type": "stream",
     "text": [
      "---  Accuracy : 0.5555555820465088 \n",
      "\n",
      "\n",
      "best val loss 0.5792 -> 0.5789\n",
      "\n",
      "Starting epoch 280 / 300\n"
     ]
    },
    {
     "name": "stderr",
     "output_type": "stream",
     "text": [
      "avg train loss: 0.3374: 100%|████████████████████████████████████████████████████████████████████████████████████████████████████████████████████████████████████████████████████████| 1/1 [00:00<00:00, 122.45it/s]\n",
      "avg val loss: 0.5786: 100%|██████████████████████████████████████████████████████████████████████████████████████████████████████████████████████████████████████████████████████████| 1/1 [00:00<00:00, 218.39it/s]\n"
     ]
    },
    {
     "name": "stdout",
     "output_type": "stream",
     "text": [
      "---  Accuracy : 0.5555555820465088 \n",
      "\n",
      "\n",
      "best val loss 0.5789 -> 0.5786\n",
      "\n",
      "Starting epoch 281 / 300\n"
     ]
    },
    {
     "name": "stderr",
     "output_type": "stream",
     "text": [
      "avg train loss: 0.3365: 100%|████████████████████████████████████████████████████████████████████████████████████████████████████████████████████████████████████████████████████████| 1/1 [00:00<00:00, 125.82it/s]\n",
      "avg val loss: 0.5783: 100%|██████████████████████████████████████████████████████████████████████████████████████████████████████████████████████████████████████████████████████████| 1/1 [00:00<00:00, 226.61it/s]\n"
     ]
    },
    {
     "name": "stdout",
     "output_type": "stream",
     "text": [
      "---  Accuracy : 0.5555555820465088 \n",
      "\n",
      "\n",
      "best val loss 0.5786 -> 0.5783\n",
      "\n",
      "Starting epoch 282 / 300\n"
     ]
    },
    {
     "name": "stderr",
     "output_type": "stream",
     "text": [
      "avg train loss: 0.3355: 100%|████████████████████████████████████████████████████████████████████████████████████████████████████████████████████████████████████████████████████████| 1/1 [00:00<00:00, 112.01it/s]\n",
      "avg val loss: 0.5780: 100%|██████████████████████████████████████████████████████████████████████████████████████████████████████████████████████████████████████████████████████████| 1/1 [00:00<00:00, 311.43it/s]\n"
     ]
    },
    {
     "name": "stdout",
     "output_type": "stream",
     "text": [
      "---  Accuracy : 0.5555555820465088 \n",
      "\n",
      "\n",
      "best val loss 0.5783 -> 0.5780\n",
      "\n",
      "Starting epoch 283 / 300\n"
     ]
    },
    {
     "name": "stderr",
     "output_type": "stream",
     "text": [
      "avg train loss: 0.3346: 100%|████████████████████████████████████████████████████████████████████████████████████████████████████████████████████████████████████████████████████████| 1/1 [00:00<00:00, 109.29it/s]\n",
      "avg val loss: 0.5777: 100%|██████████████████████████████████████████████████████████████████████████████████████████████████████████████████████████████████████████████████████████| 1/1 [00:00<00:00, 309.63it/s]\n"
     ]
    },
    {
     "name": "stdout",
     "output_type": "stream",
     "text": [
      "---  Accuracy : 0.5555555820465088 \n",
      "\n",
      "\n",
      "best val loss 0.5780 -> 0.5777\n",
      "\n",
      "Starting epoch 284 / 300\n"
     ]
    },
    {
     "name": "stderr",
     "output_type": "stream",
     "text": [
      "avg train loss: 0.3337: 100%|████████████████████████████████████████████████████████████████████████████████████████████████████████████████████████████████████████████████████████| 1/1 [00:00<00:00, 104.41it/s]\n",
      "avg val loss: 0.5774: 100%|██████████████████████████████████████████████████████████████████████████████████████████████████████████████████████████████████████████████████████████| 1/1 [00:00<00:00, 335.49it/s]\n"
     ]
    },
    {
     "name": "stdout",
     "output_type": "stream",
     "text": [
      "---  Accuracy : 0.5555555820465088 \n",
      "\n",
      "\n",
      "best val loss 0.5777 -> 0.5774\n",
      "\n",
      "Starting epoch 285 / 300\n"
     ]
    },
    {
     "name": "stderr",
     "output_type": "stream",
     "text": [
      "avg train loss: 0.3327: 100%|█████████████████████████████████████████████████████████████████████████████████████████████████████████████████████████████████████████████████████████| 1/1 [00:00<00:00, 97.38it/s]\n",
      "avg val loss: 0.5771: 100%|██████████████████████████████████████████████████████████████████████████████████████████████████████████████████████████████████████████████████████████| 1/1 [00:00<00:00, 343.12it/s]\n"
     ]
    },
    {
     "name": "stdout",
     "output_type": "stream",
     "text": [
      "---  Accuracy : 0.5555555820465088 \n",
      "\n",
      "\n",
      "best val loss 0.5774 -> 0.5771\n",
      "\n",
      "Starting epoch 286 / 300\n"
     ]
    },
    {
     "name": "stderr",
     "output_type": "stream",
     "text": [
      "avg train loss: 0.3318: 100%|█████████████████████████████████████████████████████████████████████████████████████████████████████████████████████████████████████████████████████████| 1/1 [00:00<00:00, 91.63it/s]\n",
      "avg val loss: 0.5768: 100%|██████████████████████████████████████████████████████████████████████████████████████████████████████████████████████████████████████████████████████████| 1/1 [00:00<00:00, 356.29it/s]\n"
     ]
    },
    {
     "name": "stdout",
     "output_type": "stream",
     "text": [
      "---  Accuracy : 0.5555555820465088 \n",
      "\n",
      "\n",
      "best val loss 0.5771 -> 0.5768\n",
      "\n",
      "Starting epoch 287 / 300\n"
     ]
    },
    {
     "name": "stderr",
     "output_type": "stream",
     "text": [
      "avg train loss: 0.3309: 100%|█████████████████████████████████████████████████████████████████████████████████████████████████████████████████████████████████████████████████████████| 1/1 [00:00<00:00, 88.47it/s]\n",
      "avg val loss: 0.5765: 100%|██████████████████████████████████████████████████████████████████████████████████████████████████████████████████████████████████████████████████████████| 1/1 [00:00<00:00, 371.14it/s]\n"
     ]
    },
    {
     "name": "stdout",
     "output_type": "stream",
     "text": [
      "---  Accuracy : 0.5555555820465088 \n",
      "\n",
      "\n",
      "best val loss 0.5768 -> 0.5765\n",
      "\n",
      "Starting epoch 288 / 300\n"
     ]
    },
    {
     "name": "stderr",
     "output_type": "stream",
     "text": [
      "avg train loss: 0.3299: 100%|█████████████████████████████████████████████████████████████████████████████████████████████████████████████████████████████████████████████████████████| 1/1 [00:00<00:00, 95.38it/s]\n",
      "avg val loss: 0.5762: 100%|██████████████████████████████████████████████████████████████████████████████████████████████████████████████████████████████████████████████████████████| 1/1 [00:00<00:00, 372.00it/s]\n"
     ]
    },
    {
     "name": "stdout",
     "output_type": "stream",
     "text": [
      "---  Accuracy : 0.5555555820465088 \n",
      "\n",
      "\n",
      "best val loss 0.5765 -> 0.5762\n",
      "\n",
      "Starting epoch 289 / 300\n"
     ]
    },
    {
     "name": "stderr",
     "output_type": "stream",
     "text": [
      "avg train loss: 0.3290: 100%|████████████████████████████████████████████████████████████████████████████████████████████████████████████████████████████████████████████████████████| 1/1 [00:00<00:00, 103.62it/s]\n",
      "avg val loss: 0.5759: 100%|██████████████████████████████████████████████████████████████████████████████████████████████████████████████████████████████████████████████████████████| 1/1 [00:00<00:00, 360.30it/s]\n"
     ]
    },
    {
     "name": "stdout",
     "output_type": "stream",
     "text": [
      "---  Accuracy : 0.5555555820465088 \n",
      "\n",
      "\n",
      "best val loss 0.5762 -> 0.5759\n",
      "\n",
      "Starting epoch 290 / 300\n"
     ]
    },
    {
     "name": "stderr",
     "output_type": "stream",
     "text": [
      "avg train loss: 0.3281: 100%|████████████████████████████████████████████████████████████████████████████████████████████████████████████████████████████████████████████████████████| 1/1 [00:00<00:00, 100.81it/s]\n",
      "avg val loss: 0.5756: 100%|██████████████████████████████████████████████████████████████████████████████████████████████████████████████████████████████████████████████████████████| 1/1 [00:00<00:00, 286.61it/s]\n"
     ]
    },
    {
     "name": "stdout",
     "output_type": "stream",
     "text": [
      "---  Accuracy : 0.5555555820465088 \n",
      "\n",
      "\n",
      "best val loss 0.5759 -> 0.5756\n",
      "\n",
      "Starting epoch 291 / 300\n"
     ]
    },
    {
     "name": "stderr",
     "output_type": "stream",
     "text": [
      "avg train loss: 0.3271: 100%|████████████████████████████████████████████████████████████████████████████████████████████████████████████████████████████████████████████████████████| 1/1 [00:00<00:00, 115.69it/s]\n",
      "avg val loss: 0.5754: 100%|██████████████████████████████████████████████████████████████████████████████████████████████████████████████████████████████████████████████████████████| 1/1 [00:00<00:00, 217.32it/s]\n"
     ]
    },
    {
     "name": "stdout",
     "output_type": "stream",
     "text": [
      "---  Accuracy : 0.5555555820465088 \n",
      "\n",
      "\n",
      "best val loss 0.5756 -> 0.5754\n",
      "\n",
      "Starting epoch 292 / 300\n"
     ]
    },
    {
     "name": "stderr",
     "output_type": "stream",
     "text": [
      "avg train loss: 0.3262: 100%|████████████████████████████████████████████████████████████████████████████████████████████████████████████████████████████████████████████████████████| 1/1 [00:00<00:00, 130.14it/s]\n",
      "avg val loss: 0.5751: 100%|██████████████████████████████████████████████████████████████████████████████████████████████████████████████████████████████████████████████████████████| 1/1 [00:00<00:00, 216.47it/s]\n"
     ]
    },
    {
     "name": "stdout",
     "output_type": "stream",
     "text": [
      "---  Accuracy : 0.5555555820465088 \n",
      "\n",
      "\n",
      "best val loss 0.5754 -> 0.5751\n",
      "\n",
      "Starting epoch 293 / 300\n"
     ]
    },
    {
     "name": "stderr",
     "output_type": "stream",
     "text": [
      "avg train loss: 0.3253: 100%|████████████████████████████████████████████████████████████████████████████████████████████████████████████████████████████████████████████████████████| 1/1 [00:00<00:00, 136.24it/s]\n",
      "avg val loss: 0.5748: 100%|██████████████████████████████████████████████████████████████████████████████████████████████████████████████████████████████████████████████████████████| 1/1 [00:00<00:00, 191.75it/s]\n"
     ]
    },
    {
     "name": "stdout",
     "output_type": "stream",
     "text": [
      "---  Accuracy : 0.5555555820465088 \n",
      "\n",
      "\n",
      "best val loss 0.5751 -> 0.5748\n",
      "\n",
      "Starting epoch 294 / 300\n"
     ]
    },
    {
     "name": "stderr",
     "output_type": "stream",
     "text": [
      "avg train loss: 0.3244: 100%|█████████████████████████████████████████████████████████████████████████████████████████████████████████████████████████████████████████████████████████| 1/1 [00:00<00:00, 62.67it/s]\n",
      "avg val loss: 0.5745: 100%|███████████████████████████████████████████████████████████████████████████████████████████████████████████████████████████████████████████████████████████| 1/1 [00:00<00:00, 89.22it/s]\n"
     ]
    },
    {
     "name": "stdout",
     "output_type": "stream",
     "text": [
      "---  Accuracy : 0.5555555820465088 \n",
      "\n",
      "\n",
      "best val loss 0.5748 -> 0.5745\n",
      "\n",
      "Starting epoch 295 / 300\n"
     ]
    },
    {
     "name": "stderr",
     "output_type": "stream",
     "text": [
      "avg train loss: 0.3235: 100%|█████████████████████████████████████████████████████████████████████████████████████████████████████████████████████████████████████████████████████████| 1/1 [00:00<00:00, 96.21it/s]\n",
      "avg val loss: 0.5743: 100%|██████████████████████████████████████████████████████████████████████████████████████████████████████████████████████████████████████████████████████████| 1/1 [00:00<00:00, 213.32it/s]\n"
     ]
    },
    {
     "name": "stdout",
     "output_type": "stream",
     "text": [
      "---  Accuracy : 0.5555555820465088 \n",
      "\n",
      "\n",
      "best val loss 0.5745 -> 0.5743\n",
      "\n",
      "Starting epoch 296 / 300\n"
     ]
    },
    {
     "name": "stderr",
     "output_type": "stream",
     "text": [
      "avg train loss: 0.3226: 100%|█████████████████████████████████████████████████████████████████████████████████████████████████████████████████████████████████████████████████████████| 1/1 [00:00<00:00, 70.91it/s]\n",
      "avg val loss: 0.5740: 100%|██████████████████████████████████████████████████████████████████████████████████████████████████████████████████████████████████████████████████████████| 1/1 [00:00<00:00, 322.99it/s]\n"
     ]
    },
    {
     "name": "stdout",
     "output_type": "stream",
     "text": [
      "---  Accuracy : 0.5555555820465088 \n",
      "\n",
      "\n",
      "best val loss 0.5743 -> 0.5740\n",
      "\n",
      "Starting epoch 297 / 300\n"
     ]
    },
    {
     "name": "stderr",
     "output_type": "stream",
     "text": [
      "avg train loss: 0.3216: 100%|█████████████████████████████████████████████████████████████████████████████████████████████████████████████████████████████████████████████████████████| 1/1 [00:00<00:00, 97.72it/s]\n",
      "avg val loss: 0.5737: 100%|██████████████████████████████████████████████████████████████████████████████████████████████████████████████████████████████████████████████████████████| 1/1 [00:00<00:00, 231.88it/s]\n"
     ]
    },
    {
     "name": "stdout",
     "output_type": "stream",
     "text": [
      "---  Accuracy : 0.5555555820465088 \n",
      "\n",
      "\n",
      "best val loss 0.5740 -> 0.5737\n",
      "\n",
      "Starting epoch 298 / 300\n"
     ]
    },
    {
     "name": "stderr",
     "output_type": "stream",
     "text": [
      "avg train loss: 0.3207: 100%|████████████████████████████████████████████████████████████████████████████████████████████████████████████████████████████████████████████████████████| 1/1 [00:00<00:00, 131.77it/s]\n",
      "avg val loss: 0.5734: 100%|██████████████████████████████████████████████████████████████████████████████████████████████████████████████████████████████████████████████████████████| 1/1 [00:00<00:00, 306.20it/s]\n"
     ]
    },
    {
     "name": "stdout",
     "output_type": "stream",
     "text": [
      "---  Accuracy : 0.5555555820465088 \n",
      "\n",
      "\n",
      "best val loss 0.5737 -> 0.5734\n",
      "\n",
      "Starting epoch 299 / 300\n"
     ]
    },
    {
     "name": "stderr",
     "output_type": "stream",
     "text": [
      "avg train loss: 0.3198: 100%|████████████████████████████████████████████████████████████████████████████████████████████████████████████████████████████████████████████████████████| 1/1 [00:00<00:00, 102.96it/s]\n",
      "avg val loss: 0.5732: 100%|██████████████████████████████████████████████████████████████████████████████████████████████████████████████████████████████████████████████████████████| 1/1 [00:00<00:00, 250.62it/s]\n"
     ]
    },
    {
     "name": "stdout",
     "output_type": "stream",
     "text": [
      "---  Accuracy : 0.5555555820465088 \n",
      "\n",
      "\n",
      "best val loss 0.5734 -> 0.5732\n",
      "\n",
      "Starting epoch 300 / 300\n"
     ]
    },
    {
     "name": "stderr",
     "output_type": "stream",
     "text": [
      "avg train loss: 0.3189: 100%|████████████████████████████████████████████████████████████████████████████████████████████████████████████████████████████████████████████████████████| 1/1 [00:00<00:00, 110.79it/s]\n",
      "avg val loss: 0.5729: 100%|██████████████████████████████████████████████████████████████████████████████████████████████████████████████████████████████████████████████████████████| 1/1 [00:00<00:00, 171.38it/s]\n"
     ]
    },
    {
     "name": "stdout",
     "output_type": "stream",
     "text": [
      "---  Accuracy : 0.5555555820465088 \n",
      "\n",
      "\n",
      "best val loss 0.5732 -> 0.5729\n"
     ]
    },
    {
     "data": {
      "text/plain": [
       "CommonSpatialFilterModel(\n",
       "  (spatial_filtering): Conv2d(1, 30, kernel_size=(64, 1), stride=(1, 1), bias=False)\n",
       "  (classifier): Sequential(\n",
       "    (0): Linear(in_features=30, out_features=2, bias=True)\n",
       "  )\n",
       ")"
      ]
     },
     "execution_count": 9,
     "metadata": {},
     "output_type": "execute_result"
    }
   ],
   "source": [
    "lr = 1e-3\n",
    "n_epochs = 300\n",
    "patience = 100\n",
    "\n",
    "model.to(device=device)  # move to device before creating the optimizer\n",
    "optimizer = optim.SGD(model.parameters(), lr=lr, momentum=0.9,\n",
    "                      weight_decay=1e-4)\n",
    "\n",
    "train(model, loader_train, loader_valid, optimizer, n_epochs, patience, device)"
   ]
  },
  {
   "cell_type": "code",
   "execution_count": null,
   "id": "7a55bb4a",
   "metadata": {},
   "outputs": [],
   "source": []
  }
 ],
 "metadata": {
  "kernelspec": {
   "display_name": "Python 3 (ipykernel)",
   "language": "python",
   "name": "python3"
  },
  "language_info": {
   "codemirror_mode": {
    "name": "ipython",
    "version": 3
   },
   "file_extension": ".py",
   "mimetype": "text/x-python",
   "name": "python",
   "nbconvert_exporter": "python",
   "pygments_lexer": "ipython3",
   "version": "3.8.8"
  }
 },
 "nbformat": 4,
 "nbformat_minor": 5
}
